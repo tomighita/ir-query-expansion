{
 "cells": [
  {
   "metadata": {},
   "cell_type": "code",
   "source": "pip install python-terrier==0.10.0 fast-forward-indexes==0.2.0",
   "id": "edf4c1c76102bc49",
   "outputs": [],
   "execution_count": null
  },
  {
   "metadata": {},
   "cell_type": "markdown",
   "source": "Start PyTerrier",
   "id": "b4ea01bf24e695a6"
  },
  {
   "metadata": {},
   "cell_type": "code",
   "source": [
    "import pyterrier as pt\n",
    "\n",
    "if not pt.started():\n",
    "    pt.init(\n",
    "        tqdm=\"notebook\",\n",
    "        boot_packages=[\"com.github.terrierteam:terrier-prf:-SNAPSHOT\"]\n",
    "    )"
   ],
   "id": "d119fa68045fcdec",
   "outputs": [],
   "execution_count": null
  },
  {
   "metadata": {},
   "cell_type": "markdown",
   "source": "Select datasets and index indices",
   "id": "297f4f2c5ab3c228"
  },
  {
   "metadata": {},
   "cell_type": "code",
   "source": [
    "DATASET_NAME = \"beir/fiqa\"\n",
    "TESTSET_NAME = \"beir/fiqa/test\"\n",
    "BM25_INDEX_PATH = 'indices/fiqa'\n",
    "INDEX_PATH = 'indexes/ffindex_fiqa_tct_colbert_msmarco.h5'\n",
    "FIELDS = [\"text\"]\n",
    "\n",
    "SHOULD_RUN_GRID = False\n",
    "DEVSET_NAME = \"irds:beir/fiqa/train\""
   ],
   "id": "22eeae897a125187",
   "outputs": [],
   "execution_count": null
  },
  {
   "metadata": {},
   "cell_type": "code",
   "source": [
    "import ir_datasets\n",
    "dataset = pt.get_dataset('irds:' + DATASET_NAME)\n",
    "ir_ds = ir_datasets.load(DATASET_NAME)"
   ],
   "id": "37d3efd416d824d7",
   "outputs": [],
   "execution_count": null
  },
  {
   "metadata": {},
   "cell_type": "markdown",
   "source": "Create or load the sparse index",
   "id": "5bf20d5363f1b9ec"
  },
  {
   "metadata": {},
   "cell_type": "code",
   "source": [
    "from pathlib import Path\n",
    "\n",
    "idx_path = Path(BM25_INDEX_PATH).absolute()\n",
    "\n",
    "index_ref = pt.index.IterDictIndexer(\n",
    "    str(idx_path),\n",
    "    blocks=True,\n",
    "    meta={'docno': ir_ds.docs_metadata()['fields']['doc_id']['max_len'] }\n",
    ").index(dataset.get_corpus_iter(), fields=FIELDS)\n",
    "index_ref = index_ref.to_memory()"
   ],
   "id": "596d42a77efb0b69",
   "outputs": [],
   "execution_count": null
  },
  {
   "metadata": {},
   "cell_type": "markdown",
   "source": "Initialise BM25 and RM3",
   "id": "9b1e316f712d90f7"
  },
  {
   "metadata": {},
   "cell_type": "code",
   "source": [
    "from pyterrier.measures import RR, nDCG, MAP\n",
    "\n",
    "index = pt.IndexFactory.of(str(idx_path))\n",
    "\n",
    "bm25 = pt.BatchRetrieve(index, wmodel=\"BM25\")\n",
    "rm3 = pt.rewrite.RM3(index)\n",
    "testset = pt.get_dataset('irds:' + TESTSET_NAME)"
   ],
   "id": "960ec6d9cd21056d",
   "outputs": [],
   "execution_count": null
  },
  {
   "metadata": {},
   "cell_type": "markdown",
   "source": "Initialize TCT-ColBERT Encoder",
   "id": "eeb4eb8388abb1b4"
  },
  {
   "metadata": {},
   "cell_type": "code",
   "source": [
    "from fast_forward.encoder import TCTColBERTQueryEncoder, TCTColBERTDocumentEncoder\n",
    "import torch\n",
    "\n",
    "q_encoder = TCTColBERTQueryEncoder(\"castorini/tct_colbert-msmarco\")\n",
    "d_encoder = TCTColBERTDocumentEncoder(\n",
    "    \"castorini/tct_colbert-msmarco\",\n",
    "    device=\"cuda:0\" if torch.cuda.is_available() else \"cpu\",\n",
    ")\n",
    "q_encoder([\"Test query 1\", \"Test query 2\"])"
   ],
   "id": "f7cccceb324ab923",
   "outputs": [],
   "execution_count": null
  },
  {
   "metadata": {},
   "cell_type": "markdown",
   "source": "Load the FF-index",
   "id": "118dc5be575217b6"
  },
  {
   "metadata": {},
   "cell_type": "code",
   "source": [
    "from fast_forward import OnDiskIndex, Mode\n",
    "\n",
    "ff_index = OnDiskIndex.load(\n",
    "    Path(INDEX_PATH), query_encoder=q_encoder, mode=Mode.MAXP\n",
    ")\n",
    "ff_index = ff_index.to_memory()"
   ],
   "id": "385d13226ed95ea1",
   "outputs": [],
   "execution_count": null
  },
  {
   "metadata": {},
   "cell_type": "markdown",
   "source": "Create the re-ranking stage for the pipeline",
   "id": "a15cdcbb03a7402f"
  },
  {
   "metadata": {},
   "cell_type": "code",
   "source": [
    "from fast_forward.util.pyterrier import FFScore\n",
    "from fast_forward.util.pyterrier import FFInterpolate\n",
    "\n",
    "ff_score = FFScore(ff_index)\n",
    "candidates = (bm25 % 5)(testset.get_topics('text')) # Get the candidates\n",
    "re_ranked = ff_score(candidates)\n",
    "ff_int = FFInterpolate(alpha=0.05)\n",
    "ff_int(re_ranked)"
   ],
   "id": "b4e0c1d041a0a332",
   "outputs": [],
   "execution_count": null
  },
  {
   "metadata": {},
   "cell_type": "markdown",
   "source": "Run exhaustive search if required",
   "id": "b8b95a02f0ff75ea"
  },
  {
   "metadata": {},
   "cell_type": "code",
   "source": [
    "if SHOULD_RUN_GRID:\n",
    "    devset = pt.get_dataset(DEVSET_NAME)\n",
    "    pt.GridSearch(\n",
    "        ~bm25 % 100 >> ff_score >> ff_int,\n",
    "        {ff_int: {\"alpha\": [0.05, 0.1, 0.5, 0.9]}},\n",
    "        devset.get_topics(),\n",
    "        devset.get_qrels(),\n",
    "        \"map\",\n",
    "        verbose=True,\n",
    "    )\n",
    "ff_int.alpha"
   ],
   "id": "2ccf19d2729c063f",
   "outputs": [],
   "execution_count": null
  },
  {
   "metadata": {},
   "cell_type": "markdown",
   "source": "Run the experiment",
   "id": "a3f6df6756089f85"
  },
  {
   "metadata": {},
   "cell_type": "code",
   "source": [
    "result = pt.Experiment(\n",
    "    [\n",
    "        bm25,\n",
    "        bm25 % 5 >> rm3 >> bm25,\n",
    "        bm25 % 1000 >> ff_score >> ff_int,\n",
    "        bm25 % 5 >> rm3 >> bm25 % 1000 >> pt.rewrite.reset() >> ff_score >> ff_int,\n",
    "    ],\n",
    "    testset.get_topics('text'),\n",
    "    testset.get_qrels(),\n",
    "    eval_metrics=[RR @ 10, nDCG @ 10, MAP @ 100],\n",
    "    names=[\n",
    "        \"BM25\",\n",
    "        \"RM3\",\n",
    "        \"TCT-ColBERT\",\n",
    "        \"RM3+TCT-ColBERT\"\n",
    "    ]\n",
    ")\n",
    "result"
   ],
   "id": "9c42ebb0c1709305",
   "outputs": [],
   "execution_count": null
  },
  {
   "metadata": {},
   "cell_type": "markdown",
   "source": "Save results to CSV files",
   "id": "dfeb0898968df961"
  },
  {
   "metadata": {},
   "cell_type": "code",
   "source": [
    "import csv   \n",
    "\n",
    "name_to_csv = {\n",
    "    \"BM25\": \"results/BM25.csv\",\n",
    "    \"RM3\": \"results/RM3.csv\",\n",
    "    \"TCT-ColBERT\": \"results/BM25_FF.csv\",\n",
    "    \"RM3+TCT-ColBERT\": \"results/BM25_RM3_FF.csv\",\n",
    "}\n",
    "\n",
    "for index, row in result.iterrows():\n",
    "    with open(name_to_csv[row['name']], 'a') as f:\n",
    "        writer = csv.writer(f)\n",
    "        changed_row = [TESTSET_NAME, row.iloc[1], row.iloc[2], row.iloc[3]]\n",
    "        writer.writerow(changed_row)"
   ],
   "id": "5e5b21811e2f88ad",
   "outputs": [],
   "execution_count": null
  }
 ],
 "metadata": {
  "kernelspec": {
   "display_name": "Python 3",
   "language": "python",
   "name": "python3"
  },
  "language_info": {
   "codemirror_mode": {
    "name": "ipython",
    "version": 2
   },
   "file_extension": ".py",
   "mimetype": "text/x-python",
   "name": "python",
   "nbconvert_exporter": "python",
   "pygments_lexer": "ipython2",
   "version": "2.7.6"
  }
 },
 "nbformat": 4,
 "nbformat_minor": 5
}
