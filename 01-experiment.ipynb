{
 "cells": [
  {
   "metadata": {},
   "cell_type": "markdown",
   "source": "Install python-terrier and other libs",
   "id": "95f7f2f97b1bb6e5"
  },
  {
   "metadata": {
    "ExecuteTime": {
     "end_time": "2024-05-13T12:02:06.210280Z",
     "start_time": "2024-05-13T12:02:04.632252Z"
    }
   },
   "cell_type": "code",
   "source": "pip install python-terrier==0.10.0 fast-forward-indexes==0.2.0",
   "id": "3d9c944eae7d0426",
   "outputs": [
    {
     "name": "stdout",
     "output_type": "stream",
     "text": [
      "Requirement already satisfied: python-terrier==0.10.0 in ./.venv/lib/python3.12/site-packages (0.10.0)\r\n",
      "Requirement already satisfied: fast-forward-indexes==0.2.0 in ./.venv/lib/python3.12/site-packages (0.2.0)\r\n",
      "Requirement already satisfied: numpy in ./.venv/lib/python3.12/site-packages (from python-terrier==0.10.0) (1.26.4)\r\n",
      "Requirement already satisfied: pandas in ./.venv/lib/python3.12/site-packages (from python-terrier==0.10.0) (2.2.2)\r\n",
      "Requirement already satisfied: wget in ./.venv/lib/python3.12/site-packages (from python-terrier==0.10.0) (3.2)\r\n",
      "Requirement already satisfied: tqdm in ./.venv/lib/python3.12/site-packages (from python-terrier==0.10.0) (4.66.2)\r\n",
      "Requirement already satisfied: pyjnius>=1.4.2 in ./.venv/lib/python3.12/site-packages (from python-terrier==0.10.0) (1.6.1)\r\n",
      "Requirement already satisfied: matchpy in ./.venv/lib/python3.12/site-packages (from python-terrier==0.10.0) (0.5.5)\r\n",
      "Requirement already satisfied: scikit-learn in ./.venv/lib/python3.12/site-packages (from python-terrier==0.10.0) (1.4.2)\r\n",
      "Requirement already satisfied: deprecated in ./.venv/lib/python3.12/site-packages (from python-terrier==0.10.0) (1.2.14)\r\n",
      "Requirement already satisfied: chest in ./.venv/lib/python3.12/site-packages (from python-terrier==0.10.0) (0.2.3)\r\n",
      "Requirement already satisfied: scipy in ./.venv/lib/python3.12/site-packages (from python-terrier==0.10.0) (1.13.0)\r\n",
      "Requirement already satisfied: requests in ./.venv/lib/python3.12/site-packages (from python-terrier==0.10.0) (2.31.0)\r\n",
      "Requirement already satisfied: joblib in ./.venv/lib/python3.12/site-packages (from python-terrier==0.10.0) (1.4.0)\r\n",
      "Requirement already satisfied: nptyping==1.4.4 in ./.venv/lib/python3.12/site-packages (from python-terrier==0.10.0) (1.4.4)\r\n",
      "Requirement already satisfied: more-itertools in ./.venv/lib/python3.12/site-packages (from python-terrier==0.10.0) (10.2.0)\r\n",
      "Requirement already satisfied: ir-datasets>=0.3.2 in ./.venv/lib/python3.12/site-packages (from python-terrier==0.10.0) (0.5.6)\r\n",
      "Requirement already satisfied: jinja2 in ./.venv/lib/python3.12/site-packages (from python-terrier==0.10.0) (3.1.3)\r\n",
      "Requirement already satisfied: statsmodels in ./.venv/lib/python3.12/site-packages (from python-terrier==0.10.0) (0.14.2)\r\n",
      "Requirement already satisfied: ir-measures>=0.3.1 in ./.venv/lib/python3.12/site-packages (from python-terrier==0.10.0) (0.3.3)\r\n",
      "Requirement already satisfied: dill in ./.venv/lib/python3.12/site-packages (from python-terrier==0.10.0) (0.3.8)\r\n",
      "Requirement already satisfied: pytrec-eval-terrier>=0.5.3 in ./.venv/lib/python3.12/site-packages (from python-terrier==0.10.0) (0.5.6)\r\n",
      "Requirement already satisfied: torch>=2.0.0 in ./.venv/lib/python3.12/site-packages (from fast-forward-indexes==0.2.0) (2.3.0)\r\n",
      "Requirement already satisfied: transformers>=4.28.0 in ./.venv/lib/python3.12/site-packages (from fast-forward-indexes==0.2.0) (4.40.1)\r\n",
      "Requirement already satisfied: h5py>=3.0.0 in ./.venv/lib/python3.12/site-packages (from fast-forward-indexes==0.2.0) (3.11.0)\r\n",
      "Requirement already satisfied: typish>=1.7.0 in ./.venv/lib/python3.12/site-packages (from nptyping==1.4.4->python-terrier==0.10.0) (1.9.3)\r\n",
      "Requirement already satisfied: beautifulsoup4>=4.4.1 in ./.venv/lib/python3.12/site-packages (from ir-datasets>=0.3.2->python-terrier==0.10.0) (4.12.3)\r\n",
      "Requirement already satisfied: inscriptis>=2.2.0 in ./.venv/lib/python3.12/site-packages (from ir-datasets>=0.3.2->python-terrier==0.10.0) (2.5.0)\r\n",
      "Requirement already satisfied: lxml>=4.5.2 in ./.venv/lib/python3.12/site-packages (from ir-datasets>=0.3.2->python-terrier==0.10.0) (5.2.1)\r\n",
      "Requirement already satisfied: pyyaml>=5.3.1 in ./.venv/lib/python3.12/site-packages (from ir-datasets>=0.3.2->python-terrier==0.10.0) (6.0.1)\r\n",
      "Requirement already satisfied: trec-car-tools>=2.5.4 in ./.venv/lib/python3.12/site-packages (from ir-datasets>=0.3.2->python-terrier==0.10.0) (2.6)\r\n",
      "Requirement already satisfied: lz4>=3.1.10 in ./.venv/lib/python3.12/site-packages (from ir-datasets>=0.3.2->python-terrier==0.10.0) (4.3.3)\r\n",
      "Requirement already satisfied: warc3-wet>=0.2.3 in ./.venv/lib/python3.12/site-packages (from ir-datasets>=0.3.2->python-terrier==0.10.0) (0.2.3)\r\n",
      "Requirement already satisfied: warc3-wet-clueweb09>=0.2.5 in ./.venv/lib/python3.12/site-packages (from ir-datasets>=0.3.2->python-terrier==0.10.0) (0.2.5)\r\n",
      "Requirement already satisfied: zlib-state>=0.1.3 in ./.venv/lib/python3.12/site-packages (from ir-datasets>=0.3.2->python-terrier==0.10.0) (0.1.6)\r\n",
      "Requirement already satisfied: ijson>=3.1.3 in ./.venv/lib/python3.12/site-packages (from ir-datasets>=0.3.2->python-terrier==0.10.0) (3.2.3)\r\n",
      "Requirement already satisfied: pyautocorpus>=0.1.1 in ./.venv/lib/python3.12/site-packages (from ir-datasets>=0.3.2->python-terrier==0.10.0) (0.1.12)\r\n",
      "Requirement already satisfied: unlzw3>=0.2.1 in ./.venv/lib/python3.12/site-packages (from ir-datasets>=0.3.2->python-terrier==0.10.0) (0.2.2)\r\n",
      "Requirement already satisfied: cwl-eval>=1.0.10 in ./.venv/lib/python3.12/site-packages (from ir-measures>=0.3.1->python-terrier==0.10.0) (1.0.12)\r\n",
      "Requirement already satisfied: python-dateutil>=2.8.2 in ./.venv/lib/python3.12/site-packages (from pandas->python-terrier==0.10.0) (2.9.0.post0)\r\n",
      "Requirement already satisfied: pytz>=2020.1 in ./.venv/lib/python3.12/site-packages (from pandas->python-terrier==0.10.0) (2024.1)\r\n",
      "Requirement already satisfied: tzdata>=2022.7 in ./.venv/lib/python3.12/site-packages (from pandas->python-terrier==0.10.0) (2024.1)\r\n",
      "Requirement already satisfied: charset-normalizer<4,>=2 in ./.venv/lib/python3.12/site-packages (from requests->python-terrier==0.10.0) (3.3.2)\r\n",
      "Requirement already satisfied: idna<4,>=2.5 in ./.venv/lib/python3.12/site-packages (from requests->python-terrier==0.10.0) (3.7)\r\n",
      "Requirement already satisfied: urllib3<3,>=1.21.1 in ./.venv/lib/python3.12/site-packages (from requests->python-terrier==0.10.0) (2.2.1)\r\n",
      "Requirement already satisfied: certifi>=2017.4.17 in ./.venv/lib/python3.12/site-packages (from requests->python-terrier==0.10.0) (2024.2.2)\r\n",
      "Requirement already satisfied: filelock in ./.venv/lib/python3.12/site-packages (from torch>=2.0.0->fast-forward-indexes==0.2.0) (3.13.4)\r\n",
      "Requirement already satisfied: typing-extensions>=4.8.0 in ./.venv/lib/python3.12/site-packages (from torch>=2.0.0->fast-forward-indexes==0.2.0) (4.11.0)\r\n",
      "Requirement already satisfied: sympy in ./.venv/lib/python3.12/site-packages (from torch>=2.0.0->fast-forward-indexes==0.2.0) (1.12)\r\n",
      "Requirement already satisfied: networkx in ./.venv/lib/python3.12/site-packages (from torch>=2.0.0->fast-forward-indexes==0.2.0) (3.3)\r\n",
      "Requirement already satisfied: fsspec in ./.venv/lib/python3.12/site-packages (from torch>=2.0.0->fast-forward-indexes==0.2.0) (2024.3.1)\r\n",
      "Requirement already satisfied: huggingface-hub<1.0,>=0.19.3 in ./.venv/lib/python3.12/site-packages (from transformers>=4.28.0->fast-forward-indexes==0.2.0) (0.22.2)\r\n",
      "Requirement already satisfied: packaging>=20.0 in ./.venv/lib/python3.12/site-packages (from transformers>=4.28.0->fast-forward-indexes==0.2.0) (24.0)\r\n",
      "Requirement already satisfied: regex!=2019.12.17 in ./.venv/lib/python3.12/site-packages (from transformers>=4.28.0->fast-forward-indexes==0.2.0) (2024.4.16)\r\n",
      "Requirement already satisfied: tokenizers<0.20,>=0.19 in ./.venv/lib/python3.12/site-packages (from transformers>=4.28.0->fast-forward-indexes==0.2.0) (0.19.1)\r\n",
      "Requirement already satisfied: safetensors>=0.4.1 in ./.venv/lib/python3.12/site-packages (from transformers>=4.28.0->fast-forward-indexes==0.2.0) (0.4.3)\r\n",
      "Requirement already satisfied: heapdict in ./.venv/lib/python3.12/site-packages (from chest->python-terrier==0.10.0) (1.0.1)\r\n",
      "Requirement already satisfied: wrapt<2,>=1.10 in ./.venv/lib/python3.12/site-packages (from deprecated->python-terrier==0.10.0) (1.16.0)\r\n",
      "Requirement already satisfied: MarkupSafe>=2.0 in ./.venv/lib/python3.12/site-packages (from jinja2->python-terrier==0.10.0) (2.1.5)\r\n",
      "Requirement already satisfied: multiset<3.0,>=2.0 in ./.venv/lib/python3.12/site-packages (from matchpy->python-terrier==0.10.0) (2.1.1)\r\n",
      "Requirement already satisfied: threadpoolctl>=2.0.0 in ./.venv/lib/python3.12/site-packages (from scikit-learn->python-terrier==0.10.0) (3.4.0)\r\n",
      "Requirement already satisfied: patsy>=0.5.6 in ./.venv/lib/python3.12/site-packages (from statsmodels->python-terrier==0.10.0) (0.5.6)\r\n",
      "Requirement already satisfied: soupsieve>1.2 in ./.venv/lib/python3.12/site-packages (from beautifulsoup4>=4.4.1->ir-datasets>=0.3.2->python-terrier==0.10.0) (2.5)\r\n",
      "Requirement already satisfied: six in ./.venv/lib/python3.12/site-packages (from patsy>=0.5.6->statsmodels->python-terrier==0.10.0) (1.16.0)\r\n",
      "Requirement already satisfied: cbor>=1.0.0 in ./.venv/lib/python3.12/site-packages (from trec-car-tools>=2.5.4->ir-datasets>=0.3.2->python-terrier==0.10.0) (1.0.0)\r\n",
      "Requirement already satisfied: mpmath>=0.19 in ./.venv/lib/python3.12/site-packages (from sympy->torch>=2.0.0->fast-forward-indexes==0.2.0) (1.3.0)\r\n",
      "Note: you may need to restart the kernel to use updated packages.\n"
     ]
    }
   ],
   "execution_count": 1
  },
  {
   "metadata": {},
   "cell_type": "markdown",
   "source": "Configure PyTerrier",
   "id": "6d121ceae326fc19"
  },
  {
   "metadata": {
    "ExecuteTime": {
     "end_time": "2024-05-13T12:02:12.656647Z",
     "start_time": "2024-05-13T12:02:10.586085Z"
    }
   },
   "cell_type": "code",
   "source": [
    "import pyterrier as pt\n",
    "\n",
    "if not pt.started():\n",
    "    pt.init(\n",
    "        tqdm=\"notebook\",\n",
    "        boot_packages=[\"com.github.terrierteam:terrier-prf:-SNAPSHOT\"]\n",
    "    )"
   ],
   "id": "e476ad55c94cc874",
   "outputs": [
    {
     "name": "stderr",
     "output_type": "stream",
     "text": [
      "PyTerrier 0.10.0 has loaded Terrier 5.9 (built by craigm on 2024-05-02 17:40) and terrier-helper 0.0.8\n",
      "\n",
      "No etc/terrier.properties, using terrier.default.properties for bootstrap configuration.\n"
     ]
    }
   ],
   "execution_count": 2
  },
  {
   "metadata": {},
   "cell_type": "markdown",
   "source": "Import Dataset",
   "id": "ba4416bfe33e4573"
  },
  {
   "metadata": {
    "ExecuteTime": {
     "end_time": "2024-05-13T12:02:17.417295Z",
     "start_time": "2024-05-13T12:02:17.414495Z"
    }
   },
   "cell_type": "code",
   "source": "dataset = pt.get_dataset(\"irds:beir/fiqa\")",
   "id": "8c9f3144eb64cd33",
   "outputs": [],
   "execution_count": 3
  },
  {
   "metadata": {},
   "cell_type": "markdown",
   "source": "Create a lexical index (for `BM25` and `RM3`)",
   "id": "c88768ad71f9b680"
  },
  {
   "metadata": {
    "ExecuteTime": {
     "end_time": "2024-05-13T12:44:45.573109Z",
     "start_time": "2024-05-13T12:44:36.630199Z"
    }
   },
   "cell_type": "code",
   "source": [
    "from pathlib import Path\n",
    "\n",
    "indexer = pt.IterDictIndexer(\n",
    "    str(Path.cwd()),  # this will be ignored\n",
    "    type=pt.index.IndexingType.MEMORY,\n",
    ")\n",
    "index_ref = indexer.index(dataset.get_corpus_iter(), fields=[\"text\"])"
   ],
   "id": "7c9e626b8e8a905a",
   "outputs": [
    {
     "data": {
      "text/plain": [
       "beir/fiqa documents:   0%|          | 0/57638 [00:00<?, ?it/s]"
      ],
      "application/vnd.jupyter.widget-view+json": {
       "version_major": 2,
       "version_minor": 0,
       "model_id": "f8f297b8812d4a4b9f485ebe12423d9c"
      }
     },
     "metadata": {},
     "output_type": "display_data"
    }
   ],
   "execution_count": 37
  },
  {
   "metadata": {},
   "cell_type": "markdown",
   "source": "Create a baseline (BM25 performance)",
   "id": "a4a5512c216e8aeb"
  },
  {
   "metadata": {
    "ExecuteTime": {
     "end_time": "2024-05-13T12:02:39.862619Z",
     "start_time": "2024-05-13T12:02:37.694942Z"
    }
   },
   "cell_type": "code",
   "source": [
    "from pyterrier.measures import RR, nDCG, MAP\n",
    "\n",
    "bm25 = pt.BatchRetrieve(index_ref, wmodel=\"BM25\")\n",
    "rm3 = pt.rewrite.RM3(index_ref)\n",
    "testset = pt.get_dataset(\"irds:beir/fiqa/test\")\n",
    "pt.Experiment(\n",
    "    [~bm25],\n",
    "    testset.get_topics(),\n",
    "    testset.get_qrels(),\n",
    "    eval_metrics=[RR @ 10, nDCG @ 10, MAP @ 100],\n",
    ")"
   ],
   "id": "f3e89b46f557fdd0",
   "outputs": [
    {
     "data": {
      "text/plain": [
       "              name     RR@10   nDCG@10   AP@100\n",
       "0  Cache(BR(BM25))  0.310271  0.252589  0.20864"
      ],
      "text/html": [
       "<div>\n",
       "<style scoped>\n",
       "    .dataframe tbody tr th:only-of-type {\n",
       "        vertical-align: middle;\n",
       "    }\n",
       "\n",
       "    .dataframe tbody tr th {\n",
       "        vertical-align: top;\n",
       "    }\n",
       "\n",
       "    .dataframe thead th {\n",
       "        text-align: right;\n",
       "    }\n",
       "</style>\n",
       "<table border=\"1\" class=\"dataframe\">\n",
       "  <thead>\n",
       "    <tr style=\"text-align: right;\">\n",
       "      <th></th>\n",
       "      <th>name</th>\n",
       "      <th>RR@10</th>\n",
       "      <th>nDCG@10</th>\n",
       "      <th>AP@100</th>\n",
       "    </tr>\n",
       "  </thead>\n",
       "  <tbody>\n",
       "    <tr>\n",
       "      <th>0</th>\n",
       "      <td>Cache(BR(BM25))</td>\n",
       "      <td>0.310271</td>\n",
       "      <td>0.252589</td>\n",
       "      <td>0.20864</td>\n",
       "    </tr>\n",
       "  </tbody>\n",
       "</table>\n",
       "</div>"
      ]
     },
     "execution_count": 5,
     "metadata": {},
     "output_type": "execute_result"
    }
   ],
   "execution_count": 5
  },
  {
   "metadata": {},
   "cell_type": "markdown",
   "source": "# Create the Fast-Forward Indices for TCT-ColBERT",
   "id": "a666e5538c33b729"
  },
  {
   "metadata": {},
   "cell_type": "markdown",
   "source": "### Create the Encoder",
   "id": "2f539731a5ff31c7"
  },
  {
   "metadata": {
    "ExecuteTime": {
     "end_time": "2024-05-13T12:02:50.444693Z",
     "start_time": "2024-05-13T12:02:46.165966Z"
    }
   },
   "cell_type": "code",
   "source": [
    "from fast_forward.encoder import TCTColBERTQueryEncoder, TCTColBERTDocumentEncoder\n",
    "import torch\n",
    "\n",
    "q_encoder = TCTColBERTQueryEncoder(\"castorini/tct_colbert-msmarco\")\n",
    "d_encoder = TCTColBERTDocumentEncoder(\n",
    "    \"castorini/tct_colbert-msmarco\",\n",
    "    device=\"cuda:0\" if torch.cuda.is_available() else \"cpu\",\n",
    ")"
   ],
   "id": "1b1b81ddeb55a1ba",
   "outputs": [],
   "execution_count": 6
  },
  {
   "metadata": {},
   "cell_type": "markdown",
   "source": "Test the Encoder",
   "id": "4100dc635366a751"
  },
  {
   "metadata": {
    "ExecuteTime": {
     "end_time": "2024-05-13T11:51:56.930058Z",
     "start_time": "2024-05-13T11:51:56.267394Z"
    }
   },
   "cell_type": "code",
   "source": "q_encoder([\"Test query 1\", \"Test query 2\"])",
   "id": "d7d0d78c9898c832",
   "outputs": [
    {
     "data": {
      "text/plain": [
       "array([[-0.0380525 ,  0.01848466,  0.05137944, ..., -0.04796502,\n",
       "         0.00918062, -0.03880693],\n",
       "       [-0.06809073,  0.02582865,  0.09803923, ..., -0.09031374,\n",
       "         0.00014139, -0.06282968]], dtype=float32)"
      ]
     },
     "execution_count": 9,
     "metadata": {},
     "output_type": "execute_result"
    }
   ],
   "execution_count": 9
  },
  {
   "metadata": {},
   "cell_type": "markdown",
   "source": [
    "### Create the Index\n",
    "*(Warning)* This operation takes a long time to complete!"
   ],
   "id": "18e42c7bbb2b0029"
  },
  {
   "metadata": {},
   "cell_type": "code",
   "outputs": [],
   "execution_count": null,
   "source": [
    "from fast_forward import OnDiskIndex, Mode, Indexer\n",
    "\n",
    "ff_index = OnDiskIndex(\n",
    "    Path(\"ffindex_fiqa_tct.h5\"), dim=768, query_encoder=q_encoder, mode=Mode.MAXP\n",
    ")\n",
    "\n",
    "def docs_iter():\n",
    "    for d in dataset.get_corpus_iter():\n",
    "        yield {\"doc_id\": d[\"docno\"], \"text\": d[\"text\"]}\n",
    "\n",
    "ff_indexer = Indexer(ff_index, d_encoder, batch_size=1)\n",
    "ff_indexer.index_dicts(docs_iter())"
   ],
   "id": "5e05d345dfead3f2"
  },
  {
   "metadata": {},
   "cell_type": "markdown",
   "source": "If the index is present on disk, we can load it directly in Memory (but requires some RAM)",
   "id": "44f6a518b30b5f1"
  },
  {
   "metadata": {
    "ExecuteTime": {
     "end_time": "2024-05-13T12:03:02.817430Z",
     "start_time": "2024-05-13T12:03:02.500943Z"
    }
   },
   "cell_type": "code",
   "source": [
    "from fast_forward import OnDiskIndex, Mode\n",
    "\n",
    "ff_index = OnDiskIndex.load(\n",
    "    Path(\"ffindex_fiqa_tct.h5\"), query_encoder=q_encoder, mode=Mode.MAXP\n",
    ")\n",
    "ff_index = ff_index.to_memory()"
   ],
   "id": "ea9cab707938998a",
   "outputs": [
    {
     "name": "stderr",
     "output_type": "stream",
     "text": [
      "100%|██████████| 57638/57638 [00:00<00:00, 2135197.17it/s]\n"
     ]
    }
   ],
   "execution_count": 7
  },
  {
   "metadata": {},
   "cell_type": "markdown",
   "source": "# Re-ranking BM25 Results",
   "id": "8c0a4c935f57cac6"
  },
  {
   "metadata": {
    "ExecuteTime": {
     "end_time": "2024-05-13T12:03:10.099860Z",
     "start_time": "2024-05-13T12:03:10.094301Z"
    }
   },
   "cell_type": "code",
   "source": [
    "from fast_forward.util.pyterrier import FFScore\n",
    "\n",
    "ff_score = FFScore(ff_index)"
   ],
   "id": "2db7decd26dfb03e",
   "outputs": [],
   "execution_count": 8
  },
  {
   "metadata": {
    "ExecuteTime": {
     "end_time": "2024-05-13T12:03:11.239694Z",
     "start_time": "2024-05-13T12:03:10.890922Z"
    }
   },
   "cell_type": "code",
   "source": [
    "candidates = (~bm25 % 5)(testset.get_topics()) # Get the candidates\n",
    "candidates"
   ],
   "id": "6b5a570c237d227f",
   "outputs": [
    {
     "data": {
      "text/plain": [
       "         qid  docid   docno  rank      score  \\\n",
       "0       4641  36224  376148     0  41.677305   \n",
       "1       4641  47916  497993     1  29.149791   \n",
       "2       4641  55690  580025     2  26.773005   \n",
       "3       4641  24501  253614     3  26.640181   \n",
       "4       4641   3157   32833     4  24.265187   \n",
       "...      ...    ...     ...   ...        ...   \n",
       "644153  2399  33136  343489     0  33.280064   \n",
       "644154  2399   6704   69171     1  31.335596   \n",
       "644155  2399   4148   43046     2  31.265964   \n",
       "644156  2399  46670  484891     3  29.869008   \n",
       "644157  2399  13154  135220     4  28.911571   \n",
       "\n",
       "                                                    query  \n",
       "0         where should i park my rainy day emergency fund  \n",
       "1         where should i park my rainy day emergency fund  \n",
       "2         where should i park my rainy day emergency fund  \n",
       "3         where should i park my rainy day emergency fund  \n",
       "4         where should i park my rainy day emergency fund  \n",
       "...                                                   ...  \n",
       "644153  where do web sites get foreign exchange curren...  \n",
       "644154  where do web sites get foreign exchange curren...  \n",
       "644155  where do web sites get foreign exchange curren...  \n",
       "644156  where do web sites get foreign exchange curren...  \n",
       "644157  where do web sites get foreign exchange curren...  \n",
       "\n",
       "[3240 rows x 6 columns]"
      ],
      "text/html": [
       "<div>\n",
       "<style scoped>\n",
       "    .dataframe tbody tr th:only-of-type {\n",
       "        vertical-align: middle;\n",
       "    }\n",
       "\n",
       "    .dataframe tbody tr th {\n",
       "        vertical-align: top;\n",
       "    }\n",
       "\n",
       "    .dataframe thead th {\n",
       "        text-align: right;\n",
       "    }\n",
       "</style>\n",
       "<table border=\"1\" class=\"dataframe\">\n",
       "  <thead>\n",
       "    <tr style=\"text-align: right;\">\n",
       "      <th></th>\n",
       "      <th>qid</th>\n",
       "      <th>docid</th>\n",
       "      <th>docno</th>\n",
       "      <th>rank</th>\n",
       "      <th>score</th>\n",
       "      <th>query</th>\n",
       "    </tr>\n",
       "  </thead>\n",
       "  <tbody>\n",
       "    <tr>\n",
       "      <th>0</th>\n",
       "      <td>4641</td>\n",
       "      <td>36224</td>\n",
       "      <td>376148</td>\n",
       "      <td>0</td>\n",
       "      <td>41.677305</td>\n",
       "      <td>where should i park my rainy day emergency fund</td>\n",
       "    </tr>\n",
       "    <tr>\n",
       "      <th>1</th>\n",
       "      <td>4641</td>\n",
       "      <td>47916</td>\n",
       "      <td>497993</td>\n",
       "      <td>1</td>\n",
       "      <td>29.149791</td>\n",
       "      <td>where should i park my rainy day emergency fund</td>\n",
       "    </tr>\n",
       "    <tr>\n",
       "      <th>2</th>\n",
       "      <td>4641</td>\n",
       "      <td>55690</td>\n",
       "      <td>580025</td>\n",
       "      <td>2</td>\n",
       "      <td>26.773005</td>\n",
       "      <td>where should i park my rainy day emergency fund</td>\n",
       "    </tr>\n",
       "    <tr>\n",
       "      <th>3</th>\n",
       "      <td>4641</td>\n",
       "      <td>24501</td>\n",
       "      <td>253614</td>\n",
       "      <td>3</td>\n",
       "      <td>26.640181</td>\n",
       "      <td>where should i park my rainy day emergency fund</td>\n",
       "    </tr>\n",
       "    <tr>\n",
       "      <th>4</th>\n",
       "      <td>4641</td>\n",
       "      <td>3157</td>\n",
       "      <td>32833</td>\n",
       "      <td>4</td>\n",
       "      <td>24.265187</td>\n",
       "      <td>where should i park my rainy day emergency fund</td>\n",
       "    </tr>\n",
       "    <tr>\n",
       "      <th>...</th>\n",
       "      <td>...</td>\n",
       "      <td>...</td>\n",
       "      <td>...</td>\n",
       "      <td>...</td>\n",
       "      <td>...</td>\n",
       "      <td>...</td>\n",
       "    </tr>\n",
       "    <tr>\n",
       "      <th>644153</th>\n",
       "      <td>2399</td>\n",
       "      <td>33136</td>\n",
       "      <td>343489</td>\n",
       "      <td>0</td>\n",
       "      <td>33.280064</td>\n",
       "      <td>where do web sites get foreign exchange curren...</td>\n",
       "    </tr>\n",
       "    <tr>\n",
       "      <th>644154</th>\n",
       "      <td>2399</td>\n",
       "      <td>6704</td>\n",
       "      <td>69171</td>\n",
       "      <td>1</td>\n",
       "      <td>31.335596</td>\n",
       "      <td>where do web sites get foreign exchange curren...</td>\n",
       "    </tr>\n",
       "    <tr>\n",
       "      <th>644155</th>\n",
       "      <td>2399</td>\n",
       "      <td>4148</td>\n",
       "      <td>43046</td>\n",
       "      <td>2</td>\n",
       "      <td>31.265964</td>\n",
       "      <td>where do web sites get foreign exchange curren...</td>\n",
       "    </tr>\n",
       "    <tr>\n",
       "      <th>644156</th>\n",
       "      <td>2399</td>\n",
       "      <td>46670</td>\n",
       "      <td>484891</td>\n",
       "      <td>3</td>\n",
       "      <td>29.869008</td>\n",
       "      <td>where do web sites get foreign exchange curren...</td>\n",
       "    </tr>\n",
       "    <tr>\n",
       "      <th>644157</th>\n",
       "      <td>2399</td>\n",
       "      <td>13154</td>\n",
       "      <td>135220</td>\n",
       "      <td>4</td>\n",
       "      <td>28.911571</td>\n",
       "      <td>where do web sites get foreign exchange curren...</td>\n",
       "    </tr>\n",
       "  </tbody>\n",
       "</table>\n",
       "<p>3240 rows × 6 columns</p>\n",
       "</div>"
      ]
     },
     "execution_count": 9,
     "metadata": {},
     "output_type": "execute_result"
    }
   ],
   "execution_count": 9
  },
  {
   "metadata": {
    "ExecuteTime": {
     "end_time": "2024-05-13T12:03:21.027255Z",
     "start_time": "2024-05-13T12:03:12.252993Z"
    }
   },
   "cell_type": "code",
   "source": [
    "re_ranked = ff_score(candidates)\n",
    "re_ranked"
   ],
   "id": "b358f8cd0cabaaa1",
   "outputs": [
    {
     "data": {
      "text/plain": [
       "       qid   docno    score_0      score  \\\n",
       "0     4641  376148  41.677305  67.637367   \n",
       "1     4641  497993  29.149791  68.335365   \n",
       "2     4641  580025  26.773005  67.524490   \n",
       "3     4641  253614  26.640181  67.098091   \n",
       "4     4641   32833  24.265187  68.345680   \n",
       "...    ...     ...        ...        ...   \n",
       "3235  2399  343489  33.280064  69.723114   \n",
       "3236  2399   69171  31.335596  67.643097   \n",
       "3237  2399   43046  31.265964  67.293716   \n",
       "3238  2399  484891  29.869008  68.099777   \n",
       "3239  2399  135220  28.911571  68.129173   \n",
       "\n",
       "                                                  query  \n",
       "0       where should i park my rainy day emergency fund  \n",
       "1       where should i park my rainy day emergency fund  \n",
       "2       where should i park my rainy day emergency fund  \n",
       "3       where should i park my rainy day emergency fund  \n",
       "4       where should i park my rainy day emergency fund  \n",
       "...                                                 ...  \n",
       "3235  where do web sites get foreign exchange curren...  \n",
       "3236  where do web sites get foreign exchange curren...  \n",
       "3237  where do web sites get foreign exchange curren...  \n",
       "3238  where do web sites get foreign exchange curren...  \n",
       "3239  where do web sites get foreign exchange curren...  \n",
       "\n",
       "[3240 rows x 5 columns]"
      ],
      "text/html": [
       "<div>\n",
       "<style scoped>\n",
       "    .dataframe tbody tr th:only-of-type {\n",
       "        vertical-align: middle;\n",
       "    }\n",
       "\n",
       "    .dataframe tbody tr th {\n",
       "        vertical-align: top;\n",
       "    }\n",
       "\n",
       "    .dataframe thead th {\n",
       "        text-align: right;\n",
       "    }\n",
       "</style>\n",
       "<table border=\"1\" class=\"dataframe\">\n",
       "  <thead>\n",
       "    <tr style=\"text-align: right;\">\n",
       "      <th></th>\n",
       "      <th>qid</th>\n",
       "      <th>docno</th>\n",
       "      <th>score_0</th>\n",
       "      <th>score</th>\n",
       "      <th>query</th>\n",
       "    </tr>\n",
       "  </thead>\n",
       "  <tbody>\n",
       "    <tr>\n",
       "      <th>0</th>\n",
       "      <td>4641</td>\n",
       "      <td>376148</td>\n",
       "      <td>41.677305</td>\n",
       "      <td>67.637367</td>\n",
       "      <td>where should i park my rainy day emergency fund</td>\n",
       "    </tr>\n",
       "    <tr>\n",
       "      <th>1</th>\n",
       "      <td>4641</td>\n",
       "      <td>497993</td>\n",
       "      <td>29.149791</td>\n",
       "      <td>68.335365</td>\n",
       "      <td>where should i park my rainy day emergency fund</td>\n",
       "    </tr>\n",
       "    <tr>\n",
       "      <th>2</th>\n",
       "      <td>4641</td>\n",
       "      <td>580025</td>\n",
       "      <td>26.773005</td>\n",
       "      <td>67.524490</td>\n",
       "      <td>where should i park my rainy day emergency fund</td>\n",
       "    </tr>\n",
       "    <tr>\n",
       "      <th>3</th>\n",
       "      <td>4641</td>\n",
       "      <td>253614</td>\n",
       "      <td>26.640181</td>\n",
       "      <td>67.098091</td>\n",
       "      <td>where should i park my rainy day emergency fund</td>\n",
       "    </tr>\n",
       "    <tr>\n",
       "      <th>4</th>\n",
       "      <td>4641</td>\n",
       "      <td>32833</td>\n",
       "      <td>24.265187</td>\n",
       "      <td>68.345680</td>\n",
       "      <td>where should i park my rainy day emergency fund</td>\n",
       "    </tr>\n",
       "    <tr>\n",
       "      <th>...</th>\n",
       "      <td>...</td>\n",
       "      <td>...</td>\n",
       "      <td>...</td>\n",
       "      <td>...</td>\n",
       "      <td>...</td>\n",
       "    </tr>\n",
       "    <tr>\n",
       "      <th>3235</th>\n",
       "      <td>2399</td>\n",
       "      <td>343489</td>\n",
       "      <td>33.280064</td>\n",
       "      <td>69.723114</td>\n",
       "      <td>where do web sites get foreign exchange curren...</td>\n",
       "    </tr>\n",
       "    <tr>\n",
       "      <th>3236</th>\n",
       "      <td>2399</td>\n",
       "      <td>69171</td>\n",
       "      <td>31.335596</td>\n",
       "      <td>67.643097</td>\n",
       "      <td>where do web sites get foreign exchange curren...</td>\n",
       "    </tr>\n",
       "    <tr>\n",
       "      <th>3237</th>\n",
       "      <td>2399</td>\n",
       "      <td>43046</td>\n",
       "      <td>31.265964</td>\n",
       "      <td>67.293716</td>\n",
       "      <td>where do web sites get foreign exchange curren...</td>\n",
       "    </tr>\n",
       "    <tr>\n",
       "      <th>3238</th>\n",
       "      <td>2399</td>\n",
       "      <td>484891</td>\n",
       "      <td>29.869008</td>\n",
       "      <td>68.099777</td>\n",
       "      <td>where do web sites get foreign exchange curren...</td>\n",
       "    </tr>\n",
       "    <tr>\n",
       "      <th>3239</th>\n",
       "      <td>2399</td>\n",
       "      <td>135220</td>\n",
       "      <td>28.911571</td>\n",
       "      <td>68.129173</td>\n",
       "      <td>where do web sites get foreign exchange curren...</td>\n",
       "    </tr>\n",
       "  </tbody>\n",
       "</table>\n",
       "<p>3240 rows × 5 columns</p>\n",
       "</div>"
      ]
     },
     "execution_count": 10,
     "metadata": {},
     "output_type": "execute_result"
    }
   ],
   "execution_count": 10
  },
  {
   "metadata": {
    "ExecuteTime": {
     "end_time": "2024-05-13T12:03:21.035299Z",
     "start_time": "2024-05-13T12:03:21.028650Z"
    }
   },
   "cell_type": "code",
   "source": [
    "from fast_forward.util.pyterrier import FFInterpolate\n",
    "\n",
    "ff_int = FFInterpolate(alpha=0.5)\n",
    "ff_int(re_ranked)"
   ],
   "id": "f216172770bbcd77",
   "outputs": [
    {
     "data": {
      "text/plain": [
       "       qid   docno                                              query  \\\n",
       "0     4641  376148    where should i park my rainy day emergency fund   \n",
       "1     4641  497993    where should i park my rainy day emergency fund   \n",
       "2     4641  580025    where should i park my rainy day emergency fund   \n",
       "3     4641  253614    where should i park my rainy day emergency fund   \n",
       "4     4641   32833    where should i park my rainy day emergency fund   \n",
       "...    ...     ...                                                ...   \n",
       "3235  2399  343489  where do web sites get foreign exchange curren...   \n",
       "3236  2399   69171  where do web sites get foreign exchange curren...   \n",
       "3237  2399   43046  where do web sites get foreign exchange curren...   \n",
       "3238  2399  484891  where do web sites get foreign exchange curren...   \n",
       "3239  2399  135220  where do web sites get foreign exchange curren...   \n",
       "\n",
       "          score  \n",
       "0     54.657336  \n",
       "1     48.742578  \n",
       "2     47.148748  \n",
       "3     46.869136  \n",
       "4     46.305434  \n",
       "...         ...  \n",
       "3235  51.501589  \n",
       "3236  49.489347  \n",
       "3237  49.279840  \n",
       "3238  48.984392  \n",
       "3239  48.520372  \n",
       "\n",
       "[3240 rows x 4 columns]"
      ],
      "text/html": [
       "<div>\n",
       "<style scoped>\n",
       "    .dataframe tbody tr th:only-of-type {\n",
       "        vertical-align: middle;\n",
       "    }\n",
       "\n",
       "    .dataframe tbody tr th {\n",
       "        vertical-align: top;\n",
       "    }\n",
       "\n",
       "    .dataframe thead th {\n",
       "        text-align: right;\n",
       "    }\n",
       "</style>\n",
       "<table border=\"1\" class=\"dataframe\">\n",
       "  <thead>\n",
       "    <tr style=\"text-align: right;\">\n",
       "      <th></th>\n",
       "      <th>qid</th>\n",
       "      <th>docno</th>\n",
       "      <th>query</th>\n",
       "      <th>score</th>\n",
       "    </tr>\n",
       "  </thead>\n",
       "  <tbody>\n",
       "    <tr>\n",
       "      <th>0</th>\n",
       "      <td>4641</td>\n",
       "      <td>376148</td>\n",
       "      <td>where should i park my rainy day emergency fund</td>\n",
       "      <td>54.657336</td>\n",
       "    </tr>\n",
       "    <tr>\n",
       "      <th>1</th>\n",
       "      <td>4641</td>\n",
       "      <td>497993</td>\n",
       "      <td>where should i park my rainy day emergency fund</td>\n",
       "      <td>48.742578</td>\n",
       "    </tr>\n",
       "    <tr>\n",
       "      <th>2</th>\n",
       "      <td>4641</td>\n",
       "      <td>580025</td>\n",
       "      <td>where should i park my rainy day emergency fund</td>\n",
       "      <td>47.148748</td>\n",
       "    </tr>\n",
       "    <tr>\n",
       "      <th>3</th>\n",
       "      <td>4641</td>\n",
       "      <td>253614</td>\n",
       "      <td>where should i park my rainy day emergency fund</td>\n",
       "      <td>46.869136</td>\n",
       "    </tr>\n",
       "    <tr>\n",
       "      <th>4</th>\n",
       "      <td>4641</td>\n",
       "      <td>32833</td>\n",
       "      <td>where should i park my rainy day emergency fund</td>\n",
       "      <td>46.305434</td>\n",
       "    </tr>\n",
       "    <tr>\n",
       "      <th>...</th>\n",
       "      <td>...</td>\n",
       "      <td>...</td>\n",
       "      <td>...</td>\n",
       "      <td>...</td>\n",
       "    </tr>\n",
       "    <tr>\n",
       "      <th>3235</th>\n",
       "      <td>2399</td>\n",
       "      <td>343489</td>\n",
       "      <td>where do web sites get foreign exchange curren...</td>\n",
       "      <td>51.501589</td>\n",
       "    </tr>\n",
       "    <tr>\n",
       "      <th>3236</th>\n",
       "      <td>2399</td>\n",
       "      <td>69171</td>\n",
       "      <td>where do web sites get foreign exchange curren...</td>\n",
       "      <td>49.489347</td>\n",
       "    </tr>\n",
       "    <tr>\n",
       "      <th>3237</th>\n",
       "      <td>2399</td>\n",
       "      <td>43046</td>\n",
       "      <td>where do web sites get foreign exchange curren...</td>\n",
       "      <td>49.279840</td>\n",
       "    </tr>\n",
       "    <tr>\n",
       "      <th>3238</th>\n",
       "      <td>2399</td>\n",
       "      <td>484891</td>\n",
       "      <td>where do web sites get foreign exchange curren...</td>\n",
       "      <td>48.984392</td>\n",
       "    </tr>\n",
       "    <tr>\n",
       "      <th>3239</th>\n",
       "      <td>2399</td>\n",
       "      <td>135220</td>\n",
       "      <td>where do web sites get foreign exchange curren...</td>\n",
       "      <td>48.520372</td>\n",
       "    </tr>\n",
       "  </tbody>\n",
       "</table>\n",
       "<p>3240 rows × 4 columns</p>\n",
       "</div>"
      ]
     },
     "execution_count": 11,
     "metadata": {},
     "output_type": "execute_result"
    }
   ],
   "execution_count": 11
  },
  {
   "metadata": {
    "ExecuteTime": {
     "end_time": "2024-05-13T12:03:51.284841Z",
     "start_time": "2024-05-13T12:03:23.401106Z"
    }
   },
   "cell_type": "code",
   "source": [
    "# Find best Alpha\n",
    "\n",
    "devset = pt.get_dataset(\"irds:beir/fiqa/dev\")\n",
    "pt.GridSearch(\n",
    "    ~bm25 % 100 >> ff_score >> ff_int,\n",
    "    {ff_int: {\"alpha\": [0.05, 0.1, 0.5, 0.9]}},\n",
    "    devset.get_topics(),\n",
    "    devset.get_qrels(),\n",
    "    \"map\",\n",
    "    verbose=True,\n",
    ")\n",
    "ff_int.alpha"
   ],
   "id": "44935d0e4c88b2a",
   "outputs": [
    {
     "data": {
      "text/plain": [
       "GridScan:   0%|          | 0/4 [00:00<?, ?it/s]"
      ],
      "application/vnd.jupyter.widget-view+json": {
       "version_major": 2,
       "version_minor": 0,
       "model_id": "465642783ae64744bda861822f652acd"
      }
     },
     "metadata": {},
     "output_type": "display_data"
    },
    {
     "name": "stdout",
     "output_type": "stream",
     "text": [
      "Best map is 0.282656\n",
      "Best setting is ['<fast_forward.util.pyterrier.FFInterpolate object at 0x339c03ce0> alpha=0.1']\n"
     ]
    },
    {
     "data": {
      "text/plain": [
       "0.1"
      ]
     },
     "execution_count": 12,
     "metadata": {},
     "output_type": "execute_result"
    }
   ],
   "execution_count": 12
  },
  {
   "metadata": {},
   "cell_type": "markdown",
   "source": "# Results",
   "id": "fd6850499ce5991f"
  },
  {
   "metadata": {
    "ExecuteTime": {
     "end_time": "2024-05-13T12:52:03.373466Z",
     "start_time": "2024-05-13T12:52:03.329292Z"
    }
   },
   "cell_type": "code",
   "source": "testset.get_topics()",
   "id": "a92cb9de21158988",
   "outputs": [
    {
     "data": {
      "text/plain": [
       "       qid                                              query\n",
       "0     4641    where should i park my rainy day emergency fund\n",
       "1     5503  tax considerations for selling a property belo...\n",
       "2     7803  can the delta be used to calculate the option ...\n",
       "3     7017                 basic algorithmic trading strategy\n",
       "4    10152  what does a high operating margin but a small ...\n",
       "..     ...                                                ...\n",
       "643   4102  how can i determine if my rate of return is go...\n",
       "644   3566  where can i buy stocks if i only want to inves...\n",
       "645     94  using credit card points to pay for tax deduct...\n",
       "646   2551  how to find cheaper alternatives to a traditio...\n",
       "647   2399  where do web sites get foreign exchange curren...\n",
       "\n",
       "[648 rows x 2 columns]"
      ],
      "text/html": [
       "<div>\n",
       "<style scoped>\n",
       "    .dataframe tbody tr th:only-of-type {\n",
       "        vertical-align: middle;\n",
       "    }\n",
       "\n",
       "    .dataframe tbody tr th {\n",
       "        vertical-align: top;\n",
       "    }\n",
       "\n",
       "    .dataframe thead th {\n",
       "        text-align: right;\n",
       "    }\n",
       "</style>\n",
       "<table border=\"1\" class=\"dataframe\">\n",
       "  <thead>\n",
       "    <tr style=\"text-align: right;\">\n",
       "      <th></th>\n",
       "      <th>qid</th>\n",
       "      <th>query</th>\n",
       "    </tr>\n",
       "  </thead>\n",
       "  <tbody>\n",
       "    <tr>\n",
       "      <th>0</th>\n",
       "      <td>4641</td>\n",
       "      <td>where should i park my rainy day emergency fund</td>\n",
       "    </tr>\n",
       "    <tr>\n",
       "      <th>1</th>\n",
       "      <td>5503</td>\n",
       "      <td>tax considerations for selling a property belo...</td>\n",
       "    </tr>\n",
       "    <tr>\n",
       "      <th>2</th>\n",
       "      <td>7803</td>\n",
       "      <td>can the delta be used to calculate the option ...</td>\n",
       "    </tr>\n",
       "    <tr>\n",
       "      <th>3</th>\n",
       "      <td>7017</td>\n",
       "      <td>basic algorithmic trading strategy</td>\n",
       "    </tr>\n",
       "    <tr>\n",
       "      <th>4</th>\n",
       "      <td>10152</td>\n",
       "      <td>what does a high operating margin but a small ...</td>\n",
       "    </tr>\n",
       "    <tr>\n",
       "      <th>...</th>\n",
       "      <td>...</td>\n",
       "      <td>...</td>\n",
       "    </tr>\n",
       "    <tr>\n",
       "      <th>643</th>\n",
       "      <td>4102</td>\n",
       "      <td>how can i determine if my rate of return is go...</td>\n",
       "    </tr>\n",
       "    <tr>\n",
       "      <th>644</th>\n",
       "      <td>3566</td>\n",
       "      <td>where can i buy stocks if i only want to inves...</td>\n",
       "    </tr>\n",
       "    <tr>\n",
       "      <th>645</th>\n",
       "      <td>94</td>\n",
       "      <td>using credit card points to pay for tax deduct...</td>\n",
       "    </tr>\n",
       "    <tr>\n",
       "      <th>646</th>\n",
       "      <td>2551</td>\n",
       "      <td>how to find cheaper alternatives to a traditio...</td>\n",
       "    </tr>\n",
       "    <tr>\n",
       "      <th>647</th>\n",
       "      <td>2399</td>\n",
       "      <td>where do web sites get foreign exchange curren...</td>\n",
       "    </tr>\n",
       "  </tbody>\n",
       "</table>\n",
       "<p>648 rows × 2 columns</p>\n",
       "</div>"
      ]
     },
     "execution_count": 41,
     "metadata": {},
     "output_type": "execute_result"
    }
   ],
   "execution_count": 41
  },
  {
   "metadata": {
    "ExecuteTime": {
     "end_time": "2024-05-13T14:00:44.665314Z",
     "start_time": "2024-05-13T14:00:19.430662Z"
    }
   },
   "cell_type": "code",
   "source": [
    "pipeline = bm25 >> rm3 >> bm25\n",
    "\n",
    "pipeline(testset.get_topics())"
   ],
   "id": "7198947b2c5c2c85",
   "outputs": [
    {
     "ename": "JavaException",
     "evalue": "JVM exception occurred: Failed to process qid 10034 ' nyse^nan stream^nan rule^nan trust^nan etf^0.085714296 tax^0.085714296 uk^0.085714296 research^nan www^nan product^nan implic^0.085714296 fund^nan hold^0.085714296 citizen^0.085714296 http^nan adjust^nan ewu^0.085714296' -- Lexical error at line 1, column 7.  Encountered: \"n\" (110), after : \"\" org.terrier.querying.parser.QueryParserException",
     "output_type": "error",
     "traceback": [
      "\u001B[0;31m---------------------------------------------------------------------------\u001B[0m",
      "\u001B[0;31mJavaException\u001B[0m                             Traceback (most recent call last)",
      "Cell \u001B[0;32mIn[49], line 3\u001B[0m\n\u001B[1;32m      1\u001B[0m pipeline \u001B[38;5;241m=\u001B[39m bm25 \u001B[38;5;241m>>\u001B[39m rm3 \u001B[38;5;241m>>\u001B[39m bm25\n\u001B[0;32m----> 3\u001B[0m \u001B[43mpipeline\u001B[49m\u001B[43m(\u001B[49m\u001B[43mtestset\u001B[49m\u001B[38;5;241;43m.\u001B[39;49m\u001B[43mget_topics\u001B[49m\u001B[43m(\u001B[49m\u001B[43m)\u001B[49m\u001B[43m)\u001B[49m\n",
      "File \u001B[0;32m~/Scoala/Facultate/University-Courses/RP/.venv/lib/python3.12/site-packages/pyterrier/transformer.py:223\u001B[0m, in \u001B[0;36mTransformer.__call__\u001B[0;34m(self, input)\u001B[0m\n\u001B[1;32m    218\u001B[0m \u001B[38;5;250m\u001B[39m\u001B[38;5;124;03m\"\"\"\u001B[39;00m\n\u001B[1;32m    219\u001B[0m \u001B[38;5;124;03m    Sets up a default method for every transformer, which is aliased to transform() (for DataFrames)\u001B[39;00m\n\u001B[1;32m    220\u001B[0m \u001B[38;5;124;03m    or transform_iter() (for iterable dictionaries) depending on the type of input. \u001B[39;00m\n\u001B[1;32m    221\u001B[0m \u001B[38;5;124;03m\"\"\"\u001B[39;00m\n\u001B[1;32m    222\u001B[0m \u001B[38;5;28;01mif\u001B[39;00m \u001B[38;5;28misinstance\u001B[39m(\u001B[38;5;28minput\u001B[39m, pd\u001B[38;5;241m.\u001B[39mDataFrame):\n\u001B[0;32m--> 223\u001B[0m     \u001B[38;5;28;01mreturn\u001B[39;00m \u001B[38;5;28;43mself\u001B[39;49m\u001B[38;5;241;43m.\u001B[39;49m\u001B[43mtransform\u001B[49m\u001B[43m(\u001B[49m\u001B[38;5;28;43minput\u001B[39;49m\u001B[43m)\u001B[49m\n\u001B[1;32m    224\u001B[0m \u001B[38;5;28;01mreturn\u001B[39;00m \u001B[38;5;28mself\u001B[39m\u001B[38;5;241m.\u001B[39mtransform_iter(\u001B[38;5;28minput\u001B[39m)\n",
      "File \u001B[0;32m~/Scoala/Facultate/University-Courses/RP/.venv/lib/python3.12/site-packages/pyterrier/ops.py:335\u001B[0m, in \u001B[0;36mComposedPipeline.transform\u001B[0;34m(self, topics)\u001B[0m\n\u001B[1;32m    333\u001B[0m \u001B[38;5;28;01mdef\u001B[39;00m \u001B[38;5;21mtransform\u001B[39m(\u001B[38;5;28mself\u001B[39m, topics):\n\u001B[1;32m    334\u001B[0m     \u001B[38;5;28;01mfor\u001B[39;00m m \u001B[38;5;129;01min\u001B[39;00m \u001B[38;5;28mself\u001B[39m\u001B[38;5;241m.\u001B[39mmodels:\n\u001B[0;32m--> 335\u001B[0m         topics \u001B[38;5;241m=\u001B[39m \u001B[43mm\u001B[49m\u001B[38;5;241;43m.\u001B[39;49m\u001B[43mtransform\u001B[49m\u001B[43m(\u001B[49m\u001B[43mtopics\u001B[49m\u001B[43m)\u001B[49m\n\u001B[1;32m    336\u001B[0m     \u001B[38;5;28;01mreturn\u001B[39;00m topics\n",
      "File \u001B[0;32m~/Scoala/Facultate/University-Courses/RP/.venv/lib/python3.12/site-packages/pyterrier/batchretrieve.py:441\u001B[0m, in \u001B[0;36mBatchRetrieve.transform\u001B[0;34m(self, queries)\u001B[0m\n\u001B[1;32m    439\u001B[0m         \u001B[38;5;28miter\u001B[39m \u001B[38;5;241m=\u001B[39m tqdm(\u001B[38;5;28miter\u001B[39m, desc\u001B[38;5;241m=\u001B[39m\u001B[38;5;28mstr\u001B[39m(\u001B[38;5;28mself\u001B[39m), total\u001B[38;5;241m=\u001B[39mqueries\u001B[38;5;241m.\u001B[39mshape[\u001B[38;5;241m0\u001B[39m], unit\u001B[38;5;241m=\u001B[39m\u001B[38;5;124m\"\u001B[39m\u001B[38;5;124mq\u001B[39m\u001B[38;5;124m\"\u001B[39m)\n\u001B[1;32m    440\u001B[0m     \u001B[38;5;28;01mfor\u001B[39;00m row \u001B[38;5;129;01min\u001B[39;00m \u001B[38;5;28miter\u001B[39m:\n\u001B[0;32m--> 441\u001B[0m         res \u001B[38;5;241m=\u001B[39m \u001B[38;5;28;43mself\u001B[39;49m\u001B[38;5;241;43m.\u001B[39;49m\u001B[43m_retrieve_one\u001B[49m\u001B[43m(\u001B[49m\u001B[43mrow\u001B[49m\u001B[43m,\u001B[49m\u001B[43m \u001B[49m\u001B[43minput_results\u001B[49m\u001B[43m,\u001B[49m\u001B[43m \u001B[49m\u001B[43mdocno_provided\u001B[49m\u001B[38;5;241;43m=\u001B[39;49m\u001B[43mdocno_provided\u001B[49m\u001B[43m,\u001B[49m\u001B[43m \u001B[49m\u001B[43mdocid_provided\u001B[49m\u001B[38;5;241;43m=\u001B[39;49m\u001B[43mdocid_provided\u001B[49m\u001B[43m,\u001B[49m\u001B[43m \u001B[49m\u001B[43mscores_provided\u001B[49m\u001B[38;5;241;43m=\u001B[39;49m\u001B[43mscores_provided\u001B[49m\u001B[43m)\u001B[49m\n\u001B[1;32m    442\u001B[0m         results\u001B[38;5;241m.\u001B[39mextend(res)\n\u001B[1;32m    444\u001B[0m res_dt \u001B[38;5;241m=\u001B[39m pd\u001B[38;5;241m.\u001B[39mDataFrame(results, columns\u001B[38;5;241m=\u001B[39m[\u001B[38;5;124m'\u001B[39m\u001B[38;5;124mqid\u001B[39m\u001B[38;5;124m'\u001B[39m, \u001B[38;5;124m'\u001B[39m\u001B[38;5;124mdocid\u001B[39m\u001B[38;5;124m'\u001B[39m ] \u001B[38;5;241m+\u001B[39m \u001B[38;5;28mself\u001B[39m\u001B[38;5;241m.\u001B[39mmetadata \u001B[38;5;241m+\u001B[39m [\u001B[38;5;124m'\u001B[39m\u001B[38;5;124mrank\u001B[39m\u001B[38;5;124m'\u001B[39m, \u001B[38;5;124m'\u001B[39m\u001B[38;5;124mscore\u001B[39m\u001B[38;5;124m'\u001B[39m])\n",
      "File \u001B[0;32m~/Scoala/Facultate/University-Courses/RP/.venv/lib/python3.12/site-packages/pyterrier/batchretrieve.py:352\u001B[0m, in \u001B[0;36mBatchRetrieve._retrieve_one\u001B[0;34m(self, row, input_results, docno_provided, docid_provided, scores_provided)\u001B[0m\n\u001B[1;32m    349\u001B[0m     srq\u001B[38;5;241m.\u001B[39msetControl(\u001B[38;5;124m\"\u001B[39m\u001B[38;5;124mmatching\u001B[39m\u001B[38;5;124m\"\u001B[39m, \u001B[38;5;124m\"\u001B[39m\u001B[38;5;124morg.terrier.matching.ScoringMatching\u001B[39m\u001B[38;5;124m\"\u001B[39m \u001B[38;5;241m+\u001B[39m \u001B[38;5;124m\"\u001B[39m\u001B[38;5;124m,\u001B[39m\u001B[38;5;124m\"\u001B[39m \u001B[38;5;241m+\u001B[39m srq\u001B[38;5;241m.\u001B[39mgetControl(\u001B[38;5;124m\"\u001B[39m\u001B[38;5;124mmatching\u001B[39m\u001B[38;5;124m\"\u001B[39m))\n\u001B[1;32m    351\u001B[0m \u001B[38;5;66;03m# now ask Terrier to run the request\u001B[39;00m\n\u001B[0;32m--> 352\u001B[0m \u001B[38;5;28;43mself\u001B[39;49m\u001B[38;5;241;43m.\u001B[39;49m\u001B[43mmanager\u001B[49m\u001B[38;5;241;43m.\u001B[39;49m\u001B[43mrunSearchRequest\u001B[49m\u001B[43m(\u001B[49m\u001B[43msrq\u001B[49m\u001B[43m)\u001B[49m\n\u001B[1;32m    353\u001B[0m result \u001B[38;5;241m=\u001B[39m srq\u001B[38;5;241m.\u001B[39mgetResults()\n\u001B[1;32m    355\u001B[0m \u001B[38;5;66;03m# check we got all of the expected metadata (if the resultset has a size at all)\u001B[39;00m\n",
      "File \u001B[0;32mjnius/jnius_export_class.pxi:877\u001B[0m, in \u001B[0;36mjnius.JavaMethod.__call__\u001B[0;34m()\u001B[0m\n",
      "File \u001B[0;32mjnius/jnius_export_class.pxi:971\u001B[0m, in \u001B[0;36mjnius.JavaMethod.call_method\u001B[0;34m()\u001B[0m\n",
      "File \u001B[0;32mjnius/jnius_utils.pxi:79\u001B[0m, in \u001B[0;36mjnius.check_exception\u001B[0;34m()\u001B[0m\n",
      "\u001B[0;31mJavaException\u001B[0m: JVM exception occurred: Failed to process qid 10034 ' nyse^nan stream^nan rule^nan trust^nan etf^0.085714296 tax^0.085714296 uk^0.085714296 research^nan www^nan product^nan implic^0.085714296 fund^nan hold^0.085714296 citizen^0.085714296 http^nan adjust^nan ewu^0.085714296' -- Lexical error at line 1, column 7.  Encountered: \"n\" (110), after : \"\" org.terrier.querying.parser.QueryParserException"
     ]
    }
   ],
   "execution_count": 49
  },
  {
   "metadata": {
    "ExecuteTime": {
     "end_time": "2024-05-13T12:06:16.662683Z",
     "start_time": "2024-05-13T12:05:40.742114Z"
    }
   },
   "cell_type": "code",
   "source": [
    "pt.Experiment(\n",
    "    [~bm25, ~bm25 % 1000 >> ff_score >> ff_int, ~bm25 % 1000 >> rm3 >> ff_score >> ff_int],\n",
    "    testset.get_topics(),\n",
    "    testset.get_qrels(),\n",
    "    eval_metrics=[RR @ 10, nDCG @ 10, MAP @ 100],\n",
    "    names=[\"BM25\", \"BM25 >> FF\", \"BM25 >> RM3 >> FF\"],\n",
    ")"
   ],
   "id": "87485fd1b6940bf3",
   "outputs": [
    {
     "name": "stdout",
     "output_type": "stream",
     "text": [
      "14:06:00.290 [main] WARN org.terrier.querying.ApplyTermPipeline - The index has no termpipelines configuration, and no control configuration is found. Defaulting to global termpipelines configuration of 'Stopwords,PorterStemmer'. Set a termpipelines control to remove this warning.\n"
     ]
    },
    {
     "ename": "KeyError",
     "evalue": "\"['id', 'score'] not in index\"",
     "output_type": "error",
     "traceback": [
      "\u001B[0;31m---------------------------------------------------------------------------\u001B[0m",
      "\u001B[0;31mKeyError\u001B[0m                                  Traceback (most recent call last)",
      "Cell \u001B[0;32mIn[16], line 1\u001B[0m\n\u001B[0;32m----> 1\u001B[0m \u001B[43mpt\u001B[49m\u001B[38;5;241;43m.\u001B[39;49m\u001B[43mExperiment\u001B[49m\u001B[43m(\u001B[49m\n\u001B[1;32m      2\u001B[0m \u001B[43m    \u001B[49m\u001B[43m[\u001B[49m\u001B[38;5;241;43m~\u001B[39;49m\u001B[43mbm25\u001B[49m\u001B[43m,\u001B[49m\u001B[43m \u001B[49m\u001B[38;5;241;43m~\u001B[39;49m\u001B[43mbm25\u001B[49m\u001B[43m \u001B[49m\u001B[38;5;241;43m%\u001B[39;49m\u001B[43m \u001B[49m\u001B[38;5;241;43m1000\u001B[39;49m\u001B[43m \u001B[49m\u001B[38;5;241;43m>>\u001B[39;49m\u001B[43m \u001B[49m\u001B[43mff_score\u001B[49m\u001B[43m \u001B[49m\u001B[38;5;241;43m>>\u001B[39;49m\u001B[43m \u001B[49m\u001B[43mff_int\u001B[49m\u001B[43m,\u001B[49m\u001B[43m \u001B[49m\u001B[38;5;241;43m~\u001B[39;49m\u001B[43mbm25\u001B[49m\u001B[43m \u001B[49m\u001B[38;5;241;43m%\u001B[39;49m\u001B[43m \u001B[49m\u001B[38;5;241;43m1000\u001B[39;49m\u001B[43m \u001B[49m\u001B[38;5;241;43m>>\u001B[39;49m\u001B[43m \u001B[49m\u001B[43mrm3\u001B[49m\u001B[43m \u001B[49m\u001B[38;5;241;43m>>\u001B[39;49m\u001B[43m \u001B[49m\u001B[43mff_score\u001B[49m\u001B[43m \u001B[49m\u001B[38;5;241;43m>>\u001B[39;49m\u001B[43m \u001B[49m\u001B[43mff_int\u001B[49m\u001B[43m]\u001B[49m\u001B[43m,\u001B[49m\n\u001B[1;32m      3\u001B[0m \u001B[43m    \u001B[49m\u001B[43mtestset\u001B[49m\u001B[38;5;241;43m.\u001B[39;49m\u001B[43mget_topics\u001B[49m\u001B[43m(\u001B[49m\u001B[43m)\u001B[49m\u001B[43m,\u001B[49m\n\u001B[1;32m      4\u001B[0m \u001B[43m    \u001B[49m\u001B[43mtestset\u001B[49m\u001B[38;5;241;43m.\u001B[39;49m\u001B[43mget_qrels\u001B[49m\u001B[43m(\u001B[49m\u001B[43m)\u001B[49m\u001B[43m,\u001B[49m\n\u001B[1;32m      5\u001B[0m \u001B[43m    \u001B[49m\u001B[43meval_metrics\u001B[49m\u001B[38;5;241;43m=\u001B[39;49m\u001B[43m[\u001B[49m\u001B[43mRR\u001B[49m\u001B[43m \u001B[49m\u001B[38;5;241;43m@\u001B[39;49m\u001B[43m \u001B[49m\u001B[38;5;241;43m10\u001B[39;49m\u001B[43m,\u001B[49m\u001B[43m \u001B[49m\u001B[43mnDCG\u001B[49m\u001B[43m \u001B[49m\u001B[38;5;241;43m@\u001B[39;49m\u001B[43m \u001B[49m\u001B[38;5;241;43m10\u001B[39;49m\u001B[43m,\u001B[49m\u001B[43m \u001B[49m\u001B[43mMAP\u001B[49m\u001B[43m \u001B[49m\u001B[38;5;241;43m@\u001B[39;49m\u001B[43m \u001B[49m\u001B[38;5;241;43m100\u001B[39;49m\u001B[43m]\u001B[49m\u001B[43m,\u001B[49m\n\u001B[1;32m      6\u001B[0m \u001B[43m    \u001B[49m\u001B[43mnames\u001B[49m\u001B[38;5;241;43m=\u001B[39;49m\u001B[43m[\u001B[49m\u001B[38;5;124;43m\"\u001B[39;49m\u001B[38;5;124;43mBM25\u001B[39;49m\u001B[38;5;124;43m\"\u001B[39;49m\u001B[43m,\u001B[49m\u001B[43m \u001B[49m\u001B[38;5;124;43m\"\u001B[39;49m\u001B[38;5;124;43mBM25 >> FF\u001B[39;49m\u001B[38;5;124;43m\"\u001B[39;49m\u001B[43m,\u001B[49m\u001B[43m \u001B[49m\u001B[38;5;124;43m\"\u001B[39;49m\u001B[38;5;124;43mBM25 >> RM3 >> FF\u001B[39;49m\u001B[38;5;124;43m\"\u001B[39;49m\u001B[43m]\u001B[49m\u001B[43m,\u001B[49m\n\u001B[1;32m      7\u001B[0m \u001B[43m)\u001B[49m\n",
      "File \u001B[0;32m~/Scoala/Facultate/University-Courses/RP/.venv/lib/python3.12/site-packages/pyterrier/pipelines.py:471\u001B[0m, in \u001B[0;36mExperiment\u001B[0;34m(retr_systems, topics, qrels, eval_metrics, names, perquery, dataframe, batch_size, filter_by_qrels, filter_by_topics, baseline, test, correction, correction_alpha, highlight, round, verbose, save_dir, save_mode, **kwargs)\u001B[0m\n\u001B[1;32m    468\u001B[0m \u001B[38;5;28;01mif\u001B[39;00m save_dir \u001B[38;5;129;01mis\u001B[39;00m \u001B[38;5;129;01mnot\u001B[39;00m \u001B[38;5;28;01mNone\u001B[39;00m:\n\u001B[1;32m    469\u001B[0m     save_file \u001B[38;5;241m=\u001B[39m os\u001B[38;5;241m.\u001B[39mpath\u001B[38;5;241m.\u001B[39mjoin(save_dir, \u001B[38;5;124m\"\u001B[39m\u001B[38;5;132;01m%s\u001B[39;00m\u001B[38;5;124m.res.gz\u001B[39m\u001B[38;5;124m\"\u001B[39m \u001B[38;5;241m%\u001B[39m name)\n\u001B[0;32m--> 471\u001B[0m time, evalMeasuresDict \u001B[38;5;241m=\u001B[39m \u001B[43m_run_and_evaluate\u001B[49m\u001B[43m(\u001B[49m\n\u001B[1;32m    472\u001B[0m \u001B[43m    \u001B[49m\u001B[43msystem\u001B[49m\u001B[43m,\u001B[49m\u001B[43m \u001B[49m\u001B[43mtopics\u001B[49m\u001B[43m,\u001B[49m\u001B[43m \u001B[49m\u001B[43mqrels\u001B[49m\u001B[43m,\u001B[49m\u001B[43m \u001B[49m\u001B[43meval_metrics\u001B[49m\u001B[43m,\u001B[49m\u001B[43m \u001B[49m\n\u001B[1;32m    473\u001B[0m \u001B[43m    \u001B[49m\u001B[43mperquery\u001B[49m\u001B[38;5;241;43m=\u001B[39;49m\u001B[43mperquery\u001B[49m\u001B[43m \u001B[49m\u001B[38;5;129;43;01mor\u001B[39;49;00m\u001B[43m \u001B[49m\u001B[43mbaseline\u001B[49m\u001B[43m \u001B[49m\u001B[38;5;129;43;01mis\u001B[39;49;00m\u001B[43m \u001B[49m\u001B[38;5;129;43;01mnot\u001B[39;49;00m\u001B[43m \u001B[49m\u001B[38;5;28;43;01mNone\u001B[39;49;00m\u001B[43m,\u001B[49m\u001B[43m \u001B[49m\n\u001B[1;32m    474\u001B[0m \u001B[43m    \u001B[49m\u001B[43mbatch_size\u001B[49m\u001B[38;5;241;43m=\u001B[39;49m\u001B[43mbatch_size\u001B[49m\u001B[43m,\u001B[49m\u001B[43m \u001B[49m\n\u001B[1;32m    475\u001B[0m \u001B[43m    \u001B[49m\u001B[43mbackfill_qids\u001B[49m\u001B[38;5;241;43m=\u001B[39;49m\u001B[43mall_topic_qids\u001B[49m\u001B[43m \u001B[49m\u001B[38;5;28;43;01mif\u001B[39;49;00m\u001B[43m \u001B[49m\u001B[43mperquery\u001B[49m\u001B[43m \u001B[49m\u001B[38;5;28;43;01melse\u001B[39;49;00m\u001B[43m \u001B[49m\u001B[38;5;28;43;01mNone\u001B[39;49;00m\u001B[43m,\u001B[49m\n\u001B[1;32m    476\u001B[0m \u001B[43m    \u001B[49m\u001B[43msave_file\u001B[49m\u001B[38;5;241;43m=\u001B[39;49m\u001B[43msave_file\u001B[49m\u001B[43m,\u001B[49m\n\u001B[1;32m    477\u001B[0m \u001B[43m    \u001B[49m\u001B[43msave_mode\u001B[49m\u001B[38;5;241;43m=\u001B[39;49m\u001B[43msave_mode\u001B[49m\u001B[43m,\u001B[49m\n\u001B[1;32m    478\u001B[0m \u001B[43m    \u001B[49m\u001B[43mpbar\u001B[49m\u001B[38;5;241;43m=\u001B[39;49m\u001B[43mpbar\u001B[49m\u001B[43m)\u001B[49m\n\u001B[1;32m    480\u001B[0m \u001B[38;5;28;01mif\u001B[39;00m baseline \u001B[38;5;129;01mis\u001B[39;00m \u001B[38;5;129;01mnot\u001B[39;00m \u001B[38;5;28;01mNone\u001B[39;00m:\n\u001B[1;32m    481\u001B[0m     evalDictsPerQ\u001B[38;5;241m.\u001B[39mappend(evalMeasuresDict)\n",
      "File \u001B[0;32m~/Scoala/Facultate/University-Courses/RP/.venv/lib/python3.12/site-packages/pyterrier/pipelines.py:192\u001B[0m, in \u001B[0;36m_run_and_evaluate\u001B[0;34m(system, topics, qrels, metrics, pbar, save_mode, save_file, perquery, batch_size, backfill_qids)\u001B[0m\n\u001B[1;32m    188\u001B[0m \u001B[38;5;28;01melif\u001B[39;00m batch_size \u001B[38;5;129;01mis\u001B[39;00m \u001B[38;5;28;01mNone\u001B[39;00m:\n\u001B[1;32m    189\u001B[0m     \u001B[38;5;66;03m#transformer, evaluate all queries at once\u001B[39;00m\n\u001B[1;32m    191\u001B[0m     starttime \u001B[38;5;241m=\u001B[39m timer()\n\u001B[0;32m--> 192\u001B[0m     res \u001B[38;5;241m=\u001B[39m \u001B[43msystem\u001B[49m\u001B[38;5;241;43m.\u001B[39;49m\u001B[43mtransform\u001B[49m\u001B[43m(\u001B[49m\u001B[43mtopics\u001B[49m\u001B[43m)\u001B[49m\n\u001B[1;32m    193\u001B[0m     endtime \u001B[38;5;241m=\u001B[39m timer()\n\u001B[1;32m    194\u001B[0m     runtime \u001B[38;5;241m=\u001B[39m  (endtime \u001B[38;5;241m-\u001B[39m starttime) \u001B[38;5;241m*\u001B[39m \u001B[38;5;241m1000.\u001B[39m\n",
      "File \u001B[0;32m~/Scoala/Facultate/University-Courses/RP/.venv/lib/python3.12/site-packages/pyterrier/ops.py:335\u001B[0m, in \u001B[0;36mComposedPipeline.transform\u001B[0;34m(self, topics)\u001B[0m\n\u001B[1;32m    333\u001B[0m \u001B[38;5;28;01mdef\u001B[39;00m \u001B[38;5;21mtransform\u001B[39m(\u001B[38;5;28mself\u001B[39m, topics):\n\u001B[1;32m    334\u001B[0m     \u001B[38;5;28;01mfor\u001B[39;00m m \u001B[38;5;129;01min\u001B[39;00m \u001B[38;5;28mself\u001B[39m\u001B[38;5;241m.\u001B[39mmodels:\n\u001B[0;32m--> 335\u001B[0m         topics \u001B[38;5;241m=\u001B[39m \u001B[43mm\u001B[49m\u001B[38;5;241;43m.\u001B[39;49m\u001B[43mtransform\u001B[49m\u001B[43m(\u001B[49m\u001B[43mtopics\u001B[49m\u001B[43m)\u001B[49m\n\u001B[1;32m    336\u001B[0m     \u001B[38;5;28;01mreturn\u001B[39;00m topics\n",
      "File \u001B[0;32m~/Scoala/Facultate/University-Courses/RP/.venv/lib/python3.12/site-packages/pyterrier/ops.py:335\u001B[0m, in \u001B[0;36mComposedPipeline.transform\u001B[0;34m(self, topics)\u001B[0m\n\u001B[1;32m    333\u001B[0m \u001B[38;5;28;01mdef\u001B[39;00m \u001B[38;5;21mtransform\u001B[39m(\u001B[38;5;28mself\u001B[39m, topics):\n\u001B[1;32m    334\u001B[0m     \u001B[38;5;28;01mfor\u001B[39;00m m \u001B[38;5;129;01min\u001B[39;00m \u001B[38;5;28mself\u001B[39m\u001B[38;5;241m.\u001B[39mmodels:\n\u001B[0;32m--> 335\u001B[0m         topics \u001B[38;5;241m=\u001B[39m \u001B[43mm\u001B[49m\u001B[38;5;241;43m.\u001B[39;49m\u001B[43mtransform\u001B[49m\u001B[43m(\u001B[49m\u001B[43mtopics\u001B[49m\u001B[43m)\u001B[49m\n\u001B[1;32m    336\u001B[0m     \u001B[38;5;28;01mreturn\u001B[39;00m topics\n",
      "File \u001B[0;32m~/Scoala/Facultate/University-Courses/RP/.venv/lib/python3.12/site-packages/fast_forward/util/pyterrier.py:31\u001B[0m, in \u001B[0;36mFFScore.transform\u001B[0;34m(self, df)\u001B[0m\n\u001B[1;32m     20\u001B[0m \u001B[38;5;28;01mdef\u001B[39;00m \u001B[38;5;21mtransform\u001B[39m(\u001B[38;5;28mself\u001B[39m, df: pd\u001B[38;5;241m.\u001B[39mDataFrame) \u001B[38;5;241m-\u001B[39m\u001B[38;5;241m>\u001B[39m pd\u001B[38;5;241m.\u001B[39mDataFrame:\n\u001B[1;32m     21\u001B[0m \u001B[38;5;250m    \u001B[39m\u001B[38;5;124;03m\"\"\"Compute the scores for all query-document pairs in the data frame.\u001B[39;00m\n\u001B[1;32m     22\u001B[0m \u001B[38;5;124;03m    The previous scores are moved to the \"score_0\" column.\u001B[39;00m\n\u001B[1;32m     23\u001B[0m \n\u001B[0;32m   (...)\u001B[0m\n\u001B[1;32m     28\u001B[0m \u001B[38;5;124;03m        pd.DataFrame: A new data frame with the computed scores.\u001B[39;00m\n\u001B[1;32m     29\u001B[0m \u001B[38;5;124;03m    \"\"\"\u001B[39;00m\n\u001B[1;32m     30\u001B[0m     ff_scores \u001B[38;5;241m=\u001B[39m \u001B[38;5;28mself\u001B[39m\u001B[38;5;241m.\u001B[39m_index(\n\u001B[0;32m---> 31\u001B[0m         \u001B[43mRanking\u001B[49m\u001B[43m(\u001B[49m\n\u001B[1;32m     32\u001B[0m \u001B[43m            \u001B[49m\u001B[43mdf\u001B[49m\u001B[38;5;241;43m.\u001B[39;49m\u001B[43mrename\u001B[49m\u001B[43m(\u001B[49m\u001B[43mcolumns\u001B[49m\u001B[38;5;241;43m=\u001B[39;49m\u001B[43m{\u001B[49m\u001B[38;5;124;43m\"\u001B[39;49m\u001B[38;5;124;43mqid\u001B[39;49m\u001B[38;5;124;43m\"\u001B[39;49m\u001B[43m:\u001B[49m\u001B[43m \u001B[49m\u001B[38;5;124;43m\"\u001B[39;49m\u001B[38;5;124;43mq_id\u001B[39;49m\u001B[38;5;124;43m\"\u001B[39;49m\u001B[43m,\u001B[49m\u001B[43m \u001B[49m\u001B[38;5;124;43m\"\u001B[39;49m\u001B[38;5;124;43mdocno\u001B[39;49m\u001B[38;5;124;43m\"\u001B[39;49m\u001B[43m:\u001B[49m\u001B[43m \u001B[49m\u001B[38;5;124;43m\"\u001B[39;49m\u001B[38;5;124;43mid\u001B[39;49m\u001B[38;5;124;43m\"\u001B[39;49m\u001B[43m}\u001B[49m\u001B[43m)\u001B[49m\u001B[43m,\u001B[49m\n\u001B[1;32m     33\u001B[0m \u001B[43m            \u001B[49m\u001B[43mcopy\u001B[49m\u001B[38;5;241;43m=\u001B[39;49m\u001B[38;5;28;43;01mFalse\u001B[39;49;00m\u001B[43m,\u001B[49m\n\u001B[1;32m     34\u001B[0m \u001B[43m            \u001B[49m\u001B[43mis_sorted\u001B[49m\u001B[38;5;241;43m=\u001B[39;49m\u001B[38;5;28;43;01mTrue\u001B[39;49;00m\u001B[43m,\u001B[49m\n\u001B[1;32m     35\u001B[0m \u001B[43m        \u001B[49m\u001B[43m)\u001B[49m\n\u001B[1;32m     36\u001B[0m     )\u001B[38;5;241m.\u001B[39m_df\u001B[38;5;241m.\u001B[39mrename(columns\u001B[38;5;241m=\u001B[39m{\u001B[38;5;124m\"\u001B[39m\u001B[38;5;124mq_id\u001B[39m\u001B[38;5;124m\"\u001B[39m: \u001B[38;5;124m\"\u001B[39m\u001B[38;5;124mqid\u001B[39m\u001B[38;5;124m\"\u001B[39m, \u001B[38;5;124m\"\u001B[39m\u001B[38;5;124mid\u001B[39m\u001B[38;5;124m\"\u001B[39m: \u001B[38;5;124m\"\u001B[39m\u001B[38;5;124mdocno\u001B[39m\u001B[38;5;124m\"\u001B[39m})\n\u001B[1;32m     38\u001B[0m     \u001B[38;5;28;01mreturn\u001B[39;00m df[[\u001B[38;5;124m\"\u001B[39m\u001B[38;5;124mqid\u001B[39m\u001B[38;5;124m\"\u001B[39m, \u001B[38;5;124m\"\u001B[39m\u001B[38;5;124mdocno\u001B[39m\u001B[38;5;124m\"\u001B[39m, \u001B[38;5;124m\"\u001B[39m\u001B[38;5;124mscore\u001B[39m\u001B[38;5;124m\"\u001B[39m]]\u001B[38;5;241m.\u001B[39mmerge(\n\u001B[1;32m     39\u001B[0m         ff_scores[[\u001B[38;5;124m\"\u001B[39m\u001B[38;5;124mqid\u001B[39m\u001B[38;5;124m\"\u001B[39m, \u001B[38;5;124m\"\u001B[39m\u001B[38;5;124mdocno\u001B[39m\u001B[38;5;124m\"\u001B[39m, \u001B[38;5;124m\"\u001B[39m\u001B[38;5;124mscore\u001B[39m\u001B[38;5;124m\"\u001B[39m, \u001B[38;5;124m\"\u001B[39m\u001B[38;5;124mquery\u001B[39m\u001B[38;5;124m\"\u001B[39m]],\n\u001B[1;32m     40\u001B[0m         on\u001B[38;5;241m=\u001B[39m[\u001B[38;5;124m\"\u001B[39m\u001B[38;5;124mqid\u001B[39m\u001B[38;5;124m\"\u001B[39m, \u001B[38;5;124m\"\u001B[39m\u001B[38;5;124mdocno\u001B[39m\u001B[38;5;124m\"\u001B[39m],\n\u001B[1;32m     41\u001B[0m         suffixes\u001B[38;5;241m=\u001B[39m[\u001B[38;5;124m\"\u001B[39m\u001B[38;5;124m_0\u001B[39m\u001B[38;5;124m\"\u001B[39m, \u001B[38;5;28;01mNone\u001B[39;00m],\n\u001B[1;32m     42\u001B[0m     )\n",
      "File \u001B[0;32m~/Scoala/Facultate/University-Courses/RP/.venv/lib/python3.12/site-packages/fast_forward/ranking.py:68\u001B[0m, in \u001B[0;36mRanking.__init__\u001B[0;34m(self, df, name, queries, dtype, copy, is_sorted)\u001B[0m\n\u001B[1;32m     66\u001B[0m \u001B[38;5;28;01mif\u001B[39;00m \u001B[38;5;124m\"\u001B[39m\u001B[38;5;124mquery\u001B[39m\u001B[38;5;124m\"\u001B[39m \u001B[38;5;129;01min\u001B[39;00m df\u001B[38;5;241m.\u001B[39mcolumns:\n\u001B[1;32m     67\u001B[0m     cols \u001B[38;5;241m+\u001B[39m\u001B[38;5;241m=\u001B[39m [\u001B[38;5;124m\"\u001B[39m\u001B[38;5;124mquery\u001B[39m\u001B[38;5;124m\"\u001B[39m]\n\u001B[0;32m---> 68\u001B[0m \u001B[38;5;28mself\u001B[39m\u001B[38;5;241m.\u001B[39m_df \u001B[38;5;241m=\u001B[39m \u001B[43mdf\u001B[49m\u001B[38;5;241;43m.\u001B[39;49m\u001B[43mloc\u001B[49m\u001B[43m[\u001B[49m\u001B[43m:\u001B[49m\u001B[43m,\u001B[49m\u001B[43m \u001B[49m\u001B[43mcols\u001B[49m\u001B[43m]\u001B[49m\u001B[38;5;241m.\u001B[39mdropna()\n\u001B[1;32m     69\u001B[0m \u001B[38;5;28;01mif\u001B[39;00m copy:\n\u001B[1;32m     70\u001B[0m     \u001B[38;5;28mself\u001B[39m\u001B[38;5;241m.\u001B[39m_df \u001B[38;5;241m=\u001B[39m \u001B[38;5;28mself\u001B[39m\u001B[38;5;241m.\u001B[39m_df\u001B[38;5;241m.\u001B[39mcopy()\n",
      "File \u001B[0;32m~/Scoala/Facultate/University-Courses/RP/.venv/lib/python3.12/site-packages/pandas/core/indexing.py:1184\u001B[0m, in \u001B[0;36m_LocationIndexer.__getitem__\u001B[0;34m(self, key)\u001B[0m\n\u001B[1;32m   1182\u001B[0m     \u001B[38;5;28;01mif\u001B[39;00m \u001B[38;5;28mself\u001B[39m\u001B[38;5;241m.\u001B[39m_is_scalar_access(key):\n\u001B[1;32m   1183\u001B[0m         \u001B[38;5;28;01mreturn\u001B[39;00m \u001B[38;5;28mself\u001B[39m\u001B[38;5;241m.\u001B[39mobj\u001B[38;5;241m.\u001B[39m_get_value(\u001B[38;5;241m*\u001B[39mkey, takeable\u001B[38;5;241m=\u001B[39m\u001B[38;5;28mself\u001B[39m\u001B[38;5;241m.\u001B[39m_takeable)\n\u001B[0;32m-> 1184\u001B[0m     \u001B[38;5;28;01mreturn\u001B[39;00m \u001B[38;5;28;43mself\u001B[39;49m\u001B[38;5;241;43m.\u001B[39;49m\u001B[43m_getitem_tuple\u001B[49m\u001B[43m(\u001B[49m\u001B[43mkey\u001B[49m\u001B[43m)\u001B[49m\n\u001B[1;32m   1185\u001B[0m \u001B[38;5;28;01melse\u001B[39;00m:\n\u001B[1;32m   1186\u001B[0m     \u001B[38;5;66;03m# we by definition only have the 0th axis\u001B[39;00m\n\u001B[1;32m   1187\u001B[0m     axis \u001B[38;5;241m=\u001B[39m \u001B[38;5;28mself\u001B[39m\u001B[38;5;241m.\u001B[39maxis \u001B[38;5;129;01mor\u001B[39;00m \u001B[38;5;241m0\u001B[39m\n",
      "File \u001B[0;32m~/Scoala/Facultate/University-Courses/RP/.venv/lib/python3.12/site-packages/pandas/core/indexing.py:1377\u001B[0m, in \u001B[0;36m_LocIndexer._getitem_tuple\u001B[0;34m(self, tup)\u001B[0m\n\u001B[1;32m   1374\u001B[0m \u001B[38;5;28;01mif\u001B[39;00m \u001B[38;5;28mself\u001B[39m\u001B[38;5;241m.\u001B[39m_multi_take_opportunity(tup):\n\u001B[1;32m   1375\u001B[0m     \u001B[38;5;28;01mreturn\u001B[39;00m \u001B[38;5;28mself\u001B[39m\u001B[38;5;241m.\u001B[39m_multi_take(tup)\n\u001B[0;32m-> 1377\u001B[0m \u001B[38;5;28;01mreturn\u001B[39;00m \u001B[38;5;28;43mself\u001B[39;49m\u001B[38;5;241;43m.\u001B[39;49m\u001B[43m_getitem_tuple_same_dim\u001B[49m\u001B[43m(\u001B[49m\u001B[43mtup\u001B[49m\u001B[43m)\u001B[49m\n",
      "File \u001B[0;32m~/Scoala/Facultate/University-Courses/RP/.venv/lib/python3.12/site-packages/pandas/core/indexing.py:1020\u001B[0m, in \u001B[0;36m_LocationIndexer._getitem_tuple_same_dim\u001B[0;34m(self, tup)\u001B[0m\n\u001B[1;32m   1017\u001B[0m \u001B[38;5;28;01mif\u001B[39;00m com\u001B[38;5;241m.\u001B[39mis_null_slice(key):\n\u001B[1;32m   1018\u001B[0m     \u001B[38;5;28;01mcontinue\u001B[39;00m\n\u001B[0;32m-> 1020\u001B[0m retval \u001B[38;5;241m=\u001B[39m \u001B[38;5;28;43mgetattr\u001B[39;49m\u001B[43m(\u001B[49m\u001B[43mretval\u001B[49m\u001B[43m,\u001B[49m\u001B[43m \u001B[49m\u001B[38;5;28;43mself\u001B[39;49m\u001B[38;5;241;43m.\u001B[39;49m\u001B[43mname\u001B[49m\u001B[43m)\u001B[49m\u001B[38;5;241;43m.\u001B[39;49m\u001B[43m_getitem_axis\u001B[49m\u001B[43m(\u001B[49m\u001B[43mkey\u001B[49m\u001B[43m,\u001B[49m\u001B[43m \u001B[49m\u001B[43maxis\u001B[49m\u001B[38;5;241;43m=\u001B[39;49m\u001B[43mi\u001B[49m\u001B[43m)\u001B[49m\n\u001B[1;32m   1021\u001B[0m \u001B[38;5;66;03m# We should never have retval.ndim < self.ndim, as that should\u001B[39;00m\n\u001B[1;32m   1022\u001B[0m \u001B[38;5;66;03m#  be handled by the _getitem_lowerdim call above.\u001B[39;00m\n\u001B[1;32m   1023\u001B[0m \u001B[38;5;28;01massert\u001B[39;00m retval\u001B[38;5;241m.\u001B[39mndim \u001B[38;5;241m==\u001B[39m \u001B[38;5;28mself\u001B[39m\u001B[38;5;241m.\u001B[39mndim\n",
      "File \u001B[0;32m~/Scoala/Facultate/University-Courses/RP/.venv/lib/python3.12/site-packages/pandas/core/indexing.py:1420\u001B[0m, in \u001B[0;36m_LocIndexer._getitem_axis\u001B[0;34m(self, key, axis)\u001B[0m\n\u001B[1;32m   1417\u001B[0m     \u001B[38;5;28;01mif\u001B[39;00m \u001B[38;5;28mhasattr\u001B[39m(key, \u001B[38;5;124m\"\u001B[39m\u001B[38;5;124mndim\u001B[39m\u001B[38;5;124m\"\u001B[39m) \u001B[38;5;129;01mand\u001B[39;00m key\u001B[38;5;241m.\u001B[39mndim \u001B[38;5;241m>\u001B[39m \u001B[38;5;241m1\u001B[39m:\n\u001B[1;32m   1418\u001B[0m         \u001B[38;5;28;01mraise\u001B[39;00m \u001B[38;5;167;01mValueError\u001B[39;00m(\u001B[38;5;124m\"\u001B[39m\u001B[38;5;124mCannot index with multidimensional key\u001B[39m\u001B[38;5;124m\"\u001B[39m)\n\u001B[0;32m-> 1420\u001B[0m     \u001B[38;5;28;01mreturn\u001B[39;00m \u001B[38;5;28;43mself\u001B[39;49m\u001B[38;5;241;43m.\u001B[39;49m\u001B[43m_getitem_iterable\u001B[49m\u001B[43m(\u001B[49m\u001B[43mkey\u001B[49m\u001B[43m,\u001B[49m\u001B[43m \u001B[49m\u001B[43maxis\u001B[49m\u001B[38;5;241;43m=\u001B[39;49m\u001B[43maxis\u001B[49m\u001B[43m)\u001B[49m\n\u001B[1;32m   1422\u001B[0m \u001B[38;5;66;03m# nested tuple slicing\u001B[39;00m\n\u001B[1;32m   1423\u001B[0m \u001B[38;5;28;01mif\u001B[39;00m is_nested_tuple(key, labels):\n",
      "File \u001B[0;32m~/Scoala/Facultate/University-Courses/RP/.venv/lib/python3.12/site-packages/pandas/core/indexing.py:1360\u001B[0m, in \u001B[0;36m_LocIndexer._getitem_iterable\u001B[0;34m(self, key, axis)\u001B[0m\n\u001B[1;32m   1357\u001B[0m \u001B[38;5;28mself\u001B[39m\u001B[38;5;241m.\u001B[39m_validate_key(key, axis)\n\u001B[1;32m   1359\u001B[0m \u001B[38;5;66;03m# A collection of keys\u001B[39;00m\n\u001B[0;32m-> 1360\u001B[0m keyarr, indexer \u001B[38;5;241m=\u001B[39m \u001B[38;5;28;43mself\u001B[39;49m\u001B[38;5;241;43m.\u001B[39;49m\u001B[43m_get_listlike_indexer\u001B[49m\u001B[43m(\u001B[49m\u001B[43mkey\u001B[49m\u001B[43m,\u001B[49m\u001B[43m \u001B[49m\u001B[43maxis\u001B[49m\u001B[43m)\u001B[49m\n\u001B[1;32m   1361\u001B[0m \u001B[38;5;28;01mreturn\u001B[39;00m \u001B[38;5;28mself\u001B[39m\u001B[38;5;241m.\u001B[39mobj\u001B[38;5;241m.\u001B[39m_reindex_with_indexers(\n\u001B[1;32m   1362\u001B[0m     {axis: [keyarr, indexer]}, copy\u001B[38;5;241m=\u001B[39m\u001B[38;5;28;01mTrue\u001B[39;00m, allow_dups\u001B[38;5;241m=\u001B[39m\u001B[38;5;28;01mTrue\u001B[39;00m\n\u001B[1;32m   1363\u001B[0m )\n",
      "File \u001B[0;32m~/Scoala/Facultate/University-Courses/RP/.venv/lib/python3.12/site-packages/pandas/core/indexing.py:1558\u001B[0m, in \u001B[0;36m_LocIndexer._get_listlike_indexer\u001B[0;34m(self, key, axis)\u001B[0m\n\u001B[1;32m   1555\u001B[0m ax \u001B[38;5;241m=\u001B[39m \u001B[38;5;28mself\u001B[39m\u001B[38;5;241m.\u001B[39mobj\u001B[38;5;241m.\u001B[39m_get_axis(axis)\n\u001B[1;32m   1556\u001B[0m axis_name \u001B[38;5;241m=\u001B[39m \u001B[38;5;28mself\u001B[39m\u001B[38;5;241m.\u001B[39mobj\u001B[38;5;241m.\u001B[39m_get_axis_name(axis)\n\u001B[0;32m-> 1558\u001B[0m keyarr, indexer \u001B[38;5;241m=\u001B[39m \u001B[43max\u001B[49m\u001B[38;5;241;43m.\u001B[39;49m\u001B[43m_get_indexer_strict\u001B[49m\u001B[43m(\u001B[49m\u001B[43mkey\u001B[49m\u001B[43m,\u001B[49m\u001B[43m \u001B[49m\u001B[43maxis_name\u001B[49m\u001B[43m)\u001B[49m\n\u001B[1;32m   1560\u001B[0m \u001B[38;5;28;01mreturn\u001B[39;00m keyarr, indexer\n",
      "File \u001B[0;32m~/Scoala/Facultate/University-Courses/RP/.venv/lib/python3.12/site-packages/pandas/core/indexes/base.py:6200\u001B[0m, in \u001B[0;36mIndex._get_indexer_strict\u001B[0;34m(self, key, axis_name)\u001B[0m\n\u001B[1;32m   6197\u001B[0m \u001B[38;5;28;01melse\u001B[39;00m:\n\u001B[1;32m   6198\u001B[0m     keyarr, indexer, new_indexer \u001B[38;5;241m=\u001B[39m \u001B[38;5;28mself\u001B[39m\u001B[38;5;241m.\u001B[39m_reindex_non_unique(keyarr)\n\u001B[0;32m-> 6200\u001B[0m \u001B[38;5;28;43mself\u001B[39;49m\u001B[38;5;241;43m.\u001B[39;49m\u001B[43m_raise_if_missing\u001B[49m\u001B[43m(\u001B[49m\u001B[43mkeyarr\u001B[49m\u001B[43m,\u001B[49m\u001B[43m \u001B[49m\u001B[43mindexer\u001B[49m\u001B[43m,\u001B[49m\u001B[43m \u001B[49m\u001B[43maxis_name\u001B[49m\u001B[43m)\u001B[49m\n\u001B[1;32m   6202\u001B[0m keyarr \u001B[38;5;241m=\u001B[39m \u001B[38;5;28mself\u001B[39m\u001B[38;5;241m.\u001B[39mtake(indexer)\n\u001B[1;32m   6203\u001B[0m \u001B[38;5;28;01mif\u001B[39;00m \u001B[38;5;28misinstance\u001B[39m(key, Index):\n\u001B[1;32m   6204\u001B[0m     \u001B[38;5;66;03m# GH 42790 - Preserve name from an Index\u001B[39;00m\n",
      "File \u001B[0;32m~/Scoala/Facultate/University-Courses/RP/.venv/lib/python3.12/site-packages/pandas/core/indexes/base.py:6252\u001B[0m, in \u001B[0;36mIndex._raise_if_missing\u001B[0;34m(self, key, indexer, axis_name)\u001B[0m\n\u001B[1;32m   6249\u001B[0m     \u001B[38;5;28;01mraise\u001B[39;00m \u001B[38;5;167;01mKeyError\u001B[39;00m(\u001B[38;5;124mf\u001B[39m\u001B[38;5;124m\"\u001B[39m\u001B[38;5;124mNone of [\u001B[39m\u001B[38;5;132;01m{\u001B[39;00mkey\u001B[38;5;132;01m}\u001B[39;00m\u001B[38;5;124m] are in the [\u001B[39m\u001B[38;5;132;01m{\u001B[39;00maxis_name\u001B[38;5;132;01m}\u001B[39;00m\u001B[38;5;124m]\u001B[39m\u001B[38;5;124m\"\u001B[39m)\n\u001B[1;32m   6251\u001B[0m not_found \u001B[38;5;241m=\u001B[39m \u001B[38;5;28mlist\u001B[39m(ensure_index(key)[missing_mask\u001B[38;5;241m.\u001B[39mnonzero()[\u001B[38;5;241m0\u001B[39m]]\u001B[38;5;241m.\u001B[39munique())\n\u001B[0;32m-> 6252\u001B[0m \u001B[38;5;28;01mraise\u001B[39;00m \u001B[38;5;167;01mKeyError\u001B[39;00m(\u001B[38;5;124mf\u001B[39m\u001B[38;5;124m\"\u001B[39m\u001B[38;5;132;01m{\u001B[39;00mnot_found\u001B[38;5;132;01m}\u001B[39;00m\u001B[38;5;124m not in index\u001B[39m\u001B[38;5;124m\"\u001B[39m)\n",
      "\u001B[0;31mKeyError\u001B[0m: \"['id', 'score'] not in index\""
     ]
    }
   ],
   "execution_count": 16
  },
  {
   "metadata": {},
   "cell_type": "code",
   "outputs": [],
   "execution_count": null,
   "source": "",
   "id": "e73c802c83f6af05"
  }
 ],
 "metadata": {
  "kernelspec": {
   "display_name": "Python 3",
   "language": "python",
   "name": "python3"
  },
  "language_info": {
   "codemirror_mode": {
    "name": "ipython",
    "version": 2
   },
   "file_extension": ".py",
   "mimetype": "text/x-python",
   "name": "python",
   "nbconvert_exporter": "python",
   "pygments_lexer": "ipython2",
   "version": "2.7.6"
  }
 },
 "nbformat": 4,
 "nbformat_minor": 5
}
