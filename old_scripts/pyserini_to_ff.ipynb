{
 "cells": [
  {
   "cell_type": "markdown",
   "metadata": {
    "id": "5Na3NTzgvKlR"
   },
   "source": [
    "# Converting a Pyserini FAISS index to a Fast-Forward index\n",
    "\n",
    "We'll use [this](https://github.com/castorini/pyserini/blob/9db25847829a656d1c9eacb267bf745f7522dd14/pyserini/prebuilt_index_info.py#L3482) index.\n",
    "\n",
    "First, download and extract the files:\n"
   ]
  },
  {
   "cell_type": "code",
   "metadata": {
    "vscode": {
     "languageId": "shellscript"
    },
    "id": "DSsk5fB7vKlR",
    "ExecuteTime": {
     "end_time": "2024-05-20T11:15:49.489032Z",
     "start_time": "2024-05-20T11:15:49.224927Z"
    }
   },
   "source": [
    "!wget https://rgw.cs.uwaterloo.ca/pyserini/indexes/faiss/faiss-flat.beir-v1.0.0-fiqa.contriever.20230124.tar.gz\n",
    "!tar xf faiss-flat.beir-v1.0.0-fiqa.contriever.20230124.tar.gz"
   ],
   "outputs": [
    {
     "name": "stdout",
     "output_type": "stream",
     "text": [
      "zsh:1: command not found: wget\r\n",
      "tar: Error opening archive: Failed to open 'faiss-flat.beir-v1.0.0-fiqa.contriever.20230124.tar.gz'\r\n"
     ]
    }
   ],
   "execution_count": 1
  },
  {
   "cell_type": "markdown",
   "metadata": {
    "id": "RC3PhA9cvKlR"
   },
   "source": [
    "Since Pyserini indexes are for dense retrieval, you'll need the [FAISS library](https://github.com/facebookresearch/faiss) to load them.\n"
   ]
  },
  {
   "cell_type": "code",
   "source": [
    "!pip install faiss-cpu"
   ],
   "metadata": {
    "id": "DP2KTFjtvb-_",
    "ExecuteTime": {
     "end_time": "2024-05-20T11:19:15.707097Z",
     "start_time": "2024-05-20T11:19:14.525937Z"
    }
   },
   "outputs": [
    {
     "name": "stdout",
     "output_type": "stream",
     "text": [
      "Requirement already satisfied: faiss-cpu in ./.venv/lib/python3.12/site-packages (1.8.0)\r\n",
      "Requirement already satisfied: numpy in ./.venv/lib/python3.12/site-packages (from faiss-cpu) (1.26.4)\r\n"
     ]
    }
   ],
   "execution_count": 2
  },
  {
   "cell_type": "markdown",
   "source": [
    "We can then reconstruct all vectors:"
   ],
   "metadata": {
    "id": "am2mKDEcvhUQ"
   }
  },
  {
   "cell_type": "code",
   "metadata": {
    "id": "8er2NvS-vKlR",
    "ExecuteTime": {
     "end_time": "2024-05-20T11:27:07.841330Z",
     "start_time": "2024-05-20T11:27:07.245274Z"
    }
   },
   "source": [
    "import faiss\n",
    "\n",
    "index = faiss.read_index(\"faiss-flat.beir-v1.0.0-trec-covid.contriever.20230124/index\")\n",
    "with open(\"faiss-flat.beir-v1.0.0-trec-covid.contriever.20230124/docid\") as fp:\n",
    "    docids = list(fp.read().splitlines())\n",
    "vectors = index.reconstruct_n(0, len(docids))"
   ],
   "outputs": [],
   "execution_count": 7
  },
  {
   "cell_type": "markdown",
   "metadata": {
    "id": "2eQHsv1UvKlR"
   },
   "source": [
    "Now we have two arrays; one contains all document representations and the other contains the corresponding IDs. We can use those to create a Fast-Forward index:\n"
   ]
  },
  {
   "cell_type": "code",
   "source": [
    "!pip install fast-forward-indexes==0.2.0"
   ],
   "metadata": {
    "id": "bkEfhk1cvxC4",
    "ExecuteTime": {
     "end_time": "2024-05-20T11:27:12.702370Z",
     "start_time": "2024-05-20T11:27:11.134999Z"
    }
   },
   "outputs": [
    {
     "name": "stdout",
     "output_type": "stream",
     "text": [
      "Requirement already satisfied: fast-forward-indexes==0.2.0 in ./.venv/lib/python3.12/site-packages (0.2.0)\r\n",
      "Requirement already satisfied: torch>=2.0.0 in ./.venv/lib/python3.12/site-packages (from fast-forward-indexes==0.2.0) (2.3.0)\r\n",
      "Requirement already satisfied: numpy>=1.24.0 in ./.venv/lib/python3.12/site-packages (from fast-forward-indexes==0.2.0) (1.26.4)\r\n",
      "Requirement already satisfied: pandas>=2.0.3 in ./.venv/lib/python3.12/site-packages (from fast-forward-indexes==0.2.0) (2.2.2)\r\n",
      "Requirement already satisfied: transformers>=4.28.0 in ./.venv/lib/python3.12/site-packages (from fast-forward-indexes==0.2.0) (4.40.1)\r\n",
      "Requirement already satisfied: tqdm in ./.venv/lib/python3.12/site-packages (from fast-forward-indexes==0.2.0) (4.66.2)\r\n",
      "Requirement already satisfied: h5py>=3.0.0 in ./.venv/lib/python3.12/site-packages (from fast-forward-indexes==0.2.0) (3.11.0)\r\n",
      "Requirement already satisfied: python-dateutil>=2.8.2 in ./.venv/lib/python3.12/site-packages (from pandas>=2.0.3->fast-forward-indexes==0.2.0) (2.9.0.post0)\r\n",
      "Requirement already satisfied: pytz>=2020.1 in ./.venv/lib/python3.12/site-packages (from pandas>=2.0.3->fast-forward-indexes==0.2.0) (2024.1)\r\n",
      "Requirement already satisfied: tzdata>=2022.7 in ./.venv/lib/python3.12/site-packages (from pandas>=2.0.3->fast-forward-indexes==0.2.0) (2024.1)\r\n",
      "Requirement already satisfied: filelock in ./.venv/lib/python3.12/site-packages (from torch>=2.0.0->fast-forward-indexes==0.2.0) (3.13.4)\r\n",
      "Requirement already satisfied: typing-extensions>=4.8.0 in ./.venv/lib/python3.12/site-packages (from torch>=2.0.0->fast-forward-indexes==0.2.0) (4.11.0)\r\n",
      "Requirement already satisfied: sympy in ./.venv/lib/python3.12/site-packages (from torch>=2.0.0->fast-forward-indexes==0.2.0) (1.12)\r\n",
      "Requirement already satisfied: networkx in ./.venv/lib/python3.12/site-packages (from torch>=2.0.0->fast-forward-indexes==0.2.0) (3.3)\r\n",
      "Requirement already satisfied: jinja2 in ./.venv/lib/python3.12/site-packages (from torch>=2.0.0->fast-forward-indexes==0.2.0) (3.1.3)\r\n",
      "Requirement already satisfied: fsspec in ./.venv/lib/python3.12/site-packages (from torch>=2.0.0->fast-forward-indexes==0.2.0) (2024.3.1)\r\n",
      "Requirement already satisfied: huggingface-hub<1.0,>=0.19.3 in ./.venv/lib/python3.12/site-packages (from transformers>=4.28.0->fast-forward-indexes==0.2.0) (0.22.2)\r\n",
      "Requirement already satisfied: packaging>=20.0 in ./.venv/lib/python3.12/site-packages (from transformers>=4.28.0->fast-forward-indexes==0.2.0) (24.0)\r\n",
      "Requirement already satisfied: pyyaml>=5.1 in ./.venv/lib/python3.12/site-packages (from transformers>=4.28.0->fast-forward-indexes==0.2.0) (6.0.1)\r\n",
      "Requirement already satisfied: regex!=2019.12.17 in ./.venv/lib/python3.12/site-packages (from transformers>=4.28.0->fast-forward-indexes==0.2.0) (2024.4.16)\r\n",
      "Requirement already satisfied: requests in ./.venv/lib/python3.12/site-packages (from transformers>=4.28.0->fast-forward-indexes==0.2.0) (2.31.0)\r\n",
      "Requirement already satisfied: tokenizers<0.20,>=0.19 in ./.venv/lib/python3.12/site-packages (from transformers>=4.28.0->fast-forward-indexes==0.2.0) (0.19.1)\r\n",
      "Requirement already satisfied: safetensors>=0.4.1 in ./.venv/lib/python3.12/site-packages (from transformers>=4.28.0->fast-forward-indexes==0.2.0) (0.4.3)\r\n",
      "Requirement already satisfied: six>=1.5 in ./.venv/lib/python3.12/site-packages (from python-dateutil>=2.8.2->pandas>=2.0.3->fast-forward-indexes==0.2.0) (1.16.0)\r\n",
      "Requirement already satisfied: MarkupSafe>=2.0 in ./.venv/lib/python3.12/site-packages (from jinja2->torch>=2.0.0->fast-forward-indexes==0.2.0) (2.1.5)\r\n",
      "Requirement already satisfied: charset-normalizer<4,>=2 in ./.venv/lib/python3.12/site-packages (from requests->transformers>=4.28.0->fast-forward-indexes==0.2.0) (3.3.2)\r\n",
      "Requirement already satisfied: idna<4,>=2.5 in ./.venv/lib/python3.12/site-packages (from requests->transformers>=4.28.0->fast-forward-indexes==0.2.0) (3.7)\r\n",
      "Requirement already satisfied: urllib3<3,>=1.21.1 in ./.venv/lib/python3.12/site-packages (from requests->transformers>=4.28.0->fast-forward-indexes==0.2.0) (2.2.1)\r\n",
      "Requirement already satisfied: certifi>=2017.4.17 in ./.venv/lib/python3.12/site-packages (from requests->transformers>=4.28.0->fast-forward-indexes==0.2.0) (2024.2.2)\r\n",
      "Requirement already satisfied: mpmath>=0.19 in ./.venv/lib/python3.12/site-packages (from sympy->torch>=2.0.0->fast-forward-indexes==0.2.0) (1.3.0)\r\n"
     ]
    }
   ],
   "execution_count": 8
  },
  {
   "cell_type": "code",
   "metadata": {
    "id": "FUUiOG7ZvKlS",
    "ExecuteTime": {
     "end_time": "2024-05-20T11:27:37.639250Z",
     "start_time": "2024-05-20T11:27:35.400362Z"
    }
   },
   "source": [
    "from pathlib import Path\n",
    "from fast_forward import OnDiskIndex\n",
    "\n",
    "OnDiskIndex(Path(\"beir-covid-trec_ff.h5\"), 768).add(vectors, doc_ids=docids)"
   ],
   "outputs": [],
   "execution_count": 9
  },
  {
   "cell_type": "markdown",
   "metadata": {
    "id": "YmRVYPxKvKlT"
   },
   "source": [
    "# Using the index\n",
    "\n",
    "The index we created is for the [Contriever](https://github.com/facebookresearch/contriever) encoder. The model is available [here](https://huggingface.co/facebook/contriever).\n",
    "\n",
    "Since the model is based on a Transformer encoder, we can subclass `fast_forward.encoder.TransformerEncoder` to implement a Fast-Forward query encoder. The code is simply copied from the readme found at the link above.\n"
   ]
  },
  {
   "cell_type": "code",
   "execution_count": null,
   "metadata": {
    "id": "vdPgYjlZvKlT"
   },
   "outputs": [],
   "source": [
    "from fast_forward.encoder import TransformerEncoder\n",
    "import torch\n",
    "\n",
    "\n",
    "class ContrieverEncoder(TransformerEncoder):\n",
    "    def __call__(self, texts):\n",
    "        inputs = self.tokenizer(\n",
    "            texts, padding=True, truncation=True, return_tensors=\"pt\"\n",
    "        )\n",
    "        with torch.no_grad():\n",
    "            outputs = self.model(**inputs)\n",
    "\n",
    "        def mean_pooling(token_embeddings, mask):\n",
    "            token_embeddings = token_embeddings.masked_fill(\n",
    "                ~mask[..., None].bool(), 0.0\n",
    "            )\n",
    "            sentence_embeddings = (\n",
    "                token_embeddings.sum(dim=1) / mask.sum(dim=1)[..., None]\n",
    "            )\n",
    "            return sentence_embeddings\n",
    "\n",
    "        return mean_pooling(outputs[0], inputs[\"attention_mask\"])"
   ]
  },
  {
   "cell_type": "markdown",
   "metadata": {
    "id": "1-kIw3mlvKlT"
   },
   "source": [
    "Now we can load the index we just created and attach a query encoder:\n"
   ]
  },
  {
   "cell_type": "code",
   "execution_count": null,
   "metadata": {
    "id": "B0BnLB-kvKlT"
   },
   "outputs": [],
   "source": [
    "from fast_forward import OnDiskIndex, Mode\n",
    "from pathlib import Path\n",
    "\n",
    "ff_index = OnDiskIndex.load(\n",
    "    Path(\"beir-v1.0.0-fiqa.contriever_ff.h5\"),\n",
    "    ContrieverEncoder(\"facebook/contriever\"),\n",
    "    Mode.MAXP,\n",
    ").to_memory()"
   ]
  },
  {
   "cell_type": "markdown",
   "metadata": {
    "id": "5ocmdQpjvKlU"
   },
   "source": [
    "This index can be used, for example, in a PyTerrier pipeline.\n"
   ]
  }
 ],
 "metadata": {
  "kernelspec": {
   "display_name": "ff",
   "language": "python",
   "name": "python3"
  },
  "language_info": {
   "codemirror_mode": {
    "name": "ipython",
    "version": 3
   },
   "file_extension": ".py",
   "mimetype": "text/x-python",
   "name": "python",
   "nbconvert_exporter": "python",
   "pygments_lexer": "ipython3",
   "version": "3.11.4"
  },
  "colab": {
   "provenance": []
  }
 },
 "nbformat": 4,
 "nbformat_minor": 0
}
