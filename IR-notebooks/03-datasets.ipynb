{
 "cells": [
  {
   "cell_type": "markdown",
   "metadata": {},
   "source": [
    "# Introduction to PyTerrier\n",
    "\n",
    "_IN4325: Information retrieval lecture, TU Delft_\n",
    "\n",
    "**Part 3: Datasets**\n",
    "\n",
    "This notebook focuses on IR datasets and pre-made indexes that can be loaded automatically in PyTerrier.\n"
   ]
  },
  {
   "cell_type": "code",
   "metadata": {
    "vscode": {
     "languageId": "shellscript"
    },
    "ExecuteTime": {
     "end_time": "2024-04-24T14:47:01.984124Z",
     "start_time": "2024-04-24T14:47:00.872891Z"
    }
   },
   "source": [
    "pip install python-terrier==0.10.0"
   ],
   "outputs": [
    {
     "name": "stdout",
     "output_type": "stream",
     "text": [
      "Requirement already satisfied: python-terrier==0.10.0 in ./env/lib/python3.12/site-packages (0.10.0)\r\n",
      "Requirement already satisfied: numpy in ./env/lib/python3.12/site-packages (from python-terrier==0.10.0) (1.26.4)\r\n",
      "Requirement already satisfied: pandas in ./env/lib/python3.12/site-packages (from python-terrier==0.10.0) (2.2.2)\r\n",
      "Requirement already satisfied: wget in ./env/lib/python3.12/site-packages (from python-terrier==0.10.0) (3.2)\r\n",
      "Requirement already satisfied: tqdm in ./env/lib/python3.12/site-packages (from python-terrier==0.10.0) (4.66.2)\r\n",
      "Requirement already satisfied: pyjnius>=1.4.2 in ./env/lib/python3.12/site-packages (from python-terrier==0.10.0) (1.6.1)\r\n",
      "Requirement already satisfied: matchpy in ./env/lib/python3.12/site-packages (from python-terrier==0.10.0) (0.5.5)\r\n",
      "Requirement already satisfied: scikit-learn in ./env/lib/python3.12/site-packages (from python-terrier==0.10.0) (1.4.2)\r\n",
      "Requirement already satisfied: deprecated in ./env/lib/python3.12/site-packages (from python-terrier==0.10.0) (1.2.14)\r\n",
      "Requirement already satisfied: chest in ./env/lib/python3.12/site-packages (from python-terrier==0.10.0) (0.2.3)\r\n",
      "Requirement already satisfied: scipy in ./env/lib/python3.12/site-packages (from python-terrier==0.10.0) (1.13.0)\r\n",
      "Requirement already satisfied: requests in ./env/lib/python3.12/site-packages (from python-terrier==0.10.0) (2.31.0)\r\n",
      "Requirement already satisfied: joblib in ./env/lib/python3.12/site-packages (from python-terrier==0.10.0) (1.4.0)\r\n",
      "Requirement already satisfied: nptyping==1.4.4 in ./env/lib/python3.12/site-packages (from python-terrier==0.10.0) (1.4.4)\r\n",
      "Requirement already satisfied: more-itertools in ./env/lib/python3.12/site-packages (from python-terrier==0.10.0) (10.2.0)\r\n",
      "Requirement already satisfied: ir-datasets>=0.3.2 in ./env/lib/python3.12/site-packages (from python-terrier==0.10.0) (0.5.6)\r\n",
      "Requirement already satisfied: jinja2 in ./env/lib/python3.12/site-packages (from python-terrier==0.10.0) (3.1.3)\r\n",
      "Requirement already satisfied: statsmodels in ./env/lib/python3.12/site-packages (from python-terrier==0.10.0) (0.14.2)\r\n",
      "Requirement already satisfied: ir-measures>=0.3.1 in ./env/lib/python3.12/site-packages (from python-terrier==0.10.0) (0.3.3)\r\n",
      "Requirement already satisfied: dill in ./env/lib/python3.12/site-packages (from python-terrier==0.10.0) (0.3.8)\r\n",
      "Requirement already satisfied: pytrec-eval-terrier>=0.5.3 in ./env/lib/python3.12/site-packages (from python-terrier==0.10.0) (0.5.6)\r\n",
      "Requirement already satisfied: typish>=1.7.0 in ./env/lib/python3.12/site-packages (from nptyping==1.4.4->python-terrier==0.10.0) (1.9.3)\r\n",
      "Requirement already satisfied: beautifulsoup4>=4.4.1 in ./env/lib/python3.12/site-packages (from ir-datasets>=0.3.2->python-terrier==0.10.0) (4.12.3)\r\n",
      "Requirement already satisfied: inscriptis>=2.2.0 in ./env/lib/python3.12/site-packages (from ir-datasets>=0.3.2->python-terrier==0.10.0) (2.5.0)\r\n",
      "Requirement already satisfied: lxml>=4.5.2 in ./env/lib/python3.12/site-packages (from ir-datasets>=0.3.2->python-terrier==0.10.0) (5.2.1)\r\n",
      "Requirement already satisfied: pyyaml>=5.3.1 in ./env/lib/python3.12/site-packages (from ir-datasets>=0.3.2->python-terrier==0.10.0) (6.0.1)\r\n",
      "Requirement already satisfied: trec-car-tools>=2.5.4 in ./env/lib/python3.12/site-packages (from ir-datasets>=0.3.2->python-terrier==0.10.0) (2.6)\r\n",
      "Requirement already satisfied: lz4>=3.1.10 in ./env/lib/python3.12/site-packages (from ir-datasets>=0.3.2->python-terrier==0.10.0) (4.3.3)\r\n",
      "Requirement already satisfied: warc3-wet>=0.2.3 in ./env/lib/python3.12/site-packages (from ir-datasets>=0.3.2->python-terrier==0.10.0) (0.2.3)\r\n",
      "Requirement already satisfied: warc3-wet-clueweb09>=0.2.5 in ./env/lib/python3.12/site-packages (from ir-datasets>=0.3.2->python-terrier==0.10.0) (0.2.5)\r\n",
      "Requirement already satisfied: zlib-state>=0.1.3 in ./env/lib/python3.12/site-packages (from ir-datasets>=0.3.2->python-terrier==0.10.0) (0.1.6)\r\n",
      "Requirement already satisfied: ijson>=3.1.3 in ./env/lib/python3.12/site-packages (from ir-datasets>=0.3.2->python-terrier==0.10.0) (3.2.3)\r\n",
      "Requirement already satisfied: pyautocorpus>=0.1.1 in ./env/lib/python3.12/site-packages (from ir-datasets>=0.3.2->python-terrier==0.10.0) (0.1.12)\r\n",
      "Requirement already satisfied: unlzw3>=0.2.1 in ./env/lib/python3.12/site-packages (from ir-datasets>=0.3.2->python-terrier==0.10.0) (0.2.2)\r\n",
      "Requirement already satisfied: cwl-eval>=1.0.10 in ./env/lib/python3.12/site-packages (from ir-measures>=0.3.1->python-terrier==0.10.0) (1.0.12)\r\n",
      "Requirement already satisfied: charset-normalizer<4,>=2 in ./env/lib/python3.12/site-packages (from requests->python-terrier==0.10.0) (3.3.2)\r\n",
      "Requirement already satisfied: idna<4,>=2.5 in ./env/lib/python3.12/site-packages (from requests->python-terrier==0.10.0) (3.7)\r\n",
      "Requirement already satisfied: urllib3<3,>=1.21.1 in ./env/lib/python3.12/site-packages (from requests->python-terrier==0.10.0) (2.2.1)\r\n",
      "Requirement already satisfied: certifi>=2017.4.17 in ./env/lib/python3.12/site-packages (from requests->python-terrier==0.10.0) (2024.2.2)\r\n",
      "Requirement already satisfied: heapdict in ./env/lib/python3.12/site-packages (from chest->python-terrier==0.10.0) (1.0.1)\r\n",
      "Requirement already satisfied: wrapt<2,>=1.10 in ./env/lib/python3.12/site-packages (from deprecated->python-terrier==0.10.0) (1.16.0)\r\n",
      "Requirement already satisfied: MarkupSafe>=2.0 in ./env/lib/python3.12/site-packages (from jinja2->python-terrier==0.10.0) (2.1.5)\r\n",
      "Requirement already satisfied: multiset<3.0,>=2.0 in ./env/lib/python3.12/site-packages (from matchpy->python-terrier==0.10.0) (2.1.1)\r\n",
      "Requirement already satisfied: python-dateutil>=2.8.2 in ./env/lib/python3.12/site-packages (from pandas->python-terrier==0.10.0) (2.9.0.post0)\r\n",
      "Requirement already satisfied: pytz>=2020.1 in ./env/lib/python3.12/site-packages (from pandas->python-terrier==0.10.0) (2024.1)\r\n",
      "Requirement already satisfied: tzdata>=2022.7 in ./env/lib/python3.12/site-packages (from pandas->python-terrier==0.10.0) (2024.1)\r\n",
      "Requirement already satisfied: threadpoolctl>=2.0.0 in ./env/lib/python3.12/site-packages (from scikit-learn->python-terrier==0.10.0) (3.4.0)\r\n",
      "Requirement already satisfied: patsy>=0.5.6 in ./env/lib/python3.12/site-packages (from statsmodels->python-terrier==0.10.0) (0.5.6)\r\n",
      "Requirement already satisfied: packaging>=21.3 in ./env/lib/python3.12/site-packages (from statsmodels->python-terrier==0.10.0) (24.0)\r\n",
      "Requirement already satisfied: soupsieve>1.2 in ./env/lib/python3.12/site-packages (from beautifulsoup4>=4.4.1->ir-datasets>=0.3.2->python-terrier==0.10.0) (2.5)\r\n",
      "Requirement already satisfied: six in ./env/lib/python3.12/site-packages (from patsy>=0.5.6->statsmodels->python-terrier==0.10.0) (1.16.0)\r\n",
      "Requirement already satisfied: cbor>=1.0.0 in ./env/lib/python3.12/site-packages (from trec-car-tools>=2.5.4->ir-datasets>=0.3.2->python-terrier==0.10.0) (1.0.0)\r\n",
      "Note: you may need to restart the kernel to use updated packages.\n"
     ]
    }
   ],
   "execution_count": 1
  },
  {
   "cell_type": "code",
   "metadata": {
    "ExecuteTime": {
     "end_time": "2024-04-24T14:47:06.215203Z",
     "start_time": "2024-04-24T14:47:03.681313Z"
    }
   },
   "source": [
    "import pyterrier as pt\n",
    "\n",
    "if not pt.started():\n",
    "    pt.init(tqdm=\"notebook\")"
   ],
   "outputs": [
    {
     "name": "stderr",
     "output_type": "stream",
     "text": [
      "PyTerrier 0.10.0 has loaded Terrier 5.8 (built by craigm on 2023-11-01 18:05) and terrier-helper 0.0.8\n",
      "\n",
      "No etc/terrier.properties, using terrier.default.properties for bootstrap configuration.\n"
     ]
    }
   ],
   "execution_count": 2
  },
  {
   "cell_type": "markdown",
   "metadata": {},
   "source": [
    "## Importing datasets\n",
    "\n",
    "PyTerrier comes with a multitude of datasets that can be loaded directly. This is great because the parsing is already taken care of and any required files will be downloaded automatically.\n",
    "\n",
    "A list of available datasets can be found [here](https://pyterrier.readthedocs.io/en/latest/datasets.html#available-datasets) or by calling the following function:\n"
   ]
  },
  {
   "cell_type": "code",
   "metadata": {
    "ExecuteTime": {
     "end_time": "2024-04-24T14:49:33.497100Z",
     "start_time": "2024-04-24T14:49:33.419821Z"
    }
   },
   "source": [
    "pt.datasets.list_datasets()"
   ],
   "outputs": [
    {
     "name": "stderr",
     "output_type": "stream",
     "text": [
      "[INFO] trec-robust04 is deprecated. Consider using disks45/nocr/trec-robust-2004 instead, which provides better parsing of the corpus.\n",
      "[INFO] trec-robust04/fold1 is deprecated. Consider using disks45/nocr/trec-robust-2004/fold1 instead, which provides better parsing of the corpus.\n",
      "[INFO] trec-robust04/fold2 is deprecated. Consider using disks45/nocr/trec-robust-2004/fold2 instead, which provides better parsing of the corpus.\n",
      "[INFO] trec-robust04/fold3 is deprecated. Consider using disks45/nocr/trec-robust-2004/fold3 instead, which provides better parsing of the corpus.\n",
      "[INFO] trec-robust04/fold4 is deprecated. Consider using disks45/nocr/trec-robust-2004/fold4 instead, which provides better parsing of the corpus.\n",
      "[INFO] trec-robust04/fold5 is deprecated. Consider using disks45/nocr/trec-robust-2004/fold5 instead, which provides better parsing of the corpus.\n",
      "[INFO] acessing TREC Fair Ranking 2021 through trec-fair-2021 is deprecated; use trec-fair/2021 instead.\n",
      "[INFO] acessing TREC Fair Ranking 2021 through trec-fair-2021/train is deprecated; use trec-fair/2021/train instead.\n",
      "[INFO] acessing TREC Fair Ranking 2021 through trec-fair-2021/train is deprecated; use trec-fair/2021/train instead.\n"
     ]
    },
    {
     "data": {
      "text/plain": [
       "                         dataset  \\\n",
       "0                          50pct   \n",
       "1                        antique   \n",
       "2                        vaswani   \n",
       "3               msmarco_document   \n",
       "4             msmarcov2_document   \n",
       "..                           ...   \n",
       "746                 irds:neuclir   \n",
       "747               irds:neuclir/1   \n",
       "754                    irds:sara   \n",
       "755      trec-deep-learning-docs   \n",
       "756  trec-deep-learning-passages   \n",
       "\n",
       "                                                topics topics_lang  \\\n",
       "0                               [training, validation]          en   \n",
       "1                                        [train, test]          en   \n",
       "2                                                 True          en   \n",
       "3      [train, dev, test, test-2020, leaderboard-2020]          en   \n",
       "4       [train, dev1, dev2, valid1, valid2, trec_2021]          en   \n",
       "..                                                 ...         ...   \n",
       "746                                               None        None   \n",
       "747                                               None        None   \n",
       "754                                               True          en   \n",
       "755    [train, dev, test, test-2020, leaderboard-2020]          en   \n",
       "756  [train, dev, dev.small, eval, eval.small, test...          en   \n",
       "\n",
       "                                             qrels corpus corpus_lang  \\\n",
       "0                           [training, validation]   None        None   \n",
       "1                                    [train, test]   True          en   \n",
       "2                                             True   True          en   \n",
       "3                    [train, dev, test, test-2020]   True          en   \n",
       "4              [train, dev1, dev2, valid1, valid2]   None        None   \n",
       "..                                             ...    ...         ...   \n",
       "746                                           None   None        None   \n",
       "747                                           None   None        None   \n",
       "754                                           True   True          en   \n",
       "755                  [train, dev, test, test-2020]   True          en   \n",
       "756  [train, dev, test-2019, test-2020, dev.small]   True          en   \n",
       "\n",
       "          index                                           info_url  \n",
       "0    [ex2, ex3]                                               None  \n",
       "1          None  https://ciir.cs.umass.edu/downloads/Antique/re...  \n",
       "2          True  http://ir.dcs.gla.ac.uk/resources/test_collect...  \n",
       "3          True               https://microsoft.github.io/msmarco/  \n",
       "4          True  https://microsoft.github.io/msmarco/TREC-Deep-...  \n",
       "..          ...                                                ...  \n",
       "746        None               https://ir-datasets.com/neuclir.html  \n",
       "747        None     https://ir-datasets.com/neuclir.html#neuclir/1  \n",
       "754        None                  https://ir-datasets.com/sara.html  \n",
       "755        True               https://microsoft.github.io/msmarco/  \n",
       "756        True  https://microsoft.github.io/MSMARCO-Passage-Ra...  \n",
       "\n",
       "[437 rows x 8 columns]"
      ],
      "text/html": [
       "<div>\n",
       "<style scoped>\n",
       "    .dataframe tbody tr th:only-of-type {\n",
       "        vertical-align: middle;\n",
       "    }\n",
       "\n",
       "    .dataframe tbody tr th {\n",
       "        vertical-align: top;\n",
       "    }\n",
       "\n",
       "    .dataframe thead th {\n",
       "        text-align: right;\n",
       "    }\n",
       "</style>\n",
       "<table border=\"1\" class=\"dataframe\">\n",
       "  <thead>\n",
       "    <tr style=\"text-align: right;\">\n",
       "      <th></th>\n",
       "      <th>dataset</th>\n",
       "      <th>topics</th>\n",
       "      <th>topics_lang</th>\n",
       "      <th>qrels</th>\n",
       "      <th>corpus</th>\n",
       "      <th>corpus_lang</th>\n",
       "      <th>index</th>\n",
       "      <th>info_url</th>\n",
       "    </tr>\n",
       "  </thead>\n",
       "  <tbody>\n",
       "    <tr>\n",
       "      <th>0</th>\n",
       "      <td>50pct</td>\n",
       "      <td>[training, validation]</td>\n",
       "      <td>en</td>\n",
       "      <td>[training, validation]</td>\n",
       "      <td>None</td>\n",
       "      <td>None</td>\n",
       "      <td>[ex2, ex3]</td>\n",
       "      <td>None</td>\n",
       "    </tr>\n",
       "    <tr>\n",
       "      <th>1</th>\n",
       "      <td>antique</td>\n",
       "      <td>[train, test]</td>\n",
       "      <td>en</td>\n",
       "      <td>[train, test]</td>\n",
       "      <td>True</td>\n",
       "      <td>en</td>\n",
       "      <td>None</td>\n",
       "      <td>https://ciir.cs.umass.edu/downloads/Antique/re...</td>\n",
       "    </tr>\n",
       "    <tr>\n",
       "      <th>2</th>\n",
       "      <td>vaswani</td>\n",
       "      <td>True</td>\n",
       "      <td>en</td>\n",
       "      <td>True</td>\n",
       "      <td>True</td>\n",
       "      <td>en</td>\n",
       "      <td>True</td>\n",
       "      <td>http://ir.dcs.gla.ac.uk/resources/test_collect...</td>\n",
       "    </tr>\n",
       "    <tr>\n",
       "      <th>3</th>\n",
       "      <td>msmarco_document</td>\n",
       "      <td>[train, dev, test, test-2020, leaderboard-2020]</td>\n",
       "      <td>en</td>\n",
       "      <td>[train, dev, test, test-2020]</td>\n",
       "      <td>True</td>\n",
       "      <td>en</td>\n",
       "      <td>True</td>\n",
       "      <td>https://microsoft.github.io/msmarco/</td>\n",
       "    </tr>\n",
       "    <tr>\n",
       "      <th>4</th>\n",
       "      <td>msmarcov2_document</td>\n",
       "      <td>[train, dev1, dev2, valid1, valid2, trec_2021]</td>\n",
       "      <td>en</td>\n",
       "      <td>[train, dev1, dev2, valid1, valid2]</td>\n",
       "      <td>None</td>\n",
       "      <td>None</td>\n",
       "      <td>True</td>\n",
       "      <td>https://microsoft.github.io/msmarco/TREC-Deep-...</td>\n",
       "    </tr>\n",
       "    <tr>\n",
       "      <th>...</th>\n",
       "      <td>...</td>\n",
       "      <td>...</td>\n",
       "      <td>...</td>\n",
       "      <td>...</td>\n",
       "      <td>...</td>\n",
       "      <td>...</td>\n",
       "      <td>...</td>\n",
       "      <td>...</td>\n",
       "    </tr>\n",
       "    <tr>\n",
       "      <th>746</th>\n",
       "      <td>irds:neuclir</td>\n",
       "      <td>None</td>\n",
       "      <td>None</td>\n",
       "      <td>None</td>\n",
       "      <td>None</td>\n",
       "      <td>None</td>\n",
       "      <td>None</td>\n",
       "      <td>https://ir-datasets.com/neuclir.html</td>\n",
       "    </tr>\n",
       "    <tr>\n",
       "      <th>747</th>\n",
       "      <td>irds:neuclir/1</td>\n",
       "      <td>None</td>\n",
       "      <td>None</td>\n",
       "      <td>None</td>\n",
       "      <td>None</td>\n",
       "      <td>None</td>\n",
       "      <td>None</td>\n",
       "      <td>https://ir-datasets.com/neuclir.html#neuclir/1</td>\n",
       "    </tr>\n",
       "    <tr>\n",
       "      <th>754</th>\n",
       "      <td>irds:sara</td>\n",
       "      <td>True</td>\n",
       "      <td>en</td>\n",
       "      <td>True</td>\n",
       "      <td>True</td>\n",
       "      <td>en</td>\n",
       "      <td>None</td>\n",
       "      <td>https://ir-datasets.com/sara.html</td>\n",
       "    </tr>\n",
       "    <tr>\n",
       "      <th>755</th>\n",
       "      <td>trec-deep-learning-docs</td>\n",
       "      <td>[train, dev, test, test-2020, leaderboard-2020]</td>\n",
       "      <td>en</td>\n",
       "      <td>[train, dev, test, test-2020]</td>\n",
       "      <td>True</td>\n",
       "      <td>en</td>\n",
       "      <td>True</td>\n",
       "      <td>https://microsoft.github.io/msmarco/</td>\n",
       "    </tr>\n",
       "    <tr>\n",
       "      <th>756</th>\n",
       "      <td>trec-deep-learning-passages</td>\n",
       "      <td>[train, dev, dev.small, eval, eval.small, test...</td>\n",
       "      <td>en</td>\n",
       "      <td>[train, dev, test-2019, test-2020, dev.small]</td>\n",
       "      <td>True</td>\n",
       "      <td>en</td>\n",
       "      <td>True</td>\n",
       "      <td>https://microsoft.github.io/MSMARCO-Passage-Ra...</td>\n",
       "    </tr>\n",
       "  </tbody>\n",
       "</table>\n",
       "<p>437 rows × 8 columns</p>\n",
       "</div>"
      ]
     },
     "execution_count": 3,
     "metadata": {},
     "output_type": "execute_result"
    }
   ],
   "execution_count": 3
  },
  {
   "cell_type": "markdown",
   "metadata": {},
   "source": [
    "Each dataset has the following components:\n",
    "\n",
    "- Corpus (the documents),\n",
    "- index (pre-made, ready to use),\n",
    "- topics (queries or topic descriptions, grouped in folds or splits),\n",
    "- qrels (query relevance information, we'll use this for evaluation in an upcoming notebook).\n",
    "\n",
    "Note that, for many datasets, some of these components are missing. Furthermore, the prefix `irds:` denotes that the corresponding dataset is loaded from the [`ir_datasets`](https://ir-datasets.com/) library, which seamlessly integrates with PyTerrier.\n",
    "\n",
    "Let's start by loading the `vaswani` dataset:\n"
   ]
  },
  {
   "cell_type": "code",
   "metadata": {
    "ExecuteTime": {
     "end_time": "2024-04-24T14:50:31.705925Z",
     "start_time": "2024-04-24T14:50:31.702072Z"
    }
   },
   "source": [
    "dataset = pt.get_dataset(\"vaswani\")"
   ],
   "outputs": [],
   "execution_count": 4
  },
  {
   "cell_type": "markdown",
   "metadata": {},
   "source": [
    "For this dataset, there are pre-made indexes available that we can load. In order to do this, we need to select a _variant_. The variants differ slightly, for example, in terms of pre-processing. An overview of the indexes and variants can be found in the [Terrier data repository](http://data.terrier.org/).\n",
    "\n",
    "We'll use the standard variant, `terrier_stemmed`, to create a BM25 model:\n"
   ]
  },
  {
   "cell_type": "code",
   "metadata": {
    "ExecuteTime": {
     "end_time": "2024-04-24T14:51:25.559118Z",
     "start_time": "2024-04-24T14:51:22.639573Z"
    }
   },
   "source": [
    "index = dataset.get_index(variant=\"terrier_stemmed\")\n",
    "bm25 = pt.BatchRetrieve(index, wmodel=\"BM25\")\n",
    "bm25.search(\"computer\")"
   ],
   "outputs": [
    {
     "name": "stdout",
     "output_type": "stream",
     "text": [
      "Downloading vaswani index to /Users/tomighita/.pyterrier/corpora/vaswani/index/terrier_stemmed\n"
     ]
    },
    {
     "data": {
      "text/plain": [
       "data.direct.bf:   0%|          | 0.00/388k [00:00<?, ?iB/s]"
      ],
      "application/vnd.jupyter.widget-view+json": {
       "version_major": 2,
       "version_minor": 0,
       "model_id": "5933978bf01049de979561b576267803"
      }
     },
     "metadata": {},
     "output_type": "display_data"
    },
    {
     "data": {
      "text/plain": [
       "data.document.fsarrayfile:   0%|          | 0.00/234k [00:00<?, ?iB/s]"
      ],
      "application/vnd.jupyter.widget-view+json": {
       "version_major": 2,
       "version_minor": 0,
       "model_id": "8e74784ecfea4c1cb07afc4e456aa2c2"
      }
     },
     "metadata": {},
     "output_type": "display_data"
    },
    {
     "data": {
      "text/plain": [
       "data.inverted.bf:   0%|          | 0.00/362k [00:00<?, ?iB/s]"
      ],
      "application/vnd.jupyter.widget-view+json": {
       "version_major": 2,
       "version_minor": 0,
       "model_id": "53f3598e2be246d9baaf2204a0052320"
      }
     },
     "metadata": {},
     "output_type": "display_data"
    },
    {
     "data": {
      "text/plain": [
       "data.lexicon.fsomapfile:   0%|          | 0.00/682k [00:00<?, ?iB/s]"
      ],
      "application/vnd.jupyter.widget-view+json": {
       "version_major": 2,
       "version_minor": 0,
       "model_id": "1f86c3630a404fec852bf5cde41708d1"
      }
     },
     "metadata": {},
     "output_type": "display_data"
    },
    {
     "data": {
      "text/plain": [
       "data.lexicon.fsomaphash:   0%|          | 0.00/777 [00:00<?, ?iB/s]"
      ],
      "application/vnd.jupyter.widget-view+json": {
       "version_major": 2,
       "version_minor": 0,
       "model_id": "92165d4ac34d410aaafcb685636a3032"
      }
     },
     "metadata": {},
     "output_type": "display_data"
    },
    {
     "data": {
      "text/plain": [
       "data.lexicon.fsomapid:   0%|          | 0.00/30.3k [00:00<?, ?iB/s]"
      ],
      "application/vnd.jupyter.widget-view+json": {
       "version_major": 2,
       "version_minor": 0,
       "model_id": "94ec906191354db9975d0867db7d1047"
      }
     },
     "metadata": {},
     "output_type": "display_data"
    },
    {
     "data": {
      "text/plain": [
       "data.meta-0.fsomapfile:   0%|          | 0.00/725k [00:00<?, ?iB/s]"
      ],
      "application/vnd.jupyter.widget-view+json": {
       "version_major": 2,
       "version_minor": 0,
       "model_id": "d6c5e56aa7624c30ba158ec60a14a9b5"
      }
     },
     "metadata": {},
     "output_type": "display_data"
    },
    {
     "data": {
      "text/plain": [
       "data.meta.idx:   0%|          | 0.00/89.3k [00:00<?, ?iB/s]"
      ],
      "application/vnd.jupyter.widget-view+json": {
       "version_major": 2,
       "version_minor": 0,
       "model_id": "16e6260cfbd94570842b85a5af154733"
      }
     },
     "metadata": {},
     "output_type": "display_data"
    },
    {
     "data": {
      "text/plain": [
       "data.meta.zdata:   0%|          | 0.00/224k [00:00<?, ?iB/s]"
      ],
      "application/vnd.jupyter.widget-view+json": {
       "version_major": 2,
       "version_minor": 0,
       "model_id": "39fa90d1b9c64b07b6c4d50b62f6a17d"
      }
     },
     "metadata": {},
     "output_type": "display_data"
    },
    {
     "data": {
      "text/plain": [
       "data.properties:   0%|          | 0.00/4.29k [00:00<?, ?iB/s]"
      ],
      "application/vnd.jupyter.widget-view+json": {
       "version_major": 2,
       "version_minor": 0,
       "model_id": "c939a210181440a5acd1ad6b25f61272"
      }
     },
     "metadata": {},
     "output_type": "display_data"
    },
    {
     "data": {
      "text/plain": [
       "md5sums:   0%|          | 0.00/619 [00:00<?, ?iB/s]"
      ],
      "application/vnd.jupyter.widget-view+json": {
       "version_major": 2,
       "version_minor": 0,
       "model_id": "8dd491798ac6414db0e1efb08ccec25f"
      }
     },
     "metadata": {},
     "output_type": "display_data"
    },
    {
     "data": {
      "text/plain": [
       "    qid  docid  docno  rank     score     query\n",
       "0     1   3941   3942     0  7.697643  computer\n",
       "1     1    139    140     1  7.634963  computer\n",
       "2     1   2546   2547     2  7.582282  computer\n",
       "3     1   3597   3598     3  7.582282  computer\n",
       "4     1    394    395     4  7.504337  computer\n",
       "..   ..    ...    ...   ...       ...       ...\n",
       "527   1   3718   3719   527  2.401824  computer\n",
       "528   1  10015  10016   528  2.379234  computer\n",
       "529   1   3484   3485   529  2.335306  computer\n",
       "530   1   8380   8381   530  2.313945  computer\n",
       "531   1   8135   8136   531  1.986817  computer\n",
       "\n",
       "[532 rows x 6 columns]"
      ],
      "text/html": [
       "<div>\n",
       "<style scoped>\n",
       "    .dataframe tbody tr th:only-of-type {\n",
       "        vertical-align: middle;\n",
       "    }\n",
       "\n",
       "    .dataframe tbody tr th {\n",
       "        vertical-align: top;\n",
       "    }\n",
       "\n",
       "    .dataframe thead th {\n",
       "        text-align: right;\n",
       "    }\n",
       "</style>\n",
       "<table border=\"1\" class=\"dataframe\">\n",
       "  <thead>\n",
       "    <tr style=\"text-align: right;\">\n",
       "      <th></th>\n",
       "      <th>qid</th>\n",
       "      <th>docid</th>\n",
       "      <th>docno</th>\n",
       "      <th>rank</th>\n",
       "      <th>score</th>\n",
       "      <th>query</th>\n",
       "    </tr>\n",
       "  </thead>\n",
       "  <tbody>\n",
       "    <tr>\n",
       "      <th>0</th>\n",
       "      <td>1</td>\n",
       "      <td>3941</td>\n",
       "      <td>3942</td>\n",
       "      <td>0</td>\n",
       "      <td>7.697643</td>\n",
       "      <td>computer</td>\n",
       "    </tr>\n",
       "    <tr>\n",
       "      <th>1</th>\n",
       "      <td>1</td>\n",
       "      <td>139</td>\n",
       "      <td>140</td>\n",
       "      <td>1</td>\n",
       "      <td>7.634963</td>\n",
       "      <td>computer</td>\n",
       "    </tr>\n",
       "    <tr>\n",
       "      <th>2</th>\n",
       "      <td>1</td>\n",
       "      <td>2546</td>\n",
       "      <td>2547</td>\n",
       "      <td>2</td>\n",
       "      <td>7.582282</td>\n",
       "      <td>computer</td>\n",
       "    </tr>\n",
       "    <tr>\n",
       "      <th>3</th>\n",
       "      <td>1</td>\n",
       "      <td>3597</td>\n",
       "      <td>3598</td>\n",
       "      <td>3</td>\n",
       "      <td>7.582282</td>\n",
       "      <td>computer</td>\n",
       "    </tr>\n",
       "    <tr>\n",
       "      <th>4</th>\n",
       "      <td>1</td>\n",
       "      <td>394</td>\n",
       "      <td>395</td>\n",
       "      <td>4</td>\n",
       "      <td>7.504337</td>\n",
       "      <td>computer</td>\n",
       "    </tr>\n",
       "    <tr>\n",
       "      <th>...</th>\n",
       "      <td>...</td>\n",
       "      <td>...</td>\n",
       "      <td>...</td>\n",
       "      <td>...</td>\n",
       "      <td>...</td>\n",
       "      <td>...</td>\n",
       "    </tr>\n",
       "    <tr>\n",
       "      <th>527</th>\n",
       "      <td>1</td>\n",
       "      <td>3718</td>\n",
       "      <td>3719</td>\n",
       "      <td>527</td>\n",
       "      <td>2.401824</td>\n",
       "      <td>computer</td>\n",
       "    </tr>\n",
       "    <tr>\n",
       "      <th>528</th>\n",
       "      <td>1</td>\n",
       "      <td>10015</td>\n",
       "      <td>10016</td>\n",
       "      <td>528</td>\n",
       "      <td>2.379234</td>\n",
       "      <td>computer</td>\n",
       "    </tr>\n",
       "    <tr>\n",
       "      <th>529</th>\n",
       "      <td>1</td>\n",
       "      <td>3484</td>\n",
       "      <td>3485</td>\n",
       "      <td>529</td>\n",
       "      <td>2.335306</td>\n",
       "      <td>computer</td>\n",
       "    </tr>\n",
       "    <tr>\n",
       "      <th>530</th>\n",
       "      <td>1</td>\n",
       "      <td>8380</td>\n",
       "      <td>8381</td>\n",
       "      <td>530</td>\n",
       "      <td>2.313945</td>\n",
       "      <td>computer</td>\n",
       "    </tr>\n",
       "    <tr>\n",
       "      <th>531</th>\n",
       "      <td>1</td>\n",
       "      <td>8135</td>\n",
       "      <td>8136</td>\n",
       "      <td>531</td>\n",
       "      <td>1.986817</td>\n",
       "      <td>computer</td>\n",
       "    </tr>\n",
       "  </tbody>\n",
       "</table>\n",
       "<p>532 rows × 6 columns</p>\n",
       "</div>"
      ]
     },
     "execution_count": 5,
     "metadata": {},
     "output_type": "execute_result"
    }
   ],
   "execution_count": 5
  },
  {
   "cell_type": "markdown",
   "metadata": {},
   "source": [
    "We can also create a retriever directly from the dataset like so:\n"
   ]
  },
  {
   "cell_type": "code",
   "metadata": {
    "ExecuteTime": {
     "end_time": "2024-04-24T14:51:50.749810Z",
     "start_time": "2024-04-24T14:51:50.724135Z"
    }
   },
   "source": [
    "bm25 = pt.BatchRetrieve.from_dataset(dataset, variant=\"terrier_stemmed\", wmodel=\"BM25\")"
   ],
   "outputs": [],
   "execution_count": 6
  },
  {
   "cell_type": "markdown",
   "metadata": {},
   "source": [
    "We can also browse the corpus:\n"
   ]
  },
  {
   "cell_type": "code",
   "metadata": {
    "ExecuteTime": {
     "end_time": "2024-04-24T14:51:56.716833Z",
     "start_time": "2024-04-24T14:51:55.775146Z"
    }
   },
   "source": [
    "for doc in dataset.get_corpus_iter():\n",
    "    print(doc)\n",
    "    break"
   ],
   "outputs": [
    {
     "name": "stdout",
     "output_type": "stream",
     "text": [
      "Downloading vaswani corpus to /Users/tomighita/.pyterrier/corpora/vaswani/corpus\n"
     ]
    },
    {
     "data": {
      "text/plain": [
       "doc-text.trec:   0%|          | 0.00/0.99M [00:00<?, ?iB/s]"
      ],
      "application/vnd.jupyter.widget-view+json": {
       "version_major": 2,
       "version_minor": 0,
       "model_id": "ecc81ed870ad4dacb7335287b0731d0f"
      }
     },
     "metadata": {},
     "output_type": "display_data"
    },
    {
     "name": "stdout",
     "output_type": "stream",
     "text": [
      "{'docno': '1', 'text': 'compact memories have flexible capacities  a digital data storage\\nsystem with capacity up to bits and random and or sequential access\\nis described'}\n"
     ]
    }
   ],
   "execution_count": 7
  },
  {
   "cell_type": "markdown",
   "metadata": {},
   "source": [
    "Similarly, the topics (queries) can be accessed as a `pandas.DataFrame`, such that we can use them directly:\n"
   ]
  },
  {
   "cell_type": "code",
   "metadata": {
    "ExecuteTime": {
     "end_time": "2024-04-24T14:52:14.329026Z",
     "start_time": "2024-04-24T14:52:12.864662Z"
    }
   },
   "source": [
    "bm25(dataset.get_topics())"
   ],
   "outputs": [
    {
     "name": "stdout",
     "output_type": "stream",
     "text": [
      "Downloading vaswani topics to /Users/tomighita/.pyterrier/corpora/vaswani/query-text.trec\n"
     ]
    },
    {
     "data": {
      "text/plain": [
       "query-text.trec:   0%|          | 0.00/3.05k [00:00<?, ?iB/s]"
      ],
      "application/vnd.jupyter.widget-view+json": {
       "version_major": 2,
       "version_minor": 0,
       "model_id": "489295c61f73499ab0bdcce6a8f9bde6"
      }
     },
     "metadata": {},
     "output_type": "display_data"
    },
    {
     "data": {
      "text/plain": [
       "      qid  docid docno  rank      score  \\\n",
       "0       1   8171  8172     0  24.566031   \n",
       "1       1   9880  9881     1  22.110514   \n",
       "2       1   5501  5502     2  21.717148   \n",
       "3       1   1501  1502     3  19.478355   \n",
       "4       1   9858  9859     4  18.626342   \n",
       "...    ..    ...   ...   ...        ...   \n",
       "91925  93   5495  5496   995   8.163870   \n",
       "91926  93   9187  9188   996   8.163650   \n",
       "91927  93   4821  4822   997   8.163588   \n",
       "91928  93   3279  3280   998   8.163573   \n",
       "91929  93   9701  9702   999   8.163573   \n",
       "\n",
       "                                                   query  \n",
       "0      measurement of dielectric constant of liquids ...  \n",
       "1      measurement of dielectric constant of liquids ...  \n",
       "2      measurement of dielectric constant of liquids ...  \n",
       "3      measurement of dielectric constant of liquids ...  \n",
       "4      measurement of dielectric constant of liquids ...  \n",
       "...                                                  ...  \n",
       "91925  high frequency oscillators using transistors t...  \n",
       "91926  high frequency oscillators using transistors t...  \n",
       "91927  high frequency oscillators using transistors t...  \n",
       "91928  high frequency oscillators using transistors t...  \n",
       "91929  high frequency oscillators using transistors t...  \n",
       "\n",
       "[91930 rows x 6 columns]"
      ],
      "text/html": [
       "<div>\n",
       "<style scoped>\n",
       "    .dataframe tbody tr th:only-of-type {\n",
       "        vertical-align: middle;\n",
       "    }\n",
       "\n",
       "    .dataframe tbody tr th {\n",
       "        vertical-align: top;\n",
       "    }\n",
       "\n",
       "    .dataframe thead th {\n",
       "        text-align: right;\n",
       "    }\n",
       "</style>\n",
       "<table border=\"1\" class=\"dataframe\">\n",
       "  <thead>\n",
       "    <tr style=\"text-align: right;\">\n",
       "      <th></th>\n",
       "      <th>qid</th>\n",
       "      <th>docid</th>\n",
       "      <th>docno</th>\n",
       "      <th>rank</th>\n",
       "      <th>score</th>\n",
       "      <th>query</th>\n",
       "    </tr>\n",
       "  </thead>\n",
       "  <tbody>\n",
       "    <tr>\n",
       "      <th>0</th>\n",
       "      <td>1</td>\n",
       "      <td>8171</td>\n",
       "      <td>8172</td>\n",
       "      <td>0</td>\n",
       "      <td>24.566031</td>\n",
       "      <td>measurement of dielectric constant of liquids ...</td>\n",
       "    </tr>\n",
       "    <tr>\n",
       "      <th>1</th>\n",
       "      <td>1</td>\n",
       "      <td>9880</td>\n",
       "      <td>9881</td>\n",
       "      <td>1</td>\n",
       "      <td>22.110514</td>\n",
       "      <td>measurement of dielectric constant of liquids ...</td>\n",
       "    </tr>\n",
       "    <tr>\n",
       "      <th>2</th>\n",
       "      <td>1</td>\n",
       "      <td>5501</td>\n",
       "      <td>5502</td>\n",
       "      <td>2</td>\n",
       "      <td>21.717148</td>\n",
       "      <td>measurement of dielectric constant of liquids ...</td>\n",
       "    </tr>\n",
       "    <tr>\n",
       "      <th>3</th>\n",
       "      <td>1</td>\n",
       "      <td>1501</td>\n",
       "      <td>1502</td>\n",
       "      <td>3</td>\n",
       "      <td>19.478355</td>\n",
       "      <td>measurement of dielectric constant of liquids ...</td>\n",
       "    </tr>\n",
       "    <tr>\n",
       "      <th>4</th>\n",
       "      <td>1</td>\n",
       "      <td>9858</td>\n",
       "      <td>9859</td>\n",
       "      <td>4</td>\n",
       "      <td>18.626342</td>\n",
       "      <td>measurement of dielectric constant of liquids ...</td>\n",
       "    </tr>\n",
       "    <tr>\n",
       "      <th>...</th>\n",
       "      <td>...</td>\n",
       "      <td>...</td>\n",
       "      <td>...</td>\n",
       "      <td>...</td>\n",
       "      <td>...</td>\n",
       "      <td>...</td>\n",
       "    </tr>\n",
       "    <tr>\n",
       "      <th>91925</th>\n",
       "      <td>93</td>\n",
       "      <td>5495</td>\n",
       "      <td>5496</td>\n",
       "      <td>995</td>\n",
       "      <td>8.163870</td>\n",
       "      <td>high frequency oscillators using transistors t...</td>\n",
       "    </tr>\n",
       "    <tr>\n",
       "      <th>91926</th>\n",
       "      <td>93</td>\n",
       "      <td>9187</td>\n",
       "      <td>9188</td>\n",
       "      <td>996</td>\n",
       "      <td>8.163650</td>\n",
       "      <td>high frequency oscillators using transistors t...</td>\n",
       "    </tr>\n",
       "    <tr>\n",
       "      <th>91927</th>\n",
       "      <td>93</td>\n",
       "      <td>4821</td>\n",
       "      <td>4822</td>\n",
       "      <td>997</td>\n",
       "      <td>8.163588</td>\n",
       "      <td>high frequency oscillators using transistors t...</td>\n",
       "    </tr>\n",
       "    <tr>\n",
       "      <th>91928</th>\n",
       "      <td>93</td>\n",
       "      <td>3279</td>\n",
       "      <td>3280</td>\n",
       "      <td>998</td>\n",
       "      <td>8.163573</td>\n",
       "      <td>high frequency oscillators using transistors t...</td>\n",
       "    </tr>\n",
       "    <tr>\n",
       "      <th>91929</th>\n",
       "      <td>93</td>\n",
       "      <td>9701</td>\n",
       "      <td>9702</td>\n",
       "      <td>999</td>\n",
       "      <td>8.163573</td>\n",
       "      <td>high frequency oscillators using transistors t...</td>\n",
       "    </tr>\n",
       "  </tbody>\n",
       "</table>\n",
       "<p>91930 rows × 6 columns</p>\n",
       "</div>"
      ]
     },
     "execution_count": 8,
     "metadata": {},
     "output_type": "execute_result"
    }
   ],
   "execution_count": 8
  },
  {
   "cell_type": "markdown",
   "metadata": {},
   "source": [
    "Note that some datasets require a variant here, such as `variant=\"train\"`.\n",
    "\n",
    "Since the corpus iterator already yields the documents in the correct format (see part 2: indexing), we can use it directly to create our own index if we wish:\n"
   ]
  },
  {
   "cell_type": "code",
   "metadata": {
    "ExecuteTime": {
     "end_time": "2024-04-24T14:52:54.642610Z",
     "start_time": "2024-04-24T14:52:53.362811Z"
    }
   },
   "source": [
    "from pathlib import Path\n",
    "\n",
    "index = pt.IterDictIndexer(\n",
    "    str(Path.cwd()),  # this will be ignored\n",
    "    type=pt.index.IndexingType.MEMORY,\n",
    ").index(dataset.get_corpus_iter())"
   ],
   "outputs": [],
   "execution_count": 9
  },
  {
   "cell_type": "markdown",
   "metadata": {},
   "source": [
    "## Further reading\n",
    "\n",
    "Check out the [datasets section](https://pyterrier.readthedocs.io/en/latest/datasets.html) in the documentation.\n"
   ]
  }
 ],
 "metadata": {
  "kernelspec": {
   "display_name": "pt",
   "language": "python",
   "name": "python3"
  },
  "language_info": {
   "codemirror_mode": {
    "name": "ipython",
    "version": 3
   },
   "file_extension": ".py",
   "mimetype": "text/x-python",
   "name": "python",
   "nbconvert_exporter": "python",
   "pygments_lexer": "ipython3",
   "version": "3.11.7"
  }
 },
 "nbformat": 4,
 "nbformat_minor": 2
}
