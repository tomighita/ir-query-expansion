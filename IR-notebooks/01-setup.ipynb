{
 "cells": [
  {
   "cell_type": "markdown",
   "metadata": {},
   "source": [
    "# Introduction to PyTerrier\n",
    "\n",
    "_IN4325: Information retrieval lecture, TU Delft_\n",
    "\n",
    "**Part 1: Setup**\n",
    "\n",
    "[Terrier](http://terrier.org) is an open-source information retrieval platform aimed at reserach and experimentation. We'll use [PyTerrier](https://pyterrier.readthedocs.io/), which provides a Python API for Terrier, in this lecture. This series of notebooks gives a brief introduction to PyTerrier.\n",
    "\n",
    "## Installation\n",
    "\n",
    "PyTerrier can be installed using `pip`:\n"
   ]
  },
  {
   "cell_type": "code",
   "metadata": {
    "vscode": {
     "languageId": "shellscript"
    },
    "ExecuteTime": {
     "end_time": "2024-04-24T15:10:16.404548Z",
     "start_time": "2024-04-24T15:09:50.859386Z"
    }
   },
   "source": [
    "pip install python-terrier==0.10.0"
   ],
   "outputs": [
    {
     "name": "stdout",
     "output_type": "stream",
     "text": [
      "Collecting python-terrier==0.10.0\r\n",
      "  Using cached python_terrier-0.10.0-py3-none-any.whl\r\n",
      "Collecting numpy (from python-terrier==0.10.0)\r\n",
      "  Obtaining dependency information for numpy from https://files.pythonhosted.org/packages/75/5b/ca6c8bd14007e5ca171c7c03102d17b4f4e0ceb53957e8c44343a9546dcc/numpy-1.26.4-cp312-cp312-macosx_11_0_arm64.whl.metadata\r\n",
      "  Downloading numpy-1.26.4-cp312-cp312-macosx_11_0_arm64.whl.metadata (61 kB)\r\n",
      "\u001B[2K     \u001B[90m━━━━━━━━━━━━━━━━━━━━━━━━━━━━━━━━━━━━━━━━\u001B[0m \u001B[32m61.1/61.1 kB\u001B[0m \u001B[31m1.1 MB/s\u001B[0m eta \u001B[36m0:00:00\u001B[0ma \u001B[36m0:00:01\u001B[0m\r\n",
      "\u001B[?25hCollecting pandas (from python-terrier==0.10.0)\r\n",
      "  Obtaining dependency information for pandas from https://files.pythonhosted.org/packages/db/7c/9a60add21b96140e22465d9adf09832feade45235cd22f4cb1668a25e443/pandas-2.2.2-cp312-cp312-macosx_11_0_arm64.whl.metadata\r\n",
      "  Downloading pandas-2.2.2-cp312-cp312-macosx_11_0_arm64.whl.metadata (19 kB)\r\n",
      "Collecting wget (from python-terrier==0.10.0)\r\n",
      "  Using cached wget-3.2-py3-none-any.whl\r\n",
      "Collecting tqdm (from python-terrier==0.10.0)\r\n",
      "  Obtaining dependency information for tqdm from https://files.pythonhosted.org/packages/2a/14/e75e52d521442e2fcc9f1df3c5e456aead034203d4797867980de558ab34/tqdm-4.66.2-py3-none-any.whl.metadata\r\n",
      "  Using cached tqdm-4.66.2-py3-none-any.whl.metadata (57 kB)\r\n",
      "Collecting pyjnius>=1.4.2 (from python-terrier==0.10.0)\r\n",
      "  Obtaining dependency information for pyjnius>=1.4.2 from https://files.pythonhosted.org/packages/bc/67/f39d53248fcc3a01d9958788185519042094c48e9392aa7746024b5eef6a/pyjnius-1.6.1-cp312-cp312-macosx_10_9_universal2.whl.metadata\r\n",
      "  Downloading pyjnius-1.6.1-cp312-cp312-macosx_10_9_universal2.whl.metadata (10 kB)\r\n",
      "Collecting matchpy (from python-terrier==0.10.0)\r\n",
      "  Obtaining dependency information for matchpy from https://files.pythonhosted.org/packages/20/0c/2f0d20d87e20f46c7b0871c01ba29e942a9fa73a20b6add324dc85ac2c69/matchpy-0.5.5-py3-none-any.whl.metadata\r\n",
      "  Using cached matchpy-0.5.5-py3-none-any.whl.metadata (12 kB)\r\n",
      "Collecting scikit-learn (from python-terrier==0.10.0)\r\n",
      "  Obtaining dependency information for scikit-learn from https://files.pythonhosted.org/packages/fc/f1/7028da970a41c542a0f3a2234f78040c820dae87ed7e949cec9f585f2b1a/scikit_learn-1.4.2-cp312-cp312-macosx_12_0_arm64.whl.metadata\r\n",
      "  Downloading scikit_learn-1.4.2-cp312-cp312-macosx_12_0_arm64.whl.metadata (11 kB)\r\n",
      "Collecting deprecated (from python-terrier==0.10.0)\r\n",
      "  Obtaining dependency information for deprecated from https://files.pythonhosted.org/packages/20/8d/778b7d51b981a96554f29136cd59ca7880bf58094338085bcf2a979a0e6a/Deprecated-1.2.14-py2.py3-none-any.whl.metadata\r\n",
      "  Using cached Deprecated-1.2.14-py2.py3-none-any.whl.metadata (5.4 kB)\r\n",
      "Collecting chest (from python-terrier==0.10.0)\r\n",
      "  Using cached chest-0.2.3-py3-none-any.whl\r\n",
      "Collecting scipy (from python-terrier==0.10.0)\r\n",
      "  Obtaining dependency information for scipy from https://files.pythonhosted.org/packages/a1/72/8d2b7815d754e52b31ebcacf93111581f6948d96910a1a665b8cefc5cfe1/scipy-1.13.0-cp312-cp312-macosx_12_0_arm64.whl.metadata\r\n",
      "  Downloading scipy-1.13.0-cp312-cp312-macosx_12_0_arm64.whl.metadata (60 kB)\r\n",
      "\u001B[2K     \u001B[90m━━━━━━━━━━━━━━━━━━━━━━━━━━━━━━━━━━━━━━━━\u001B[0m \u001B[32m60.6/60.6 kB\u001B[0m \u001B[31m5.0 MB/s\u001B[0m eta \u001B[36m0:00:00\u001B[0m\r\n",
      "\u001B[?25hRequirement already satisfied: requests in /Users/tomighita/Scoala/Facultate/University-Courses/RP/.venv/lib/python3.12/site-packages (from python-terrier==0.10.0) (2.31.0)\r\n",
      "Collecting joblib (from python-terrier==0.10.0)\r\n",
      "  Obtaining dependency information for joblib from https://files.pythonhosted.org/packages/ae/e2/4dea6313ef2b38442fccbbaf4017e50a6c3c8a50e8ee9b512783e5c90409/joblib-1.4.0-py3-none-any.whl.metadata\r\n",
      "  Using cached joblib-1.4.0-py3-none-any.whl.metadata (5.4 kB)\r\n",
      "Collecting nptyping==1.4.4 (from python-terrier==0.10.0)\r\n",
      "  Obtaining dependency information for nptyping==1.4.4 from https://files.pythonhosted.org/packages/8f/d9/0514384fbad1c269d861f1dfe8ef8adc9d8ccaac1fdaad9f007063b9d92f/nptyping-1.4.4-py3-none-any.whl.metadata\r\n",
      "  Using cached nptyping-1.4.4-py3-none-any.whl.metadata (7.7 kB)\r\n",
      "Collecting more-itertools (from python-terrier==0.10.0)\r\n",
      "  Obtaining dependency information for more-itertools from https://files.pythonhosted.org/packages/50/e2/8e10e465ee3987bb7c9ab69efb91d867d93959095f4807db102d07995d94/more_itertools-10.2.0-py3-none-any.whl.metadata\r\n",
      "  Using cached more_itertools-10.2.0-py3-none-any.whl.metadata (34 kB)\r\n",
      "Collecting ir-datasets>=0.3.2 (from python-terrier==0.10.0)\r\n",
      "  Obtaining dependency information for ir-datasets>=0.3.2 from https://files.pythonhosted.org/packages/a3/9d/2884969ca86dde8fa4e5141c87c2f34ae30e829c5bd9cc27f5f5f8b3eb84/ir_datasets-0.5.6-py3-none-any.whl.metadata\r\n",
      "  Using cached ir_datasets-0.5.6-py3-none-any.whl.metadata (12 kB)\r\n",
      "Requirement already satisfied: jinja2 in /Users/tomighita/Scoala/Facultate/University-Courses/RP/.venv/lib/python3.12/site-packages (from python-terrier==0.10.0) (3.1.3)\r\n",
      "Collecting statsmodels (from python-terrier==0.10.0)\r\n",
      "  Obtaining dependency information for statsmodels from https://files.pythonhosted.org/packages/e7/fd/d282f6a0a55c5903dd66c2116589d1973a352739653382c39d70dcfd0fbc/statsmodels-0.14.2-cp312-cp312-macosx_11_0_arm64.whl.metadata\r\n",
      "  Downloading statsmodels-0.14.2-cp312-cp312-macosx_11_0_arm64.whl.metadata (9.2 kB)\r\n",
      "Collecting ir-measures>=0.3.1 (from python-terrier==0.10.0)\r\n",
      "  Using cached ir_measures-0.3.3-py3-none-any.whl\r\n",
      "Collecting dill (from python-terrier==0.10.0)\r\n",
      "  Obtaining dependency information for dill from https://files.pythonhosted.org/packages/c9/7a/cef76fd8438a42f96db64ddaa85280485a9c395e7df3db8158cfec1eee34/dill-0.3.8-py3-none-any.whl.metadata\r\n",
      "  Using cached dill-0.3.8-py3-none-any.whl.metadata (10 kB)\r\n",
      "Collecting pytrec-eval-terrier>=0.5.3 (from python-terrier==0.10.0)\r\n",
      "  Obtaining dependency information for pytrec-eval-terrier>=0.5.3 from https://files.pythonhosted.org/packages/dd/91/3b9a222a24138c024bcfb7c09cdb45400e5f075f571d68a9ca1e13618012/pytrec_eval_terrier-0.5.6-cp312-cp312-macosx_10_9_universal2.whl.metadata\r\n",
      "  Downloading pytrec_eval_terrier-0.5.6-cp312-cp312-macosx_10_9_universal2.whl.metadata (777 bytes)\r\n",
      "Collecting typish>=1.7.0 (from nptyping==1.4.4->python-terrier==0.10.0)\r\n",
      "  Obtaining dependency information for typish>=1.7.0 from https://files.pythonhosted.org/packages/9d/d6/3f56c9c0c12adf61dfcf4ed5c8ffd2c431db8dd85592067a57e8e1968565/typish-1.9.3-py3-none-any.whl.metadata\r\n",
      "  Using cached typish-1.9.3-py3-none-any.whl.metadata (7.2 kB)\r\n",
      "Requirement already satisfied: beautifulsoup4>=4.4.1 in /Users/tomighita/Scoala/Facultate/University-Courses/RP/.venv/lib/python3.12/site-packages (from ir-datasets>=0.3.2->python-terrier==0.10.0) (4.12.3)\r\n",
      "Collecting inscriptis>=2.2.0 (from ir-datasets>=0.3.2->python-terrier==0.10.0)\r\n",
      "  Obtaining dependency information for inscriptis>=2.2.0 from https://files.pythonhosted.org/packages/36/ef/b5459a0192ad8a943be67a4821e5234be9b567e7b8a34658c93a460c51d6/inscriptis-2.5.0-py3-none-any.whl.metadata\r\n",
      "  Using cached inscriptis-2.5.0-py3-none-any.whl.metadata (25 kB)\r\n",
      "Collecting lxml>=4.5.2 (from ir-datasets>=0.3.2->python-terrier==0.10.0)\r\n",
      "  Obtaining dependency information for lxml>=4.5.2 from https://files.pythonhosted.org/packages/f8/05/0b308e7a470f96d3d98e71043f2d6e62458eb3bcc1cb402a193bae2eb786/lxml-5.2.1-cp312-cp312-macosx_10_9_universal2.whl.metadata\r\n",
      "  Downloading lxml-5.2.1-cp312-cp312-macosx_10_9_universal2.whl.metadata (3.4 kB)\r\n",
      "Requirement already satisfied: pyyaml>=5.3.1 in /Users/tomighita/Scoala/Facultate/University-Courses/RP/.venv/lib/python3.12/site-packages (from ir-datasets>=0.3.2->python-terrier==0.10.0) (6.0.1)\r\n",
      "Collecting trec-car-tools>=2.5.4 (from ir-datasets>=0.3.2->python-terrier==0.10.0)\r\n",
      "  Obtaining dependency information for trec-car-tools>=2.5.4 from https://files.pythonhosted.org/packages/36/75/661b406371f96622975eb25f9e70945d97fbe6b8e5af40342c59191962a3/trec_car_tools-2.6-py3-none-any.whl.metadata\r\n",
      "  Using cached trec_car_tools-2.6-py3-none-any.whl.metadata (640 bytes)\r\n",
      "Collecting lz4>=3.1.10 (from ir-datasets>=0.3.2->python-terrier==0.10.0)\r\n",
      "  Obtaining dependency information for lz4>=3.1.10 from https://files.pythonhosted.org/packages/53/4d/8e04ef75feff8848ba3c624ce81c7732bdcea5f8f994758afa88cd3d7764/lz4-4.3.3-cp312-cp312-macosx_11_0_arm64.whl.metadata\r\n",
      "  Downloading lz4-4.3.3-cp312-cp312-macosx_11_0_arm64.whl.metadata (3.7 kB)\r\n",
      "Collecting warc3-wet>=0.2.3 (from ir-datasets>=0.3.2->python-terrier==0.10.0)\r\n",
      "  Obtaining dependency information for warc3-wet>=0.2.3 from https://files.pythonhosted.org/packages/78/de/017a6bc2e3ba1ad912a08501f58414dd9e8503da1d6239aad548631777ad/warc3_wet-0.2.3-py3-none-any.whl.metadata\r\n",
      "  Using cached warc3_wet-0.2.3-py3-none-any.whl.metadata (2.0 kB)\r\n",
      "Collecting warc3-wet-clueweb09>=0.2.5 (from ir-datasets>=0.3.2->python-terrier==0.10.0)\r\n",
      "  Using cached warc3_wet_clueweb09-0.2.5-py3-none-any.whl\r\n",
      "Collecting zlib-state>=0.1.3 (from ir-datasets>=0.3.2->python-terrier==0.10.0)\r\n",
      "  Using cached zlib_state-0.1.6-cp312-cp312-macosx_14_0_arm64.whl\r\n",
      "Collecting ijson>=3.1.3 (from ir-datasets>=0.3.2->python-terrier==0.10.0)\r\n",
      "  Obtaining dependency information for ijson>=3.1.3 from https://files.pythonhosted.org/packages/31/78/430e11f91d40b97b08a105e057d1c93a487e6c96361967e01aac45445d61/ijson-3.2.3-cp312-cp312-macosx_11_0_arm64.whl.metadata\r\n",
      "  Downloading ijson-3.2.3-cp312-cp312-macosx_11_0_arm64.whl.metadata (20 kB)\r\n",
      "Collecting pyautocorpus>=0.1.1 (from ir-datasets>=0.3.2->python-terrier==0.10.0)\r\n",
      "  Using cached pyautocorpus-0.1.12-cp312-cp312-macosx_14_0_arm64.whl\r\n",
      "Collecting unlzw3>=0.2.1 (from ir-datasets>=0.3.2->python-terrier==0.10.0)\r\n",
      "  Obtaining dependency information for unlzw3>=0.2.1 from https://files.pythonhosted.org/packages/6d/fd/185cc015344f10173afd8ed8c5b71cd5833e9782edccd31fe258834b9a58/unlzw3-0.2.2-py3-none-any.whl.metadata\r\n",
      "  Using cached unlzw3-0.2.2-py3-none-any.whl.metadata (2.4 kB)\r\n",
      "Collecting cwl-eval>=1.0.10 (from ir-measures>=0.3.1->python-terrier==0.10.0)\r\n",
      "  Using cached cwl_eval-1.0.12-py3-none-any.whl\r\n",
      "Requirement already satisfied: charset-normalizer<4,>=2 in /Users/tomighita/Scoala/Facultate/University-Courses/RP/.venv/lib/python3.12/site-packages (from requests->python-terrier==0.10.0) (3.3.2)\r\n",
      "Requirement already satisfied: idna<4,>=2.5 in /Users/tomighita/Scoala/Facultate/University-Courses/RP/.venv/lib/python3.12/site-packages (from requests->python-terrier==0.10.0) (3.7)\r\n",
      "Requirement already satisfied: urllib3<3,>=1.21.1 in /Users/tomighita/Scoala/Facultate/University-Courses/RP/.venv/lib/python3.12/site-packages (from requests->python-terrier==0.10.0) (2.2.1)\r\n",
      "Requirement already satisfied: certifi>=2017.4.17 in /Users/tomighita/Scoala/Facultate/University-Courses/RP/.venv/lib/python3.12/site-packages (from requests->python-terrier==0.10.0) (2024.2.2)\r\n",
      "Collecting heapdict (from chest->python-terrier==0.10.0)\r\n",
      "  Obtaining dependency information for heapdict from https://files.pythonhosted.org/packages/b6/9d/cd4777dbcf3bef9d9627e0fe4bc43d2e294b1baeb01d0422399d5e9de319/HeapDict-1.0.1-py3-none-any.whl.metadata\r\n",
      "  Using cached HeapDict-1.0.1-py3-none-any.whl.metadata (1.9 kB)\r\n",
      "Collecting wrapt<2,>=1.10 (from deprecated->python-terrier==0.10.0)\r\n",
      "  Obtaining dependency information for wrapt<2,>=1.10 from https://files.pythonhosted.org/packages/6a/d7/cfcd73e8f4858079ac59d9db1ec5a1349bc486ae8e9ba55698cc1f4a1dff/wrapt-1.16.0-cp312-cp312-macosx_11_0_arm64.whl.metadata\r\n",
      "  Downloading wrapt-1.16.0-cp312-cp312-macosx_11_0_arm64.whl.metadata (6.6 kB)\r\n",
      "Requirement already satisfied: MarkupSafe>=2.0 in /Users/tomighita/Scoala/Facultate/University-Courses/RP/.venv/lib/python3.12/site-packages (from jinja2->python-terrier==0.10.0) (2.1.5)\r\n",
      "Collecting multiset<3.0,>=2.0 (from matchpy->python-terrier==0.10.0)\r\n",
      "  Obtaining dependency information for multiset<3.0,>=2.0 from https://files.pythonhosted.org/packages/a8/12/813a649f5bc9801865dc6cda95b8f169f784d996322db192907ebe399064/multiset-2.1.1-py2.py3-none-any.whl.metadata\r\n",
      "  Using cached multiset-2.1.1-py2.py3-none-any.whl.metadata (3.8 kB)\r\n",
      "Requirement already satisfied: python-dateutil>=2.8.2 in /Users/tomighita/Scoala/Facultate/University-Courses/RP/.venv/lib/python3.12/site-packages (from pandas->python-terrier==0.10.0) (2.9.0.post0)\r\n",
      "Collecting pytz>=2020.1 (from pandas->python-terrier==0.10.0)\r\n",
      "  Obtaining dependency information for pytz>=2020.1 from https://files.pythonhosted.org/packages/9c/3d/a121f284241f08268b21359bd425f7d4825cffc5ac5cd0e1b3d82ffd2b10/pytz-2024.1-py2.py3-none-any.whl.metadata\r\n",
      "  Using cached pytz-2024.1-py2.py3-none-any.whl.metadata (22 kB)\r\n",
      "Collecting tzdata>=2022.7 (from pandas->python-terrier==0.10.0)\r\n",
      "  Obtaining dependency information for tzdata>=2022.7 from https://files.pythonhosted.org/packages/65/58/f9c9e6be752e9fcb8b6a0ee9fb87e6e7a1f6bcab2cdc73f02bb7ba91ada0/tzdata-2024.1-py2.py3-none-any.whl.metadata\r\n",
      "  Using cached tzdata-2024.1-py2.py3-none-any.whl.metadata (1.4 kB)\r\n",
      "Collecting threadpoolctl>=2.0.0 (from scikit-learn->python-terrier==0.10.0)\r\n",
      "  Obtaining dependency information for threadpoolctl>=2.0.0 from https://files.pythonhosted.org/packages/1e/84/ccd9b08653022b7785b6e3ee070ffb2825841e0dc119be22f0840b2b35cb/threadpoolctl-3.4.0-py3-none-any.whl.metadata\r\n",
      "  Using cached threadpoolctl-3.4.0-py3-none-any.whl.metadata (13 kB)\r\n",
      "Collecting patsy>=0.5.6 (from statsmodels->python-terrier==0.10.0)\r\n",
      "  Obtaining dependency information for patsy>=0.5.6 from https://files.pythonhosted.org/packages/43/f3/1d311a09c34f14f5973bb0bb0dc3a6e007e1eda90b5492d082689936ca51/patsy-0.5.6-py2.py3-none-any.whl.metadata\r\n",
      "  Using cached patsy-0.5.6-py2.py3-none-any.whl.metadata (3.5 kB)\r\n",
      "Requirement already satisfied: packaging>=21.3 in /Users/tomighita/Scoala/Facultate/University-Courses/RP/.venv/lib/python3.12/site-packages (from statsmodels->python-terrier==0.10.0) (24.0)\r\n",
      "Requirement already satisfied: soupsieve>1.2 in /Users/tomighita/Scoala/Facultate/University-Courses/RP/.venv/lib/python3.12/site-packages (from beautifulsoup4>=4.4.1->ir-datasets>=0.3.2->python-terrier==0.10.0) (2.5)\r\n",
      "Requirement already satisfied: six in /Users/tomighita/Scoala/Facultate/University-Courses/RP/.venv/lib/python3.12/site-packages (from patsy>=0.5.6->statsmodels->python-terrier==0.10.0) (1.16.0)\r\n",
      "Collecting cbor>=1.0.0 (from trec-car-tools>=2.5.4->ir-datasets>=0.3.2->python-terrier==0.10.0)\r\n",
      "  Using cached cbor-1.0.0-cp312-cp312-macosx_14_0_arm64.whl\r\n",
      "Using cached nptyping-1.4.4-py3-none-any.whl (31 kB)\r\n",
      "Using cached ir_datasets-0.5.6-py3-none-any.whl (335 kB)\r\n",
      "Downloading numpy-1.26.4-cp312-cp312-macosx_11_0_arm64.whl (13.7 MB)\r\n",
      "\u001B[2K   \u001B[90m━━━━━━━━━━━━━━━━━━━━━━━━━━━━━━━━━━━━━━━━\u001B[0m \u001B[32m13.7/13.7 MB\u001B[0m \u001B[31m7.0 MB/s\u001B[0m eta \u001B[36m0:00:00\u001B[0m00:01\u001B[0m00:01\u001B[0m\r\n",
      "\u001B[?25hDownloading pyjnius-1.6.1-cp312-cp312-macosx_10_9_universal2.whl (517 kB)\r\n",
      "\u001B[2K   \u001B[90m━━━━━━━━━━━━━━━━━━━━━━━━━━━━━━━━━━━━━━━━\u001B[0m \u001B[32m517.4/517.4 kB\u001B[0m \u001B[31m8.3 MB/s\u001B[0m eta \u001B[36m0:00:00\u001B[0ma \u001B[36m0:00:01\u001B[0m\r\n",
      "\u001B[?25hDownloading pytrec_eval_terrier-0.5.6-cp312-cp312-macosx_10_9_universal2.whl (138 kB)\r\n",
      "\u001B[2K   \u001B[90m━━━━━━━━━━━━━━━━━━━━━━━━━━━━━━━━━━━━━━━━\u001B[0m \u001B[32m138.8/138.8 kB\u001B[0m \u001B[31m7.2 MB/s\u001B[0m eta \u001B[36m0:00:00\u001B[0m\r\n",
      "\u001B[?25hUsing cached tqdm-4.66.2-py3-none-any.whl (78 kB)\r\n",
      "Using cached Deprecated-1.2.14-py2.py3-none-any.whl (9.6 kB)\r\n",
      "Using cached dill-0.3.8-py3-none-any.whl (116 kB)\r\n",
      "Using cached joblib-1.4.0-py3-none-any.whl (301 kB)\r\n",
      "Using cached matchpy-0.5.5-py3-none-any.whl (69 kB)\r\n",
      "Using cached more_itertools-10.2.0-py3-none-any.whl (57 kB)\r\n",
      "Downloading pandas-2.2.2-cp312-cp312-macosx_11_0_arm64.whl (11.3 MB)\r\n",
      "\u001B[2K   \u001B[90m━━━━━━━━━━━━━━━━━━━━━━━━━━━━━━━━━━━━━━━━\u001B[0m \u001B[32m11.3/11.3 MB\u001B[0m \u001B[31m8.9 MB/s\u001B[0m eta \u001B[36m0:00:00\u001B[0m00:01\u001B[0m00:01\u001B[0m\r\n",
      "\u001B[?25hDownloading scikit_learn-1.4.2-cp312-cp312-macosx_12_0_arm64.whl (10.5 MB)\r\n",
      "\u001B[2K   \u001B[90m━━━━━━━━━━━━━━━━━━━━━━━━━━━━━━━━━━━━━━━━\u001B[0m \u001B[32m10.5/10.5 MB\u001B[0m \u001B[31m9.8 MB/s\u001B[0m eta \u001B[36m0:00:00\u001B[0m:00:01\u001B[0m:01\u001B[0mm\r\n",
      "\u001B[?25hDownloading scipy-1.13.0-cp312-cp312-macosx_12_0_arm64.whl (30.4 MB)\r\n",
      "\u001B[2K   \u001B[90m━━━━━━━━━━━━━━━━━━━━━━━━━━━━━━━━━━━━━━━━\u001B[0m \u001B[32m30.4/30.4 MB\u001B[0m \u001B[31m10.1 MB/s\u001B[0m eta \u001B[36m0:00:00\u001B[0m00:01\u001B[0m00:01\u001B[0m\r\n",
      "\u001B[?25hDownloading statsmodels-0.14.2-cp312-cp312-macosx_11_0_arm64.whl (10.1 MB)\r\n",
      "\u001B[2K   \u001B[90m━━━━━━━━━━━━━━━━━━━━━━━━━━━━━━━━━━━━━━━━\u001B[0m \u001B[32m10.1/10.1 MB\u001B[0m \u001B[31m11.3 MB/s\u001B[0m eta \u001B[36m0:00:00\u001B[0m00:01\u001B[0m0:01\u001B[0m\r\n",
      "\u001B[?25hDownloading ijson-3.2.3-cp312-cp312-macosx_11_0_arm64.whl (53 kB)\r\n",
      "\u001B[2K   \u001B[90m━━━━━━━━━━━━━━━━━━━━━━━━━━━━━━━━━━━━━━━━\u001B[0m \u001B[32m53.8/53.8 kB\u001B[0m \u001B[31m4.9 MB/s\u001B[0m eta \u001B[36m0:00:00\u001B[0m\r\n",
      "\u001B[?25hUsing cached inscriptis-2.5.0-py3-none-any.whl (45 kB)\r\n",
      "Downloading lxml-5.2.1-cp312-cp312-macosx_10_9_universal2.whl (8.6 MB)\r\n",
      "\u001B[2K   \u001B[90m━━━━━━━━━━━━━━━━━━━━━━━━━━━━━━━━━━━━━━━━\u001B[0m \u001B[32m8.6/8.6 MB\u001B[0m \u001B[31m11.3 MB/s\u001B[0m eta \u001B[36m0:00:00\u001B[0m00:01\u001B[0m00:01\u001B[0m\r\n",
      "\u001B[?25hDownloading lz4-4.3.3-cp312-cp312-macosx_11_0_arm64.whl (212 kB)\r\n",
      "\u001B[2K   \u001B[90m━━━━━━━━━━━━━━━━━━━━━━━━━━━━━━━━━━━━━━━━\u001B[0m \u001B[32m212.4/212.4 kB\u001B[0m \u001B[31m8.0 MB/s\u001B[0m eta \u001B[36m0:00:00\u001B[0m\r\n",
      "\u001B[?25hUsing cached multiset-2.1.1-py2.py3-none-any.whl (8.8 kB)\r\n",
      "Using cached patsy-0.5.6-py2.py3-none-any.whl (233 kB)\r\n",
      "Using cached pytz-2024.1-py2.py3-none-any.whl (505 kB)\r\n",
      "Using cached threadpoolctl-3.4.0-py3-none-any.whl (17 kB)\r\n",
      "Using cached trec_car_tools-2.6-py3-none-any.whl (8.4 kB)\r\n",
      "Using cached typish-1.9.3-py3-none-any.whl (45 kB)\r\n",
      "Using cached tzdata-2024.1-py2.py3-none-any.whl (345 kB)\r\n",
      "Using cached unlzw3-0.2.2-py3-none-any.whl (6.1 kB)\r\n",
      "Using cached warc3_wet-0.2.3-py3-none-any.whl (13 kB)\r\n",
      "Downloading wrapt-1.16.0-cp312-cp312-macosx_11_0_arm64.whl (38 kB)\r\n",
      "Using cached HeapDict-1.0.1-py3-none-any.whl (3.9 kB)\r\n",
      "Installing collected packages: wget, warc3-wet-clueweb09, warc3-wet, typish, pytz, pyjnius, multiset, ijson, heapdict, cbor, zlib-state, wrapt, unlzw3, tzdata, tqdm, threadpoolctl, pytrec-eval-terrier, pyautocorpus, numpy, more-itertools, matchpy, lz4, lxml, joblib, dill, chest, trec-car-tools, scipy, patsy, pandas, nptyping, inscriptis, deprecated, cwl-eval, statsmodels, scikit-learn, ir-measures, ir-datasets, python-terrier\r\n",
      "Successfully installed cbor-1.0.0 chest-0.2.3 cwl-eval-1.0.12 deprecated-1.2.14 dill-0.3.8 heapdict-1.0.1 ijson-3.2.3 inscriptis-2.5.0 ir-datasets-0.5.6 ir-measures-0.3.3 joblib-1.4.0 lxml-5.2.1 lz4-4.3.3 matchpy-0.5.5 more-itertools-10.2.0 multiset-2.1.1 nptyping-1.4.4 numpy-1.26.4 pandas-2.2.2 patsy-0.5.6 pyautocorpus-0.1.12 pyjnius-1.6.1 python-terrier-0.10.0 pytrec-eval-terrier-0.5.6 pytz-2024.1 scikit-learn-1.4.2 scipy-1.13.0 statsmodels-0.14.2 threadpoolctl-3.4.0 tqdm-4.66.2 trec-car-tools-2.6 typish-1.9.3 tzdata-2024.1 unlzw3-0.2.2 warc3-wet-0.2.3 warc3-wet-clueweb09-0.2.5 wget-3.2 wrapt-1.16.0 zlib-state-0.1.6\r\n",
      "\r\n",
      "\u001B[1m[\u001B[0m\u001B[34;49mnotice\u001B[0m\u001B[1;39;49m]\u001B[0m\u001B[39;49m A new release of pip is available: \u001B[0m\u001B[31;49m23.2.1\u001B[0m\u001B[39;49m -> \u001B[0m\u001B[32;49m24.0\u001B[0m\r\n",
      "\u001B[1m[\u001B[0m\u001B[34;49mnotice\u001B[0m\u001B[1;39;49m]\u001B[0m\u001B[39;49m To update, run: \u001B[0m\u001B[32;49mpip install --upgrade pip\u001B[0m\r\n",
      "Note: you may need to restart the kernel to use updated packages.\n"
     ]
    }
   ],
   "execution_count": 1
  },
  {
   "cell_type": "markdown",
   "metadata": {},
   "source": [
    "You may want to consider using virtual environments, such as [`venv`](https://docs.python.org/3/library/venv.html) or [`conda`](https://www.anaconda.com/download). You'll also need an up-to-date version of the [Java development kit](https://www.oracle.com/java/technologies/downloads/) installed and the `JAVA_HOME` environment variable set. More detailed installation instructions and troubleshooting can be found [here](https://pyterrier.readthedocs.io/en/latest/installation.html).\n",
    "\n",
    "Now you should be able to import `pyterrier`:\n"
   ]
  },
  {
   "cell_type": "code",
   "metadata": {
    "ExecuteTime": {
     "end_time": "2024-04-24T15:11:03.897911Z",
     "start_time": "2024-04-24T15:10:57.232208Z"
    }
   },
   "source": [
    "import pyterrier as pt"
   ],
   "outputs": [],
   "execution_count": 2
  },
  {
   "cell_type": "markdown",
   "metadata": {},
   "source": [
    "## Configuration\n",
    "\n",
    "As PyTerrier uses Terrier under the hood, we need to initially load the corresponding Java package. In addition, we can set PyTerrier up to show progress bars in Jupyter notebooks correctly:\n"
   ]
  },
  {
   "cell_type": "code",
   "metadata": {
    "ExecuteTime": {
     "end_time": "2024-04-24T15:11:08.830602Z",
     "start_time": "2024-04-24T15:11:06.464103Z"
    }
   },
   "source": [
    "if not pt.started():\n",
    "    pt.init(tqdm=\"notebook\")"
   ],
   "outputs": [
    {
     "name": "stderr",
     "output_type": "stream",
     "text": [
      "PyTerrier 0.10.0 has loaded Terrier 5.8 (built by craigm on 2023-11-01 18:05) and terrier-helper 0.0.8\n",
      "\n",
      "No etc/terrier.properties, using terrier.default.properties for bootstrap configuration.\n"
     ]
    }
   ],
   "execution_count": 3
  },
  {
   "cell_type": "markdown",
   "metadata": {},
   "source": [
    "## A test run\n",
    "\n",
    "Time to test our setup! PyTerrier provides support for loading and indexing a large number of IR datasets (more on that later). Let's load the [ANTIQUE](https://arxiv.org/abs/1905.08957) dataset:\n"
   ]
  },
  {
   "cell_type": "code",
   "metadata": {
    "ExecuteTime": {
     "end_time": "2024-04-24T15:11:11.091412Z",
     "start_time": "2024-04-24T15:11:11.087054Z"
    }
   },
   "source": [
    "dataset = pt.get_dataset(\"irds:antique\")"
   ],
   "outputs": [],
   "execution_count": 4
  },
  {
   "cell_type": "markdown",
   "metadata": {},
   "source": [
    "Now we can print one of the documents in the corpus:\n"
   ]
  },
  {
   "cell_type": "code",
   "metadata": {
    "ExecuteTime": {
     "end_time": "2024-04-24T15:11:14.179232Z",
     "start_time": "2024-04-24T15:11:14.136475Z"
    }
   },
   "source": [
    "from pprint import pprint\n",
    "\n",
    "for doc in dataset.get_corpus_iter():\n",
    "    pprint(doc)\n",
    "    break"
   ],
   "outputs": [
    {
     "data": {
      "text/plain": [
       "antique documents:   0%|          | 0/403666 [00:00<?, ?it/s]"
      ],
      "application/vnd.jupyter.widget-view+json": {
       "version_major": 2,
       "version_minor": 0,
       "model_id": "a46bc2503d974d75bf89d9b1bae93258"
      }
     },
     "metadata": {},
     "output_type": "display_data"
    },
    {
     "name": "stdout",
     "output_type": "stream",
     "text": [
      "{'docno': '2020338_0',\n",
      " 'text': 'A small group of politicians believed strongly that the fact that '\n",
      "         'Saddam Hussien remained in power after the first Gulf War was a '\n",
      "         'signal of weakness to the rest of the world, one that invited '\n",
      "         'attacks and terrorism. Shortly after taking power with George Bush '\n",
      "         'in 2000 and after the attack on 9/11, they were able to use the '\n",
      "         'terrorist attacks to justify war with Iraq on this basis and '\n",
      "         'exaggerated threats of the development of weapons of mass '\n",
      "         'destruction. The military strength of the U.S. and the brutality of '\n",
      "         \"Saddam's regime led them to imagine that the military and political \"\n",
      "         'victory would be relatively easy.'}\n"
     ]
    }
   ],
   "execution_count": 5
  },
  {
   "metadata": {},
   "cell_type": "markdown",
   "source": [
    "\n",
    "If you see a document above now: Congratulations! The setup was successful. If not: Take a look at the [troubleshooting section](https://pyterrier.readthedocs.io/en/latest/installation.html#installation-troubleshooting) in the official documentation.\n"
   ]
  }
 ],
 "metadata": {
  "kernelspec": {
   "display_name": "pt",
   "language": "python",
   "name": "python3"
  },
  "language_info": {
   "codemirror_mode": {
    "name": "ipython",
    "version": 3
   },
   "file_extension": ".py",
   "mimetype": "text/x-python",
   "name": "python",
   "nbconvert_exporter": "python",
   "pygments_lexer": "ipython3",
   "version": "3.11.7"
  }
 },
 "nbformat": 4,
 "nbformat_minor": 2
}
