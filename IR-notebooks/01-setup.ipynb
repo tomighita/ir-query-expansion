{
 "cells": [
  {
   "cell_type": "markdown",
   "metadata": {},
   "source": [
    "# Introduction to PyTerrier\n",
    "\n",
    "_IN4325: Information retrieval lecture, TU Delft_\n",
    "\n",
    "**Part 1: Setup**\n",
    "\n",
    "[Terrier](http://terrier.org) is an open-source information retrieval platform aimed at reserach and experimentation. We'll use [PyTerrier](https://pyterrier.readthedocs.io/), which provides a Python API for Terrier, in this lecture. This series of notebooks gives a brief introduction to PyTerrier.\n",
    "\n",
    "## Installation\n",
    "\n",
    "PyTerrier can be installed using `pip`:\n"
   ]
  },
  {
   "cell_type": "code",
   "metadata": {
    "vscode": {
     "languageId": "shellscript"
    },
    "ExecuteTime": {
     "end_time": "2024-04-24T12:31:49.871211Z",
     "start_time": "2024-04-24T12:31:48.703717Z"
    }
   },
   "source": [
    "pip install python-terrier==0.10.0"
   ],
   "outputs": [
    {
     "name": "stdout",
     "output_type": "stream",
     "text": [
      "Requirement already satisfied: python-terrier==0.10.0 in ./env/lib/python3.12/site-packages (0.10.0)\r\n",
      "Requirement already satisfied: numpy in ./env/lib/python3.12/site-packages (from python-terrier==0.10.0) (1.26.4)\r\n",
      "Requirement already satisfied: pandas in ./env/lib/python3.12/site-packages (from python-terrier==0.10.0) (2.2.2)\r\n",
      "Requirement already satisfied: wget in ./env/lib/python3.12/site-packages (from python-terrier==0.10.0) (3.2)\r\n",
      "Requirement already satisfied: tqdm in ./env/lib/python3.12/site-packages (from python-terrier==0.10.0) (4.66.2)\r\n",
      "Requirement already satisfied: pyjnius>=1.4.2 in ./env/lib/python3.12/site-packages (from python-terrier==0.10.0) (1.6.1)\r\n",
      "Requirement already satisfied: matchpy in ./env/lib/python3.12/site-packages (from python-terrier==0.10.0) (0.5.5)\r\n",
      "Requirement already satisfied: scikit-learn in ./env/lib/python3.12/site-packages (from python-terrier==0.10.0) (1.4.2)\r\n",
      "Requirement already satisfied: deprecated in ./env/lib/python3.12/site-packages (from python-terrier==0.10.0) (1.2.14)\r\n",
      "Requirement already satisfied: chest in ./env/lib/python3.12/site-packages (from python-terrier==0.10.0) (0.2.3)\r\n",
      "Requirement already satisfied: scipy in ./env/lib/python3.12/site-packages (from python-terrier==0.10.0) (1.13.0)\r\n",
      "Requirement already satisfied: requests in ./env/lib/python3.12/site-packages (from python-terrier==0.10.0) (2.31.0)\r\n",
      "Requirement already satisfied: joblib in ./env/lib/python3.12/site-packages (from python-terrier==0.10.0) (1.4.0)\r\n",
      "Requirement already satisfied: nptyping==1.4.4 in ./env/lib/python3.12/site-packages (from python-terrier==0.10.0) (1.4.4)\r\n",
      "Requirement already satisfied: more-itertools in ./env/lib/python3.12/site-packages (from python-terrier==0.10.0) (10.2.0)\r\n",
      "Requirement already satisfied: ir-datasets>=0.3.2 in ./env/lib/python3.12/site-packages (from python-terrier==0.10.0) (0.5.6)\r\n",
      "Requirement already satisfied: jinja2 in ./env/lib/python3.12/site-packages (from python-terrier==0.10.0) (3.1.3)\r\n",
      "Requirement already satisfied: statsmodels in ./env/lib/python3.12/site-packages (from python-terrier==0.10.0) (0.14.2)\r\n",
      "Requirement already satisfied: ir-measures>=0.3.1 in ./env/lib/python3.12/site-packages (from python-terrier==0.10.0) (0.3.3)\r\n",
      "Requirement already satisfied: dill in ./env/lib/python3.12/site-packages (from python-terrier==0.10.0) (0.3.8)\r\n",
      "Requirement already satisfied: pytrec-eval-terrier>=0.5.3 in ./env/lib/python3.12/site-packages (from python-terrier==0.10.0) (0.5.6)\r\n",
      "Requirement already satisfied: typish>=1.7.0 in ./env/lib/python3.12/site-packages (from nptyping==1.4.4->python-terrier==0.10.0) (1.9.3)\r\n",
      "Requirement already satisfied: beautifulsoup4>=4.4.1 in ./env/lib/python3.12/site-packages (from ir-datasets>=0.3.2->python-terrier==0.10.0) (4.12.3)\r\n",
      "Requirement already satisfied: inscriptis>=2.2.0 in ./env/lib/python3.12/site-packages (from ir-datasets>=0.3.2->python-terrier==0.10.0) (2.5.0)\r\n",
      "Requirement already satisfied: lxml>=4.5.2 in ./env/lib/python3.12/site-packages (from ir-datasets>=0.3.2->python-terrier==0.10.0) (5.2.1)\r\n",
      "Requirement already satisfied: pyyaml>=5.3.1 in ./env/lib/python3.12/site-packages (from ir-datasets>=0.3.2->python-terrier==0.10.0) (6.0.1)\r\n",
      "Requirement already satisfied: trec-car-tools>=2.5.4 in ./env/lib/python3.12/site-packages (from ir-datasets>=0.3.2->python-terrier==0.10.0) (2.6)\r\n",
      "Requirement already satisfied: lz4>=3.1.10 in ./env/lib/python3.12/site-packages (from ir-datasets>=0.3.2->python-terrier==0.10.0) (4.3.3)\r\n",
      "Requirement already satisfied: warc3-wet>=0.2.3 in ./env/lib/python3.12/site-packages (from ir-datasets>=0.3.2->python-terrier==0.10.0) (0.2.3)\r\n",
      "Requirement already satisfied: warc3-wet-clueweb09>=0.2.5 in ./env/lib/python3.12/site-packages (from ir-datasets>=0.3.2->python-terrier==0.10.0) (0.2.5)\r\n",
      "Requirement already satisfied: zlib-state>=0.1.3 in ./env/lib/python3.12/site-packages (from ir-datasets>=0.3.2->python-terrier==0.10.0) (0.1.6)\r\n",
      "Requirement already satisfied: ijson>=3.1.3 in ./env/lib/python3.12/site-packages (from ir-datasets>=0.3.2->python-terrier==0.10.0) (3.2.3)\r\n",
      "Requirement already satisfied: pyautocorpus>=0.1.1 in ./env/lib/python3.12/site-packages (from ir-datasets>=0.3.2->python-terrier==0.10.0) (0.1.12)\r\n",
      "Requirement already satisfied: unlzw3>=0.2.1 in ./env/lib/python3.12/site-packages (from ir-datasets>=0.3.2->python-terrier==0.10.0) (0.2.2)\r\n",
      "Requirement already satisfied: cwl-eval>=1.0.10 in ./env/lib/python3.12/site-packages (from ir-measures>=0.3.1->python-terrier==0.10.0) (1.0.12)\r\n",
      "Requirement already satisfied: charset-normalizer<4,>=2 in ./env/lib/python3.12/site-packages (from requests->python-terrier==0.10.0) (3.3.2)\r\n",
      "Requirement already satisfied: idna<4,>=2.5 in ./env/lib/python3.12/site-packages (from requests->python-terrier==0.10.0) (3.7)\r\n",
      "Requirement already satisfied: urllib3<3,>=1.21.1 in ./env/lib/python3.12/site-packages (from requests->python-terrier==0.10.0) (2.2.1)\r\n",
      "Requirement already satisfied: certifi>=2017.4.17 in ./env/lib/python3.12/site-packages (from requests->python-terrier==0.10.0) (2024.2.2)\r\n",
      "Requirement already satisfied: heapdict in ./env/lib/python3.12/site-packages (from chest->python-terrier==0.10.0) (1.0.1)\r\n",
      "Requirement already satisfied: wrapt<2,>=1.10 in ./env/lib/python3.12/site-packages (from deprecated->python-terrier==0.10.0) (1.16.0)\r\n",
      "Requirement already satisfied: MarkupSafe>=2.0 in ./env/lib/python3.12/site-packages (from jinja2->python-terrier==0.10.0) (2.1.5)\r\n",
      "Requirement already satisfied: multiset<3.0,>=2.0 in ./env/lib/python3.12/site-packages (from matchpy->python-terrier==0.10.0) (2.1.1)\r\n",
      "Requirement already satisfied: python-dateutil>=2.8.2 in ./env/lib/python3.12/site-packages (from pandas->python-terrier==0.10.0) (2.9.0.post0)\r\n",
      "Requirement already satisfied: pytz>=2020.1 in ./env/lib/python3.12/site-packages (from pandas->python-terrier==0.10.0) (2024.1)\r\n",
      "Requirement already satisfied: tzdata>=2022.7 in ./env/lib/python3.12/site-packages (from pandas->python-terrier==0.10.0) (2024.1)\r\n",
      "Requirement already satisfied: threadpoolctl>=2.0.0 in ./env/lib/python3.12/site-packages (from scikit-learn->python-terrier==0.10.0) (3.4.0)\r\n",
      "Requirement already satisfied: patsy>=0.5.6 in ./env/lib/python3.12/site-packages (from statsmodels->python-terrier==0.10.0) (0.5.6)\r\n",
      "Requirement already satisfied: packaging>=21.3 in ./env/lib/python3.12/site-packages (from statsmodels->python-terrier==0.10.0) (24.0)\r\n",
      "Requirement already satisfied: soupsieve>1.2 in ./env/lib/python3.12/site-packages (from beautifulsoup4>=4.4.1->ir-datasets>=0.3.2->python-terrier==0.10.0) (2.5)\r\n",
      "Requirement already satisfied: six in ./env/lib/python3.12/site-packages (from patsy>=0.5.6->statsmodels->python-terrier==0.10.0) (1.16.0)\r\n",
      "Requirement already satisfied: cbor>=1.0.0 in ./env/lib/python3.12/site-packages (from trec-car-tools>=2.5.4->ir-datasets>=0.3.2->python-terrier==0.10.0) (1.0.0)\r\n",
      "Note: you may need to restart the kernel to use updated packages.\n"
     ]
    }
   ],
   "execution_count": 1
  },
  {
   "cell_type": "markdown",
   "metadata": {},
   "source": [
    "You may want to consider using virtual environments, such as [`venv`](https://docs.python.org/3/library/venv.html) or [`conda`](https://www.anaconda.com/download). You'll also need an up-to-date version of the [Java development kit](https://www.oracle.com/java/technologies/downloads/) installed and the `JAVA_HOME` environment variable set. More detailed installation instructions and troubleshooting can be found [here](https://pyterrier.readthedocs.io/en/latest/installation.html).\n",
    "\n",
    "Now you should be able to import `pyterrier`:\n"
   ]
  },
  {
   "metadata": {
    "ExecuteTime": {
     "end_time": "2024-04-24T12:31:52.062359Z",
     "start_time": "2024-04-24T12:31:52.059410Z"
    }
   },
   "cell_type": "code",
   "source": [
    "import os\n",
    "\n",
    "os.environ[\"JAVA_HOME\"] = \"/Users/tomighita/Library/Java/JavaVirtualMachines/openjdk-21/Contents/Home\""
   ],
   "outputs": [],
   "execution_count": 2
  },
  {
   "cell_type": "code",
   "metadata": {
    "ExecuteTime": {
     "end_time": "2024-04-24T12:31:55.163374Z",
     "start_time": "2024-04-24T12:31:54.781728Z"
    }
   },
   "source": [
    "import pyterrier as pt"
   ],
   "outputs": [],
   "execution_count": 3
  },
  {
   "cell_type": "markdown",
   "metadata": {},
   "source": [
    "## Configuration\n",
    "\n",
    "As PyTerrier uses Terrier under the hood, we need to initially load the corresponding Java package. In addition, we can set PyTerrier up to show progress bars in Jupyter notebooks correctly:\n"
   ]
  },
  {
   "cell_type": "code",
   "metadata": {
    "ExecuteTime": {
     "end_time": "2024-04-24T12:31:59.310198Z",
     "start_time": "2024-04-24T12:31:57.504982Z"
    }
   },
   "source": [
    "if not pt.started():\n",
    "    pt.init(tqdm=\"notebook\")"
   ],
   "outputs": [
    {
     "name": "stderr",
     "output_type": "stream",
     "text": [
      "PyTerrier 0.10.0 has loaded Terrier 5.8 (built by craigm on 2023-11-01 18:05) and terrier-helper 0.0.8\n",
      "\n",
      "No etc/terrier.properties, using terrier.default.properties for bootstrap configuration.\n"
     ]
    }
   ],
   "execution_count": 4
  },
  {
   "cell_type": "markdown",
   "metadata": {},
   "source": [
    "## A test run\n",
    "\n",
    "Time to test our setup! PyTerrier provides support for loading and indexing a large number of IR datasets (more on that later). Let's load the [ANTIQUE](https://arxiv.org/abs/1905.08957) dataset:\n"
   ]
  },
  {
   "cell_type": "code",
   "metadata": {
    "ExecuteTime": {
     "end_time": "2024-04-24T12:32:00.097162Z",
     "start_time": "2024-04-24T12:32:00.093613Z"
    }
   },
   "source": [
    "dataset = pt.get_dataset(\"irds:antique\")"
   ],
   "outputs": [],
   "execution_count": 5
  },
  {
   "cell_type": "markdown",
   "metadata": {},
   "source": [
    "Now we can print one of the documents in the corpus:\n"
   ]
  },
  {
   "cell_type": "code",
   "metadata": {
    "ExecuteTime": {
     "end_time": "2024-04-24T12:32:01.673512Z",
     "start_time": "2024-04-24T12:32:01.635260Z"
    }
   },
   "source": [
    "from pprint import pprint\n",
    "\n",
    "for doc in dataset.get_corpus_iter():\n",
    "    pprint(doc)\n",
    "    break"
   ],
   "outputs": [
    {
     "data": {
      "text/plain": [
       "antique documents:   0%|          | 0/403666 [00:00<?, ?it/s]"
      ],
      "application/vnd.jupyter.widget-view+json": {
       "version_major": 2,
       "version_minor": 0,
       "model_id": "45ca7101ed8e4c609a64e64194f57088"
      }
     },
     "metadata": {},
     "output_type": "display_data"
    },
    {
     "name": "stdout",
     "output_type": "stream",
     "text": [
      "{'docno': '2020338_0',\n",
      " 'text': 'A small group of politicians believed strongly that the fact that '\n",
      "         'Saddam Hussien remained in power after the first Gulf War was a '\n",
      "         'signal of weakness to the rest of the world, one that invited '\n",
      "         'attacks and terrorism. Shortly after taking power with George Bush '\n",
      "         'in 2000 and after the attack on 9/11, they were able to use the '\n",
      "         'terrorist attacks to justify war with Iraq on this basis and '\n",
      "         'exaggerated threats of the development of weapons of mass '\n",
      "         'destruction. The military strength of the U.S. and the brutality of '\n",
      "         \"Saddam's regime led them to imagine that the military and political \"\n",
      "         'victory would be relatively easy.'}\n"
     ]
    }
   ],
   "execution_count": 6
  },
  {
   "metadata": {},
   "cell_type": "markdown",
   "source": [
    "\n",
    "If you see a document above now: Congratulations! The setup was successful. If not: Take a look at the [troubleshooting section](https://pyterrier.readthedocs.io/en/latest/installation.html#installation-troubleshooting) in the official documentation.\n"
   ]
  }
 ],
 "metadata": {
  "kernelspec": {
   "display_name": "pt",
   "language": "python",
   "name": "python3"
  },
  "language_info": {
   "codemirror_mode": {
    "name": "ipython",
    "version": 3
   },
   "file_extension": ".py",
   "mimetype": "text/x-python",
   "name": "python",
   "nbconvert_exporter": "python",
   "pygments_lexer": "ipython3",
   "version": "3.11.7"
  }
 },
 "nbformat": 4,
 "nbformat_minor": 2
}
